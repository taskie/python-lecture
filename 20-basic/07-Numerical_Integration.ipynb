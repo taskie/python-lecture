{
 "cells": [
  {
   "cell_type": "markdown",
   "metadata": {
    "toc": "true"
   },
   "source": [
    "# Table of Contents\n",
    " <p><div class=\"lev1\"><a href=\"#Exercise\">Exercise</a></div><div class=\"lev2\"><a href=\"#プログラム：ln-2\">プログラム：ln 2</a></div><div class=\"lev2\"><a href=\"#課題：Numerical-Integration\">課題：Numerical Integration</a></div><div class=\"lev3\"><a href=\"#出力例\">出力例</a></div><div class=\"lev4\"><a href=\"##1\">#1</a></div><div class=\"lev5\"><a href=\"#コード\">コード</a></div><div class=\"lev5\"><a href=\"#出力\">出力</a></div><div class=\"lev4\"><a href=\"##2\">#2</a></div><div class=\"lev5\"><a href=\"#コード\">コード</a></div><div class=\"lev5\"><a href=\"#出力\">出力</a></div><div class=\"lev4\"><a href=\"##3\">#3</a></div><div class=\"lev5\"><a href=\"#コード\">コード</a></div><div class=\"lev5\"><a href=\"#出力\">出力</a></div><div class=\"lev1\"><a href=\"#Lecture\">Lecture</a></div><div class=\"lev2\"><a href=\"#関数\">関数</a></div><div class=\"lev3\"><a href=\"#関数とオブジェクト\">関数とオブジェクト</a></div><div class=\"lev3\"><a href=\"#関数を定義する\">関数を定義する</a></div><div class=\"lev3\"><a href=\"#戻り値のある関数を定義する\">戻り値のある関数を定義する</a></div><div class=\"lev3\"><a href=\"#キーワード引数\">キーワード引数</a></div><div class=\"lev3\"><a href=\"#変数に関数を代入する\">変数に関数を代入する</a></div><div class=\"lev3\"><a href=\"#関数に関数を渡す\">関数に関数を渡す</a></div><div class=\"lev3\"><a href=\"#ラムダ式を使う\">ラムダ式を使う</a></div><div class=\"lev2\"><a href=\"#タプル\">タプル</a></div><div class=\"lev3\"><a href=\"#辞書の列挙とタプル\">辞書の列挙とタプル</a></div><div class=\"lev3\"><a href=\"#辞書を-value-でソートする\">辞書を value でソートする</a></div><div class=\"lev2\"><a href=\"#モジュール\">モジュール</a></div><div class=\"lev3\"><a href=\"#math-モジュール\"><code>math</code> モジュール</a></div>"
   ]
  },
  {
   "cell_type": "markdown",
   "metadata": {},
   "source": [
    "**07**\n",
    "\n",
    "キーワード：関数・ラムダ式・タプル・モジュール"
   ]
  },
  {
   "cell_type": "markdown",
   "metadata": {},
   "source": [
    "# Exercise\n",
    "\n",
    "## プログラム：ln 2"
   ]
  },
  {
   "cell_type": "markdown",
   "metadata": {},
   "source": [
    "* https://en.wikipedia.org/wiki/Numerical_integration\n",
    "* https://en.wikipedia.org/wiki/Rectangle_method\n",
    "\n",
    "$$\n",
    "\\int_{a}^{b} f(x)\\ \\mathrm{d}x\n",
    "\\approx h\\cdot\\sum_{n = 0}^{\\mathrm{step} - 1}\\ f(a + nh + \\frac{h}{2}) \\\\\n",
    "\\mathrm{where}\\ h = \\frac{b - a}{\\mathrm{step}}\n",
    "$$\n",
    "\n",
    "* 以下は $\\frac{1}{x}$ の 1 から 2 までの定積分（長方形積分、step = 1000）を行う（$\\ln 2$ を求める）プログラムである"
   ]
  },
  {
   "cell_type": "code",
   "execution_count": 1,
   "metadata": {
    "collapsed": false,
    "run_control": {
     "frozen": false,
     "read_only": false
    }
   },
   "outputs": [
    {
     "name": "stdout",
     "output_type": "stream",
     "text": [
      "0.6931471493099519\n"
     ]
    }
   ],
   "source": [
    "h = (2 - 1) / 1000\n",
    "h_half = h / 2\n",
    "result = 0\n",
    "for n in range(1000):\n",
    "    x = 1 + n * h + h_half\n",
    "    result += 1 / x\n",
    "print(h * result)"
   ]
  },
  {
   "cell_type": "markdown",
   "metadata": {},
   "source": [
    "## 課題：Numerical Integration"
   ]
  },
  {
   "cell_type": "markdown",
   "metadata": {},
   "source": [
    "* これを汎用的な関数に書き直そう（`f`, `a`, `b`, `step` を引数に取る関数 `integrate` を定義しよう）\n",
    "    * `step` はキーワード引数にし、指定しなければ 1000 になるようにしよう"
   ]
  },
  {
   "cell_type": "markdown",
   "metadata": {},
   "source": [
    "### 出力例\n",
    "\n",
    "#### #1\n",
    "\n",
    "##### コード\n",
    "\n",
    "```python\n",
    "import math\n",
    "\n",
    "def f(x):\n",
    "    return 1 / x\n",
    "\n",
    "print(integrate(f, 1, 2))\n",
    "print(integrate(f, 1, math.e))\n",
    "print(integrate(f, 1, 10))\n",
    "```\n",
    "\n",
    "##### 出力\n",
    "\n",
    "```\n",
    "0.6931471493099519\n",
    "0.9999998936285606\n",
    "2.302581751791877\n",
    "```\n",
    "\n",
    "#### #2\n",
    "\n",
    "##### コード\n",
    "\n",
    "```python\n",
    "print(integrate(lambda x: 1, 0, 1))\n",
    "print(integrate(lambda x: x, 0, 1))\n",
    "print(integrate(lambda x: x ** 2, 0, 1))\n",
    "print(integrate(lambda x: x ** 3, 0, 1))\n",
    "```\n",
    "\n",
    "##### 出力\n",
    "\n",
    "```\n",
    "1.0\n",
    "0.5\n",
    "0.3333332499999999\n",
    "0.2499998750000002\n",
    "```\n",
    "\n",
    "#### #3\n",
    "\n",
    "##### コード\n",
    "\n",
    "```python\n",
    "import math\n",
    "\n",
    "def f(x):\n",
    "    return 1 / (x ** 2 + 1)\n",
    "\n",
    "def check_precision(step):\n",
    "    result = 4 * integrate(f, 0, 1, step=step)\n",
    "    s = 'step: {0:7d} | pi: {1:.15f} | diff: {2:+.15f}'\n",
    "    print(s.format(step, result, result - math.pi))\n",
    "\n",
    "for step in [1, 100, 10000, 1000000]:\n",
    "    check_precision(step)\n",
    "```\n",
    "\n",
    "##### 出力\n",
    "\n",
    "```\n",
    "step:       1 | pi: 3.200000000000000 | diff: +0.058407346410207\n",
    "step:     100 | pi: 3.141600986923125 | diff: +0.000008333333332\n",
    "step:   10000 | pi: 3.141592654423134 | diff: +0.000000000833341\n",
    "step: 1000000 | pi: 3.141592653589764 | diff: -0.000000000000029\n",
    "```"
   ]
  },
  {
   "cell_type": "markdown",
   "metadata": {},
   "source": [
    "# Lecture\n",
    "\n",
    "## 関数\n",
    "\n",
    "### 関数とオブジェクト"
   ]
  },
  {
   "cell_type": "code",
   "execution_count": 2,
   "metadata": {
    "collapsed": false,
    "run_control": {
     "frozen": false,
     "read_only": false
    }
   },
   "outputs": [
    {
     "name": "stdout",
     "output_type": "stream",
     "text": [
      " 1  2  3  4  5  6  7  8  9 \n",
      " 2  4  6  8 10 12 14 16 18 \n",
      " 3  6  9 12 15 18 21 24 27 \n",
      " 4  8 12 16 20 24 28 32 36 \n",
      " 5 10 15 20 25 30 35 40 45 \n",
      " 6 12 18 24 30 36 42 48 54 \n",
      " 7 14 21 28 35 42 49 56 63 \n",
      " 8 16 24 32 40 48 56 64 72 \n",
      " 9 18 27 36 45 54 63 72 81 \n"
     ]
    }
   ],
   "source": [
    "n = 9\n",
    "l = len(str(n * n))\n",
    "for i in range(1, n + 1):\n",
    "    for j in range(1, n + 1):\n",
    "        print(str(i * j).rjust(l), end=' ')\n",
    "    print()"
   ]
  },
  {
   "cell_type": "markdown",
   "metadata": {},
   "source": [
    "* `len`, `str`, `range`, `print` は**関数 (function)**である\n",
    "    * 関数に括弧（`(...)`）を付けて**呼び出す (call)**  と、何らかの効果が発揮される\n",
    "    * **引数 (ひきすう、argument)** が必要な関数もある（引数は括弧に入れて渡す）\n",
    "        * `range(n)`, `range(start, end)`, `range(start, end, step)` のように引数の個数が変わる関数もある（可変長引数）\n",
    "        * `print()` のように引数なしで呼べる関数もある\n",
    "        * `print` の `end=` のようにして指定する引数もある（名前付き引数、パラメータ引数）\n",
    "    * 関数の結果として**戻り値 (返り値、return value)** が返ってくる\n",
    "        * （Python では）戻り値が無いように見える関数は `None` という値を返している\n",
    "    * 例\n",
    "        * `len` は引数として渡した**オブジェクト**の「長さ」を返す関数\n",
    "            * 数値・文字列・ブール値・関数・None などの「モノ」を総称してオブジェクトと呼ぶ\n",
    "            * Python ではほとんどのモノがオブジェクトであると考えてよい\n",
    "        * `str` は引数として渡したオブジェクトの文字列表記を返す関数\n",
    "        * `range` は繰り返し回数などを引数にとり「`range` 型のオブジェクト」を返す関数\n",
    "            * `range` 型のオブジェクトは `for ... in ...` を使って列挙 (enumerate) することができる\n",
    "        * `print` はオブジェクトの文字列表記を出力して `None` を返す関数\n",
    "* `format` や `rjust` は文字列 (`str`) オブジェクトに属する**メソッド (method)**である\n",
    "    * オブジェクトの後に `.`（ピリオド）を付け、メソッド名と引数を与えるとメソッドを呼ぶことができる"
   ]
  },
  {
   "cell_type": "markdown",
   "metadata": {},
   "source": [
    "### 関数を定義する"
   ]
  },
  {
   "cell_type": "code",
   "execution_count": 3,
   "metadata": {
    "collapsed": false,
    "run_control": {
     "frozen": false,
     "read_only": false
    },
    "scrolled": true
   },
   "outputs": [
    {
     "name": "stdout",
     "output_type": "stream",
     "text": [
      "Hello, world!\n",
      "Hello, world!\n",
      "Hello, world!\n"
     ]
    }
   ],
   "source": [
    "def greet():\n",
    "    print('Hello, world!')\n",
    "\n",
    "greet()\n",
    "greet()\n",
    "greet()"
   ]
  },
  {
   "cell_type": "markdown",
   "metadata": {},
   "source": [
    "* `def` で関数を定義することができる"
   ]
  },
  {
   "cell_type": "code",
   "execution_count": 4,
   "metadata": {
    "collapsed": false,
    "run_control": {
     "frozen": false,
     "read_only": false
    },
    "scrolled": true
   },
   "outputs": [
    {
     "name": "stdout",
     "output_type": "stream",
     "text": [
      "Hello, Alice!\n",
      "Hello, Bob!\n"
     ]
    }
   ],
   "source": [
    "def greet(name):\n",
    "    print('Hello, {0}!'.format(name))\n",
    "\n",
    "greet('Alice')\n",
    "greet('Bob')"
   ]
  },
  {
   "cell_type": "markdown",
   "metadata": {},
   "source": [
    "* 関数は引数を取ることができる"
   ]
  },
  {
   "cell_type": "code",
   "execution_count": 5,
   "metadata": {
    "collapsed": false,
    "run_control": {
     "frozen": false,
     "read_only": false
    }
   },
   "outputs": [
    {
     "name": "stdout",
     "output_type": "stream",
     "text": [
      "Good morning, Alice!\n",
      "Hello, Bob!\n"
     ]
    }
   ],
   "source": [
    "def greet(name, hour):\n",
    "    if hour <= 4:\n",
    "        print('Good night, {0}!'.format(name))\n",
    "    elif hour <= 10:\n",
    "        print('Good morning, {0}!'.format(name))\n",
    "    elif hour <= 17:\n",
    "        print('Hello, {0}!'.format(name))\n",
    "    else:\n",
    "        print('Good evening, {0}!'.format(name))\n",
    "\n",
    "greet('Alice', 10)\n",
    "greet('Bob', 14)"
   ]
  },
  {
   "cell_type": "markdown",
   "metadata": {},
   "source": [
    "* 引数は複数取ることができる"
   ]
  },
  {
   "cell_type": "markdown",
   "metadata": {},
   "source": [
    "### 戻り値のある関数を定義する"
   ]
  },
  {
   "cell_type": "code",
   "execution_count": 6,
   "metadata": {
    "collapsed": false,
    "run_control": {
     "frozen": false,
     "read_only": false
    }
   },
   "outputs": [
    {
     "name": "stdout",
     "output_type": "stream",
     "text": [
      "Good morning\n",
      "Hello\n"
     ]
    }
   ],
   "source": [
    "def create_greeting(hour):\n",
    "    if hour <= 4:\n",
    "        return 'Good night'\n",
    "    elif hour <= 10:\n",
    "        return 'Good morning'\n",
    "    elif hour <= 17:\n",
    "        return 'Hello'\n",
    "    else:\n",
    "        return 'Good evening'\n",
    "\n",
    "print(create_greeting(10))\n",
    "print(create_greeting(14))"
   ]
  },
  {
   "cell_type": "markdown",
   "metadata": {},
   "source": [
    "* `return` で戻り値を返すことができる\n",
    "* `return` は複数書くこともできる\n",
    "    * `return` すると呼ばれた関数 (callee) は終了し、呼び出し元 (caller) に処理が戻る"
   ]
  },
  {
   "cell_type": "code",
   "execution_count": 7,
   "metadata": {
    "collapsed": false,
    "run_control": {
     "frozen": false,
     "read_only": false
    }
   },
   "outputs": [
    {
     "name": "stdout",
     "output_type": "stream",
     "text": [
      "Good morning, Alice!\n",
      "Hello, Bob!\n"
     ]
    }
   ],
   "source": [
    "def create_message(name, hour):\n",
    "    return '{0}, {1}!'.format(create_greeting(hour), name)\n",
    "\n",
    "def greet(name, hour):\n",
    "    print(create_message(name, hour))\n",
    "\n",
    "greet('Alice', 10)\n",
    "greet('Bob', 14)"
   ]
  },
  {
   "cell_type": "markdown",
   "metadata": {},
   "source": [
    "* 共通する処理を関数にくくり出すことによってコードを簡明にすることができる\n",
    "* Python では関数を組み合わせてプログラムを書くのが基本になる"
   ]
  },
  {
   "cell_type": "markdown",
   "metadata": {},
   "source": [
    "### キーワード引数"
   ]
  },
  {
   "cell_type": "code",
   "execution_count": 8,
   "metadata": {
    "collapsed": false,
    "run_control": {
     "frozen": false,
     "read_only": false
    }
   },
   "outputs": [
    {
     "name": "stdout",
     "output_type": "stream",
     "text": [
      "Hello, Alice!\n",
      "Good evening, Alice!\n"
     ]
    }
   ],
   "source": [
    "def greet(name, hour=12):\n",
    "    print(create_message(name, hour))\n",
    "\n",
    "greet('Alice')\n",
    "greet('Alice', 20)"
   ]
  },
  {
   "cell_type": "markdown",
   "metadata": {},
   "source": [
    "* 関数定義の引数部で `=` を使うことで省略可能な引数にすることができる（デフォルト引数）"
   ]
  },
  {
   "cell_type": "code",
   "execution_count": 9,
   "metadata": {
    "collapsed": false,
    "run_control": {
     "frozen": false,
     "read_only": false
    },
    "scrolled": true
   },
   "outputs": [
    {
     "ename": "SyntaxError",
     "evalue": "non-default argument follows default argument (<ipython-input-9-6a2a64076486>, line 1)",
     "output_type": "error",
     "traceback": [
      "\u001b[0;36m  File \u001b[0;32m\"<ipython-input-9-6a2a64076486>\"\u001b[0;36m, line \u001b[0;32m1\u001b[0m\n\u001b[0;31m    def greet(name='world', hour):\u001b[0m\n\u001b[0m             ^\u001b[0m\n\u001b[0;31mSyntaxError\u001b[0m\u001b[0;31m:\u001b[0m non-default argument follows default argument\n"
     ]
    }
   ],
   "source": [
    "def greet(name='world', hour):\n",
    "    print(create_message(name, hour))"
   ]
  },
  {
   "cell_type": "markdown",
   "metadata": {},
   "source": [
    "* デフォルト引数の後に通常の引数を置くことはできない"
   ]
  },
  {
   "cell_type": "code",
   "execution_count": 10,
   "metadata": {
    "collapsed": false,
    "run_control": {
     "frozen": false,
     "read_only": false
    }
   },
   "outputs": [
    {
     "name": "stdout",
     "output_type": "stream",
     "text": [
      "Hello, world!\n",
      "Hello, Alice!\n",
      "Good evening, Alice!\n",
      "Good morning, Bob!\n",
      "Good night, world!\n"
     ]
    }
   ],
   "source": [
    "def greet(name='world', hour=12):\n",
    "    print(create_message(name, hour))\n",
    "\n",
    "greet()\n",
    "greet('Alice')\n",
    "greet('Alice', 20)\n",
    "greet(hour=7, name='Bob')\n",
    "greet(hour=0)"
   ]
  },
  {
   "cell_type": "markdown",
   "metadata": {},
   "source": [
    "* デフォルト引数をキーワード引数として使うことができる\n",
    "* キーワード引数を使えば自由な順序で引数を書くことができる"
   ]
  },
  {
   "cell_type": "markdown",
   "metadata": {},
   "source": [
    "### 変数に関数を代入する"
   ]
  },
  {
   "cell_type": "code",
   "execution_count": 11,
   "metadata": {
    "collapsed": false,
    "run_control": {
     "frozen": false,
     "read_only": false
    }
   },
   "outputs": [
    {
     "name": "stdout",
     "output_type": "stream",
     "text": [
      "<function f1 at 0x103b01510>\n",
      "0.3333333333333333\n",
      "<function f2 at 0x103b01488>\n",
      "0.1\n"
     ]
    }
   ],
   "source": [
    "def f1(x):\n",
    "    return 1 / x\n",
    "\n",
    "def f2(x):\n",
    "    return 1 / (x ** 2 + 1)\n",
    "\n",
    "f = f1\n",
    "print(f)\n",
    "print(f(3))\n",
    "f = f2\n",
    "print(f)\n",
    "print(f(3))"
   ]
  },
  {
   "cell_type": "markdown",
   "metadata": {},
   "source": [
    "* Python では関数もまたオブジェクトである\n",
    "* 変数に関数を代入することもできる"
   ]
  },
  {
   "cell_type": "markdown",
   "metadata": {},
   "source": [
    "### 関数に関数を渡す"
   ]
  },
  {
   "cell_type": "code",
   "execution_count": 12,
   "metadata": {
    "collapsed": false,
    "run_control": {
     "frozen": false,
     "read_only": false
    }
   },
   "outputs": [
    {
     "name": "stdout",
     "output_type": "stream",
     "text": [
      "[1, 2, 3, 4, 13, 14, 21, 32, 38]\n",
      "[1, 13, 14, 2, 21, 3, 32, 38, 4]\n"
     ]
    }
   ],
   "source": [
    "xs = [1, 13, 4, 14, 3, 32, 2, 21, 38]\n",
    "print(sorted(xs))\n",
    "print(sorted(xs, key=str))"
   ]
  },
  {
   "cell_type": "markdown",
   "metadata": {},
   "source": [
    "* 関数に関数を渡すこともできる（高階関数, higher-order function）\n",
    "* 例として `sorted` 関数がある\n",
    "* `sorted` の `key=` キーワード引数に関数を渡すとソートの基準が変化する\n",
    "    * `key=str` とすると「値を `str` 関数で変換した結果（戻り値）の文字列」を基準としたソートが行われる\n",
    "        * 文字列の比較では `'14'` は `'2'` より前に来る"
   ]
  },
  {
   "cell_type": "code",
   "execution_count": 13,
   "metadata": {
    "collapsed": false,
    "run_control": {
     "frozen": false,
     "read_only": false
    }
   },
   "outputs": [
    {
     "name": "stdout",
     "output_type": "stream",
     "text": [
      "[-9, -4, -1, 1, 2, 3, 5]\n",
      "[-1, 1, 2, 3, -4, 5, -9]\n"
     ]
    }
   ],
   "source": [
    "xs = [3, -1, -4, 1, 5, -9, 2]\n",
    "print(sorted(xs))\n",
    "print(sorted(xs, key=abs))"
   ]
  },
  {
   "cell_type": "markdown",
   "metadata": {},
   "source": [
    "* `key=abs` とすれば絶対値での比較が行われる"
   ]
  },
  {
   "cell_type": "code",
   "execution_count": 14,
   "metadata": {
    "collapsed": false,
    "run_control": {
     "frozen": false,
     "read_only": false
    }
   },
   "outputs": [
    {
     "name": "stdout",
     "output_type": "stream",
     "text": [
      "[-9, -4, -1, 1, 2, 3, 5]\n",
      "[5, 3, 2, 1, -1, -4, -9]\n",
      "[5, 3, 2, 1, -1, -4, -9]\n",
      "[5, 3, 2, 1, -1, -4, -9]\n"
     ]
    }
   ],
   "source": [
    "def negate(x):\n",
    "    return -x\n",
    "\n",
    "print(sorted(xs))\n",
    "print(sorted(xs, key=negate))\n",
    "print(sorted(xs)[::-1])\n",
    "print(list(reversed(sorted(xs))))"
   ]
  },
  {
   "cell_type": "markdown",
   "metadata": {},
   "source": [
    "* 自作の関数を指定することもできる\n",
    "    * 値を負にする（大小関係を逆にする）関数を渡すことで降順にソートできる\n",
    "    * `[::-1]` や `reversed` 関数でも似たようなことはできる"
   ]
  },
  {
   "cell_type": "markdown",
   "metadata": {},
   "source": [
    "### ラムダ式を使う"
   ]
  },
  {
   "cell_type": "code",
   "execution_count": 15,
   "metadata": {
    "collapsed": false,
    "run_control": {
     "frozen": false,
     "read_only": false
    }
   },
   "outputs": [
    {
     "name": "stdout",
     "output_type": "stream",
     "text": [
      "[5, 3, 2, 1, -1, -4, -9]\n"
     ]
    }
   ],
   "source": [
    "print(sorted(xs, key=lambda x: -x))"
   ]
  },
  {
   "cell_type": "markdown",
   "metadata": {},
   "source": [
    "* `lambda` キーワードを使うことで単純な関数を即座に定義できる\n",
    "    * やっていることは前の例と同じ"
   ]
  },
  {
   "cell_type": "markdown",
   "metadata": {},
   "source": [
    "## タプル"
   ]
  },
  {
   "cell_type": "markdown",
   "metadata": {},
   "source": [
    "### 辞書の列挙とタプル"
   ]
  },
  {
   "cell_type": "code",
   "execution_count": 16,
   "metadata": {
    "collapsed": false,
    "run_control": {
     "frozen": false,
     "read_only": false
    }
   },
   "outputs": [
    {
     "name": "stdout",
     "output_type": "stream",
     "text": [
      "[('Li', 3), ('Be', 4), ('C', 6), ('H', 1), ('B', 5), ('He', 2)]\n",
      "('Li', 3)\n"
     ]
    }
   ],
   "source": [
    "symbol_to_z = {'H': 1, 'He': 2, 'Li': 3, 'Be': 4, 'B': 5, 'C': 6}\n",
    "tuples = list(symbol_to_z.items())\n",
    "print(tuples)\n",
    "print(tuples[0])"
   ]
  },
  {
   "cell_type": "markdown",
   "metadata": {},
   "source": [
    "* 辞書を items で列挙して得られるものは**タプル (`tuple`) 型**である\n",
    "* `items()` の結果を `list` 関数に通すとタプルのリストが得られる"
   ]
  },
  {
   "cell_type": "code",
   "execution_count": 17,
   "metadata": {
    "collapsed": false,
    "run_control": {
     "frozen": false,
     "read_only": false
    }
   },
   "outputs": [
    {
     "name": "stdout",
     "output_type": "stream",
     "text": [
      "2\n",
      "B\n",
      "5\n",
      "B 5\n"
     ]
    }
   ],
   "source": [
    "t = ('B', 5)\n",
    "print(len(t))\n",
    "print(t[0])\n",
    "print(t[1])\n",
    "(symbol, z) = t\n",
    "print(symbol, z)"
   ]
  },
  {
   "cell_type": "markdown",
   "metadata": {},
   "source": [
    "* 括弧とコンマ (`,`) を使うことでタプルを作ることができる\n",
    "* タプルの中身は `t[i]` のようにして取り出すことができる\n",
    "* `(x, y) = t` のようにするとタプルの中身をそれぞれの変数に代入できる\n",
    "    * `for (symbol, z) in symbol_to_z.items():` という書き方も同様の原理"
   ]
  },
  {
   "cell_type": "code",
   "execution_count": 18,
   "metadata": {
    "collapsed": false,
    "run_control": {
     "frozen": false,
     "read_only": false
    }
   },
   "outputs": [
    {
     "ename": "TypeError",
     "evalue": "'tuple' object does not support item assignment",
     "output_type": "error",
     "traceback": [
      "\u001b[0;31m---------------------------------------------------------------------------\u001b[0m",
      "\u001b[0;31mTypeError\u001b[0m                                 Traceback (most recent call last)",
      "\u001b[0;32m<ipython-input-18-6e5fc4c1fe4b>\u001b[0m in \u001b[0;36m<module>\u001b[0;34m()\u001b[0m\n\u001b[0;32m----> 1\u001b[0;31m \u001b[0mt\u001b[0m\u001b[0;34m[\u001b[0m\u001b[0;36m0\u001b[0m\u001b[0;34m]\u001b[0m \u001b[0;34m=\u001b[0m \u001b[0;36m0\u001b[0m\u001b[0;34m\u001b[0m\u001b[0m\n\u001b[0m",
      "\u001b[0;31mTypeError\u001b[0m: 'tuple' object does not support item assignment"
     ]
    }
   ],
   "source": [
    "t[0] = 0"
   ]
  },
  {
   "cell_type": "markdown",
   "metadata": {},
   "source": [
    "* タプルの内容を変更することはできない\n",
    "    * 破壊的操作ができない"
   ]
  },
  {
   "cell_type": "markdown",
   "metadata": {},
   "source": [
    "### 辞書を value でソートする"
   ]
  },
  {
   "cell_type": "code",
   "execution_count": 19,
   "metadata": {
    "collapsed": false,
    "run_control": {
     "frozen": false,
     "read_only": false
    }
   },
   "outputs": [
    {
     "name": "stdout",
     "output_type": "stream",
     "text": [
      "[('B', 5), ('Be', 4), ('C', 6), ('H', 1), ('He', 2), ('Li', 3)]\n",
      "[('H', 1), ('He', 2), ('Li', 3), ('Be', 4), ('B', 5), ('C', 6)]\n"
     ]
    }
   ],
   "source": [
    "def at_1(t):\n",
    "    return t[1]\n",
    "\n",
    "symbol_to_z = {'H': 1, 'He': 2, 'Li': 3, 'Be': 4, 'B': 5, 'C': 6}\n",
    "print(sorted(symbol_to_z.items()))\n",
    "print(sorted(symbol_to_z.items(), key=at_1))"
   ]
  },
  {
   "cell_type": "markdown",
   "metadata": {},
   "source": [
    "* `sorted` の `keys=` に「タプルを引数に取り 1 要素目を返す関数」を渡すことで、辞書を value でソートできる"
   ]
  },
  {
   "cell_type": "code",
   "execution_count": 20,
   "metadata": {
    "collapsed": false,
    "run_control": {
     "frozen": false,
     "read_only": false
    }
   },
   "outputs": [
    {
     "name": "stdout",
     "output_type": "stream",
     "text": [
      "[('H', 1), ('He', 2), ('Li', 3), ('Be', 4), ('B', 5), ('C', 6)]\n"
     ]
    }
   ],
   "source": [
    "print(sorted(symbol_to_z.items(), key=lambda x: x[1]))"
   ]
  },
  {
   "cell_type": "markdown",
   "metadata": {},
   "source": [
    "* ラムダ式で書くとこうなる"
   ]
  },
  {
   "cell_type": "markdown",
   "metadata": {},
   "source": [
    "## モジュール"
   ]
  },
  {
   "cell_type": "markdown",
   "metadata": {},
   "source": [
    "### `math` モジュール"
   ]
  },
  {
   "cell_type": "code",
   "execution_count": 21,
   "metadata": {
    "collapsed": false,
    "run_control": {
     "frozen": false,
     "read_only": false
    }
   },
   "outputs": [
    {
     "name": "stdout",
     "output_type": "stream",
     "text": [
      "3.141592653589793\n",
      "0.49999999999999994\n",
      "2.718281828459045\n",
      "42.0\n",
      "3.321928094887362\n",
      "0.3010299956639812\n"
     ]
    }
   ],
   "source": [
    "import math\n",
    "\n",
    "print(math.pi)\n",
    "print(math.sin(math.pi / 6))\n",
    "print(math.e)\n",
    "print(math.log(math.exp(42)))\n",
    "print(math.log2(10))\n",
    "print(math.log10(2))"
   ]
  },
  {
   "cell_type": "markdown",
   "metadata": {},
   "source": [
    "* `import` 文で**モジュール (module)** を読み込むことができる\n",
    "* `math` モジュールを import すると数学関連の関数・定数を使えるようになる\n",
    "    * `math.pi` のようにライブラリ名とドットを前置する"
   ]
  },
  {
   "cell_type": "code",
   "execution_count": 22,
   "metadata": {
    "collapsed": false,
    "run_control": {
     "frozen": false,
     "read_only": false
    }
   },
   "outputs": [
    {
     "name": "stdout",
     "output_type": "stream",
     "text": [
      "[-1, 0, 0, 1, 1, 2]\n",
      "[-1, 0, 0, 0, 0, 1]\n",
      "[-2, -1, -1, 0, 0, 1]\n"
     ]
    }
   ],
   "source": [
    "from math import ceil, trunc, floor\n",
    "\n",
    "xs = [-1.2, -0.8, -0.2, 0.2, 0.8, 1.2]\n",
    "print([ceil(x) for x in xs])\n",
    "print([trunc(x) for x in xs])\n",
    "print([floor(x) for x in xs])"
   ]
  },
  {
   "cell_type": "markdown",
   "metadata": {
    "collapsed": true,
    "run_control": {
     "frozen": false,
     "read_only": false
    }
   },
   "source": [
    "* `from` ... `import` でライブラリの特定の関数だけを読み込むことができる\n",
    "    * この際ライブラリ名を前置する必要はない\n",
    "* `math.ceil` は（無限大方向への）切り上げを行う\n",
    "* `math.trunc` は（0 方向への）切り詰めを行う\n",
    "* `math.floor` は（負の無限大方向への）切り下げを行う"
   ]
  }
 ],
 "metadata": {
  "kernelspec": {
   "display_name": "Python 3",
   "language": "python",
   "name": "python3"
  },
  "language_info": {
   "codemirror_mode": {
    "name": "ipython",
    "version": 3
   },
   "file_extension": ".py",
   "mimetype": "text/x-python",
   "name": "python",
   "nbconvert_exporter": "python",
   "pygments_lexer": "ipython3",
   "version": "3.5.1"
  },
  "latex_envs": {
   "bibliofile": "biblio.bib",
   "cite_by": "apalike",
   "current_citInitial": 1,
   "eqLabelWithNumbers": true,
   "eqNumInitial": 0
  },
  "toc": {
   "toc_cell": true,
   "toc_number_sections": false,
   "toc_threshold": 6,
   "toc_window_display": true
  }
 },
 "nbformat": 4,
 "nbformat_minor": 0
}
