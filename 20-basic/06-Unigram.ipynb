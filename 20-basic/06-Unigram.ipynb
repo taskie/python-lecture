{
 "cells": [
  {
   "cell_type": "markdown",
   "metadata": {},
   "source": [
    "**06**\n",
    "\n",
    "キーワード：辞書・文字列操作・ファイル操作\n",
    "\n",
    "# Exercise\n",
    "\n",
    "## 課題：Unigram\n",
    "\n",
    "* https://en.wikipedia.org/wiki/N-gram\n",
    "* ファイルを読み込み、文字の出現頻度を調べるプログラムを書きなさい\n",
    "* ファイル名は input で与えるものとする\n",
    "\n",
    "### 入出力例\n",
    "\n",
    "* [files/hello.txt](files/hello.txt)\n",
    "\n",
    "```\n",
    "File Path: files/hello.txt\n",
    "e: 2\n",
    "r: 2\n",
    "G: 1\n",
    "o: 5\n",
    ",: 2\n",
    "H: 1\n",
    "y: 1\n",
    "d: 3\n",
    " : 2\n",
    "l: 4\n",
    "w: 2\n",
    "!: 2\n",
    "b: 1\n",
    "```"
   ]
  },
  {
   "cell_type": "markdown",
   "metadata": {},
   "source": [
    "# Lecture"
   ]
  },
  {
   "cell_type": "markdown",
   "metadata": {},
   "source": [
    "## 辞書"
   ]
  },
  {
   "cell_type": "code",
   "execution_count": 13,
   "metadata": {
    "collapsed": false,
    "run_control": {
     "frozen": false,
     "read_only": false
    }
   },
   "outputs": [
    {
     "name": "stdout",
     "output_type": "stream",
     "text": [
      "<class 'dict'>\n",
      "{'B': 'Borium', 'Be': 'Beryllium', 'Li': 'Lithium', 'He': 'Helium', 'H': 'Hydrogen'}\n",
      "Hydrogen\n",
      "Borium\n"
     ]
    }
   ],
   "source": [
    "symbol_to_name = {'H': 'Hydrogen', 'He': 'Helium', 'Li': 'Lithium', 'Be': 'Beryllium', 'B': 'Borium'}\n",
    "print(type(symbol_to_name))\n",
    "print(symbol_to_name)\n",
    "print(symbol_to_name['H'])\n",
    "print(symbol_to_name['B'])"
   ]
  },
  {
   "cell_type": "markdown",
   "metadata": {},
   "source": [
    "* Python には辞書 (dictionary, `dict`) 型が用意されている\n",
    "    * 他の言語では連想配列 (associative array) と呼ばれることも多い\n",
    "* 辞書には**キー (key)** と**値 (value)** が格納されている\n",
    "    * 上の例では `'H'` がキー、`'Hydrogen'` が値である\n",
    "    * `name_for_sym['H']` のようにキーを指定すると値を取得できる"
   ]
  },
  {
   "cell_type": "code",
   "execution_count": 14,
   "metadata": {
    "collapsed": false,
    "run_control": {
     "frozen": false,
     "read_only": false
    }
   },
   "outputs": [
    {
     "ename": "KeyError",
     "evalue": "'X'",
     "output_type": "error",
     "traceback": [
      "\u001b[1;31m---------------------------------------------------------------------------\u001b[0m",
      "\u001b[1;31mKeyError\u001b[0m                                  Traceback (most recent call last)",
      "\u001b[1;32m<ipython-input-14-8a6cfab8ecb5>\u001b[0m in \u001b[0;36m<module>\u001b[1;34m()\u001b[0m\n\u001b[1;32m----> 1\u001b[1;33m \u001b[0mprint\u001b[0m\u001b[1;33m(\u001b[0m\u001b[0msymbol_to_name\u001b[0m\u001b[1;33m[\u001b[0m\u001b[1;34m\"X\"\u001b[0m\u001b[1;33m]\u001b[0m\u001b[1;33m)\u001b[0m\u001b[1;33m\u001b[0m\u001b[0m\n\u001b[0m",
      "\u001b[1;31mKeyError\u001b[0m: 'X'"
     ]
    }
   ],
   "source": [
    "print(symbol_to_name['X'])"
   ]
  },
  {
   "cell_type": "markdown",
   "metadata": {},
   "source": [
    "* 存在しないキーを指定するとエラー (`KeyError`) になる"
   ]
  },
  {
   "cell_type": "code",
   "execution_count": 16,
   "metadata": {
    "collapsed": false,
    "run_control": {
     "frozen": false,
     "read_only": false
    }
   },
   "outputs": [
    {
     "name": "stdout",
     "output_type": "stream",
     "text": [
      "True\n",
      "False\n"
     ]
    }
   ],
   "source": [
    "print('H' in symbol_to_name)\n",
    "print('X' in symbol_to_name)"
   ]
  },
  {
   "cell_type": "markdown",
   "metadata": {},
   "source": [
    "* キーが存在するかどうかは `in` 演算子で判定できる"
   ]
  },
  {
   "cell_type": "code",
   "execution_count": 56,
   "metadata": {
    "collapsed": false,
    "run_control": {
     "frozen": false,
     "read_only": false
    }
   },
   "outputs": [
    {
     "name": "stdout",
     "output_type": "stream",
     "text": [
      "{'He': 'Helium', 'Li': 'Lithium', 'B': 'Borium', 'H': 'Hydrogen', 'Be': 'Beryllium'}\n",
      "{'Be': 'Beryllium', 'C': 'Carbon', 'H': 'Hydrogen', 'B': 'Borium', 'He': 'Helium', 'Li': 'Lithium'}\n",
      "{'Be': 'Beryllium', 'C': 'Carbon', 'H': 'Hydrogen', 'B': 'Boron', 'He': 'Helium', 'Li': 'Lithium'}\n"
     ]
    }
   ],
   "source": [
    "symbol_to_name = {'H': 'Hydrogen', 'He': 'Helium', 'Li': 'Lithium', 'Be': 'Beryllium', 'B': 'Borium'}\n",
    "print(symbol_to_name)\n",
    "symbol_to_name['C'] = 'Carbon'\n",
    "print(symbol_to_name)\n",
    "symbol_to_name['B'] = 'Boron'\n",
    "print(symbol_to_name)"
   ]
  },
  {
   "cell_type": "markdown",
   "metadata": {},
   "source": [
    "* 代入することによって辞書に値を書き込むことができる\n",
    "* キーが既に存在している場合は値は上書きされる"
   ]
  },
  {
   "cell_type": "markdown",
   "metadata": {},
   "source": [
    "### 辞書の列挙"
   ]
  },
  {
   "cell_type": "code",
   "execution_count": 60,
   "metadata": {
    "collapsed": false,
    "run_control": {
     "frozen": false,
     "read_only": false
    }
   },
   "outputs": [
    {
     "name": "stdout",
     "output_type": "stream",
     "text": [
      "dict_items([('Be', 'Beryllium'), ('C', 'Carbon'), ('H', 'Hydrogen'), ('B', 'Boron'), ('He', 'Helium'), ('Li', 'Lithium')])\n",
      "Be : Beryllium\n",
      "C  : Carbon\n",
      "H  : Hydrogen\n",
      "B  : Boron\n",
      "He : Helium\n",
      "Li : Lithium\n"
     ]
    }
   ],
   "source": [
    "print(symbol_to_name.items())\n",
    "for (symbol, name) in symbol_to_name.items():\n",
    "    print(symbol.ljust(2) + ' : ' + name)"
   ]
  },
  {
   "cell_type": "markdown",
   "metadata": {},
   "source": [
    "* `items` で辞書の内容を列挙できる\n",
    "* 列挙の順序は不定であることに注意"
   ]
  },
  {
   "cell_type": "code",
   "execution_count": 65,
   "metadata": {
    "collapsed": false,
    "run_control": {
     "frozen": false,
     "read_only": false
    }
   },
   "outputs": [
    {
     "name": "stdout",
     "output_type": "stream",
     "text": [
      "['B', 'Be', 'C', 'H', 'He', 'Li']\n",
      "['Beryllium', 'Boron', 'Carbon', 'Helium', 'Hydrogen', 'Lithium']\n"
     ]
    }
   ],
   "source": [
    "print(sorted(symbol_to_name.keys()))\n",
    "print(sorted(symbol_to_name.values()))"
   ]
  },
  {
   "cell_type": "markdown",
   "metadata": {},
   "source": [
    "* キーは `keys`、値は `values` で列挙できる"
   ]
  },
  {
   "cell_type": "markdown",
   "metadata": {},
   "source": [
    "### 例：素因数分解"
   ]
  },
  {
   "cell_type": "code",
   "execution_count": 1,
   "metadata": {
    "collapsed": false,
    "run_control": {
     "frozen": false,
     "read_only": false
    }
   },
   "outputs": [
    {
     "name": "stdout",
     "output_type": "stream",
     "text": [
      "n = 360\n",
      "{2: 3, 3: 2, 5: 1}\n"
     ]
    }
   ],
   "source": [
    "n = int(input('n = '))\n",
    "factor_table = {}\n",
    "m = 2\n",
    "\n",
    "# 被除数 n が除数 m 以上である限りループする\n",
    "while n >= m:\n",
    "    if n % m == 0:\n",
    "        # n が m で割り切れたら辞書に記録する\n",
    "        if m in factor_table:\n",
    "            factor_table[m] += 1\n",
    "        else:\n",
    "            factor_table[m] = 1\n",
    "        n /= m\n",
    "    else:\n",
    "        # 割り切れなければ除数を大きくする\n",
    "        m += 1\n",
    "        \n",
    "print(factor_table)"
   ]
  },
  {
   "cell_type": "markdown",
   "metadata": {},
   "source": [
    "* https://en.wikipedia.org/wiki/Prime_factor\n",
    "* 底 (base) をキー、冪指数 (exponent) を値とした辞書を作っている\n",
    "* キーが存在しない状態で `+=` するとエラーになるため、`if` による場合分けが必要"
   ]
  },
  {
   "cell_type": "markdown",
   "metadata": {},
   "source": [
    "## 文字列操作"
   ]
  },
  {
   "cell_type": "markdown",
   "metadata": {},
   "source": [
    "### 文字列のスライス"
   ]
  },
  {
   "cell_type": "code",
   "execution_count": 111,
   "metadata": {
    "collapsed": false,
    "run_control": {
     "frozen": false,
     "read_only": false
    }
   },
   "outputs": [
    {
     "name": "stdout",
     "output_type": "stream",
     "text": [
      "earth\n",
      "e\n",
      "art\n",
      "heart\n"
     ]
    }
   ],
   "source": [
    "s = 'earth'\n",
    "print(s)\n",
    "print(s[0])\n",
    "print(s[1:4])\n",
    "t = s[-1] + s[:-1]\n",
    "print(t)"
   ]
  },
  {
   "cell_type": "markdown",
   "metadata": {},
   "source": [
    "* 文字列に対してもリストに似た操作を行うことができる\n",
    "    * 文字列に添字を付けたものもまた文字列となることに注意\n",
    "* 文字列に対して破壊的操作を行うことはできない"
   ]
  },
  {
   "cell_type": "markdown",
   "metadata": {},
   "source": [
    "### 存在判定"
   ]
  },
  {
   "cell_type": "code",
   "execution_count": 112,
   "metadata": {
    "collapsed": false,
    "run_control": {
     "frozen": false,
     "read_only": false
    }
   },
   "outputs": [
    {
     "name": "stdout",
     "output_type": "stream",
     "text": [
      "True\n",
      "False\n",
      "True\n"
     ]
    }
   ],
   "source": [
    "s = 'earth'\n",
    "print('ear' in s)\n",
    "print('eye' in s)\n",
    "print('art' in s)"
   ]
  },
  {
   "cell_type": "markdown",
   "metadata": {},
   "source": [
    "* `in` 演算子で文字列に部分文字列が含まれるかどうかを調べることができる"
   ]
  },
  {
   "cell_type": "markdown",
   "metadata": {},
   "source": [
    "### 検索"
   ]
  },
  {
   "cell_type": "code",
   "execution_count": 109,
   "metadata": {
    "collapsed": false,
    "run_control": {
     "frozen": false,
     "read_only": false
    }
   },
   "outputs": [
    {
     "name": "stdout",
     "output_type": "stream",
     "text": [
      "0\n",
      "-1\n",
      "1\n"
     ]
    }
   ],
   "source": [
    "print(s.find('ear'))\n",
    "print(s.find('eye'))\n",
    "print(s.find('art'))"
   ]
  },
  {
   "cell_type": "markdown",
   "metadata": {},
   "source": [
    "* `find` メソッドで文字列のどの位置に部分文字列が含まれるかを調べることができる\n",
    "    * 存在しない場合 `-1` が返る"
   ]
  },
  {
   "cell_type": "markdown",
   "metadata": {},
   "source": [
    "### 置換"
   ]
  },
  {
   "cell_type": "code",
   "execution_count": 110,
   "metadata": {
    "collapsed": false,
    "run_control": {
     "frozen": false,
     "read_only": false
    }
   },
   "outputs": [
    {
     "name": "stdout",
     "output_type": "stream",
     "text": [
      "birth\n"
     ]
    }
   ],
   "source": [
    "print(s.replace('ea', 'bi'))"
   ]
  },
  {
   "cell_type": "markdown",
   "metadata": {},
   "source": [
    "* `replace` メソッドで文字列の置換を行うことができる"
   ]
  },
  {
   "cell_type": "markdown",
   "metadata": {},
   "source": [
    "### 特殊な文字"
   ]
  },
  {
   "cell_type": "code",
   "execution_count": 11,
   "metadata": {
    "collapsed": false,
    "run_control": {
     "frozen": false,
     "read_only": false
    }
   },
   "outputs": [
    {
     "name": "stdout",
     "output_type": "stream",
     "text": [
      "a\n",
      "b\n",
      "a\\nb\n",
      "\"\n"
     ]
    }
   ],
   "source": [
    "print('a\\nb')\n",
    "print('a\\\\nb')\n",
    "print('\\'')"
   ]
  },
  {
   "cell_type": "markdown",
   "metadata": {},
   "source": [
    "* `'\\n'` は改行 (LF) を表す\n",
    "    * バックスラッシュ (`\\`) でこのような特殊な文字を表せる\n",
    "    * `'\\r'` は改行 (CR) を表す\n",
    "    * `'\\t'` はタブを表する\n",
    "    * `'\\''` で `'` を表す\n",
    "    * `'\\\\'` でバックスラッシュ自体を表せる"
   ]
  },
  {
   "cell_type": "code",
   "execution_count": 9,
   "metadata": {
    "collapsed": false,
    "run_control": {
     "frozen": false,
     "read_only": false
    }
   },
   "outputs": [
    {
     "name": "stdout",
     "output_type": "stream",
     "text": [
      "a\\nb\n",
      "a\\\\nb\n"
     ]
    }
   ],
   "source": [
    "print(r'a\\nb')\n",
    "print(r'a\\\\nb')"
   ]
  },
  {
   "cell_type": "markdown",
   "metadata": {},
   "source": [
    "* バックスラッシュをそのまま保持したい場合は**文字列リテラル**（`'...'`）の前に `r` を付ける"
   ]
  },
  {
   "cell_type": "markdown",
   "metadata": {},
   "source": [
    "### 文字列の列挙"
   ]
  },
  {
   "cell_type": "code",
   "execution_count": 179,
   "metadata": {
    "collapsed": false,
    "run_control": {
     "frozen": false,
     "read_only": false
    },
    "scrolled": true
   },
   "outputs": [
    {
     "name": "stdout",
     "output_type": "stream",
     "text": [
      "s\n",
      "t\n",
      "r\n",
      "i\n",
      "n\n",
      "g\n"
     ]
    }
   ],
   "source": [
    "s = 'string'\n",
    "for c in s:\n",
    "    print(c)"
   ]
  },
  {
   "cell_type": "markdown",
   "metadata": {},
   "source": [
    "* 文字列を `for` ... `in` で列挙すると文字が 1 文字ずつ得られる"
   ]
  },
  {
   "cell_type": "markdown",
   "metadata": {},
   "source": [
    "### `enumerate` "
   ]
  },
  {
   "cell_type": "code",
   "execution_count": 181,
   "metadata": {
    "collapsed": false,
    "run_control": {
     "frozen": false,
     "read_only": false
    }
   },
   "outputs": [
    {
     "name": "stdout",
     "output_type": "stream",
     "text": [
      "s[0] == \"s\"\n",
      "s[1] == \"t\"\n",
      "s[2] == \"r\"\n",
      "s[3] == \"i\"\n",
      "s[4] == \"n\"\n",
      "s[5] == \"g\"\n"
     ]
    }
   ],
   "source": [
    "s = 'string'\n",
    "for (i, c) in enumerate(s):\n",
    "    print('s[{0}] == \\'{1}\\''.format(i, c))"
   ]
  },
  {
   "cell_type": "markdown",
   "metadata": {},
   "source": [
    "* `enumerate` を使うと今何ループ目かを簡単に知ることができる"
   ]
  },
  {
   "cell_type": "code",
   "execution_count": 87,
   "metadata": {
    "collapsed": false,
    "run_control": {
     "frozen": false,
     "read_only": false
    }
   },
   "outputs": [
    {
     "name": "stdout",
     "output_type": "stream",
     "text": [
      "s[2] == \"r\"\n",
      "s[3] == \"i\"\n",
      "s[4] == \"n\"\n",
      "s[5] == \"g\"\n"
     ]
    }
   ],
   "source": [
    "s = 'string'\n",
    "for (i, c) in enumerate(s[2:], 2):\n",
    "    print('s[{0}] == \\'{1}\\''.format(i, c))"
   ]
  },
  {
   "cell_type": "markdown",
   "metadata": {},
   "source": [
    "* 第 2 引数でカウントの開始をずらすことができる"
   ]
  },
  {
   "cell_type": "markdown",
   "metadata": {
    "collapsed": true
   },
   "source": [
    "## ファイル操作\n",
    "\n",
    "### ファイルの読み込み"
   ]
  },
  {
   "cell_type": "code",
   "execution_count": 2,
   "metadata": {
    "collapsed": false,
    "run_control": {
     "frozen": false,
     "read_only": false
    }
   },
   "outputs": [
    {
     "name": "stdout",
     "output_type": "stream",
     "text": [
      "Hello, world!\n",
      "Goodbye, world!\n",
      "\n"
     ]
    }
   ],
   "source": [
    "file = open('files/hello.txt')\n",
    "s = file.read()\n",
    "print(s)\n",
    "file.close()"
   ]
  },
  {
   "cell_type": "markdown",
   "metadata": {},
   "source": [
    "* [files/hello.txt](files/hello.txt)\n",
    "* open 関数でファイルを開くことができる\n",
    "    * open はファイルオブジェクトを返す\n",
    "* ファイルオブジェクトは `close` メソッドで閉じる必要がある"
   ]
  },
  {
   "cell_type": "markdown",
   "metadata": {},
   "source": [
    "### ファイルを自動で閉じる"
   ]
  },
  {
   "cell_type": "code",
   "execution_count": 38,
   "metadata": {
    "collapsed": false,
    "run_control": {
     "frozen": false,
     "read_only": false
    }
   },
   "outputs": [
    {
     "name": "stdout",
     "output_type": "stream",
     "text": [
      "Hello, world!\n",
      "Goodbye, world!\n",
      "\n"
     ]
    }
   ],
   "source": [
    "with open('files/hello.txt') as file:\n",
    "    s = file.read()\n",
    "    print(s)"
   ]
  },
  {
   "cell_type": "markdown",
   "metadata": {},
   "source": [
    "* `with` 文を使うとファイルはブロックの終わりで自動で `close` される\n",
    "* こちらを使ったほうがよい"
   ]
  },
  {
   "cell_type": "markdown",
   "metadata": {},
   "source": [
    "### ファイルを 1 行ずつ読み込む"
   ]
  },
  {
   "cell_type": "code",
   "execution_count": 41,
   "metadata": {
    "collapsed": false,
    "run_control": {
     "frozen": false,
     "read_only": false
    },
    "scrolled": true
   },
   "outputs": [
    {
     "name": "stdout",
     "output_type": "stream",
     "text": [
      "Hello, world!\n",
      "\n",
      "Goodbye, world!\n",
      "\n"
     ]
    }
   ],
   "source": [
    "with open('files/hello.txt') as file:\n",
    "    for line in file:\n",
    "        print(line)"
   ]
  },
  {
   "cell_type": "markdown",
   "metadata": {},
   "source": [
    "* ファイルオブジェクトを `for in` で列挙すると 1 行ごとに読み込むことができる\n",
    "* ただし、`line` に含まれている改行と `print` の改行が 2 重に出力され、空行が空いてしまう"
   ]
  },
  {
   "cell_type": "code",
   "execution_count": 44,
   "metadata": {
    "collapsed": false,
    "run_control": {
     "frozen": false,
     "read_only": false
    }
   },
   "outputs": [
    {
     "name": "stdout",
     "output_type": "stream",
     "text": [
      "Hello, world!\n",
      "Goodbye, world!\n"
     ]
    }
   ],
   "source": [
    "with open('files/hello.txt') as file:\n",
    "    for line in file:\n",
    "        print(line, end='')"
   ]
  },
  {
   "cell_type": "markdown",
   "metadata": {},
   "source": [
    "* `print` の `end` パラメータ引数に空文字列を渡す"
   ]
  },
  {
   "cell_type": "code",
   "execution_count": 43,
   "metadata": {
    "collapsed": false,
    "run_control": {
     "frozen": false,
     "read_only": false
    }
   },
   "outputs": [
    {
     "name": "stdout",
     "output_type": "stream",
     "text": [
      "Hello, world!\n",
      "Goodbye, world!\n"
     ]
    }
   ],
   "source": [
    "with open('files/hello.txt') as file:\n",
    "    for line in file:\n",
    "        print(line.rstrip('\\n'))"
   ]
  },
  {
   "cell_type": "markdown",
   "metadata": {},
   "source": [
    "* 文字列の `rstrip` メソッドで末尾の改行を削除する\n",
    "    * 引数には削除する文字を指定する"
   ]
  },
  {
   "cell_type": "markdown",
   "metadata": {},
   "source": [
    "### 文字コードの指定"
   ]
  },
  {
   "cell_type": "code",
   "execution_count": 175,
   "metadata": {
    "collapsed": false,
    "run_control": {
     "frozen": false,
     "read_only": false
    }
   },
   "outputs": [
    {
     "ename": "UnicodeDecodeError",
     "evalue": "'ascii' codec can't decode byte 0xf0 in position 0: ordinal not in range(128)",
     "output_type": "error",
     "traceback": [
      "\u001b[1;31m---------------------------------------------------------------------------\u001b[0m",
      "\u001b[1;31mUnicodeDecodeError\u001b[0m                        Traceback (most recent call last)",
      "\u001b[1;32m<ipython-input-175-97926f5dc75b>\u001b[0m in \u001b[0;36m<module>\u001b[1;34m()\u001b[0m\n\u001b[0;32m      1\u001b[0m \u001b[1;32mwith\u001b[0m \u001b[0mopen\u001b[0m\u001b[1;33m(\u001b[0m\u001b[1;34m\"files/sushi.txt\"\u001b[0m\u001b[1;33m)\u001b[0m \u001b[1;32mas\u001b[0m \u001b[0mfile\u001b[0m\u001b[1;33m:\u001b[0m\u001b[1;33m\u001b[0m\u001b[0m\n\u001b[1;32m----> 2\u001b[1;33m     \u001b[1;32mfor\u001b[0m \u001b[0mline\u001b[0m \u001b[1;32min\u001b[0m \u001b[0mfile\u001b[0m\u001b[1;33m:\u001b[0m\u001b[1;33m\u001b[0m\u001b[0m\n\u001b[0m\u001b[0;32m      3\u001b[0m         \u001b[0mprint\u001b[0m\u001b[1;33m(\u001b[0m\u001b[0mline\u001b[0m\u001b[1;33m.\u001b[0m\u001b[0mrstrip\u001b[0m\u001b[1;33m(\u001b[0m\u001b[1;33m)\u001b[0m\u001b[1;33m)\u001b[0m\u001b[1;33m\u001b[0m\u001b[0m\n",
      "\u001b[1;32m/home/guest/anaconda3/lib/python3.5/encodings/ascii.py\u001b[0m in \u001b[0;36mdecode\u001b[1;34m(self, input, final)\u001b[0m\n\u001b[0;32m     24\u001b[0m \u001b[1;32mclass\u001b[0m \u001b[0mIncrementalDecoder\u001b[0m\u001b[1;33m(\u001b[0m\u001b[0mcodecs\u001b[0m\u001b[1;33m.\u001b[0m\u001b[0mIncrementalDecoder\u001b[0m\u001b[1;33m)\u001b[0m\u001b[1;33m:\u001b[0m\u001b[1;33m\u001b[0m\u001b[0m\n\u001b[0;32m     25\u001b[0m     \u001b[1;32mdef\u001b[0m \u001b[0mdecode\u001b[0m\u001b[1;33m(\u001b[0m\u001b[0mself\u001b[0m\u001b[1;33m,\u001b[0m \u001b[0minput\u001b[0m\u001b[1;33m,\u001b[0m \u001b[0mfinal\u001b[0m\u001b[1;33m=\u001b[0m\u001b[1;32mFalse\u001b[0m\u001b[1;33m)\u001b[0m\u001b[1;33m:\u001b[0m\u001b[1;33m\u001b[0m\u001b[0m\n\u001b[1;32m---> 26\u001b[1;33m         \u001b[1;32mreturn\u001b[0m \u001b[0mcodecs\u001b[0m\u001b[1;33m.\u001b[0m\u001b[0mascii_decode\u001b[0m\u001b[1;33m(\u001b[0m\u001b[0minput\u001b[0m\u001b[1;33m,\u001b[0m \u001b[0mself\u001b[0m\u001b[1;33m.\u001b[0m\u001b[0merrors\u001b[0m\u001b[1;33m)\u001b[0m\u001b[1;33m[\u001b[0m\u001b[1;36m0\u001b[0m\u001b[1;33m]\u001b[0m\u001b[1;33m\u001b[0m\u001b[0m\n\u001b[0m\u001b[0;32m     27\u001b[0m \u001b[1;33m\u001b[0m\u001b[0m\n\u001b[0;32m     28\u001b[0m \u001b[1;32mclass\u001b[0m \u001b[0mStreamWriter\u001b[0m\u001b[1;33m(\u001b[0m\u001b[0mCodec\u001b[0m\u001b[1;33m,\u001b[0m\u001b[0mcodecs\u001b[0m\u001b[1;33m.\u001b[0m\u001b[0mStreamWriter\u001b[0m\u001b[1;33m)\u001b[0m\u001b[1;33m:\u001b[0m\u001b[1;33m\u001b[0m\u001b[0m\n",
      "\u001b[1;31mUnicodeDecodeError\u001b[0m: 'ascii' codec can't decode byte 0xf0 in position 0: ordinal not in range(128)"
     ]
    }
   ],
   "source": [
    "with open('files/sushi.txt') as file:\n",
    "    for line in file:\n",
    "        print(line.rstrip())"
   ]
  },
  {
   "cell_type": "markdown",
   "metadata": {},
   "source": [
    "* 非 ASCII 文字を含むファイル ([files/sushi.txt](files/sushi.txt)) を開こうとするとエラーが出る"
   ]
  },
  {
   "cell_type": "code",
   "execution_count": 177,
   "metadata": {
    "collapsed": false,
    "run_control": {
     "frozen": false,
     "read_only": false
    }
   },
   "outputs": [
    {
     "name": "stdout",
     "output_type": "stream",
     "text": [
      "🍣 寿司\n"
     ]
    }
   ],
   "source": [
    "with open('files/sushi.txt', encoding='utf-8') as file:\n",
    "    for line in file:\n",
    "        print(line.rstrip())"
   ]
  },
  {
   "cell_type": "markdown",
   "metadata": {},
   "source": [
    "* `encoding=` で適切なエンコーディングを指定する"
   ]
  },
  {
   "cell_type": "markdown",
   "metadata": {},
   "source": [
    "### ファイルの書き込み"
   ]
  },
  {
   "cell_type": "code",
   "execution_count": 178,
   "metadata": {
    "collapsed": false,
    "run_control": {
     "frozen": false,
     "read_only": false
    }
   },
   "outputs": [
    {
     "name": "stdout",
     "output_type": "stream",
     "text": [
      "HELLO, WORLD!\n",
      "GOODBYE, WORLD!\n",
      "- END -"
     ]
    }
   ],
   "source": [
    "s = None\n",
    "with open('files/hello.txt') as file:\n",
    "    s = file.read()\n",
    "s = s.upper()\n",
    "with open('files/hello_2.txt', 'w') as file:\n",
    "    file.write(s)\n",
    "    file.write('- END -')\n",
    "with open('files/hello_2.txt') as file:\n",
    "    print(file.read(), end='')"
   ]
  },
  {
   "cell_type": "markdown",
   "metadata": {},
   "source": [
    "* `open` 関数の第 2 引数に `'w'` を渡すことでファイルへの書き込みを行えるようになる\n",
    "* ファイルオブジェクトの `write` メソッドで文字列を書き込める"
   ]
  }
 ],
 "metadata": {
  "kernelspec": {
   "display_name": "Python 3",
   "language": "python",
   "name": "python3"
  },
  "language_info": {
   "codemirror_mode": {
    "name": "ipython",
    "version": 3
   },
   "file_extension": ".py",
   "mimetype": "text/x-python",
   "name": "python",
   "nbconvert_exporter": "python",
   "pygments_lexer": "ipython3",
   "version": "3.5.1"
  },
  "latex_envs": {
   "bibliofile": "biblio.bib",
   "cite_by": "apalike",
   "current_citInitial": 1,
   "eqLabelWithNumbers": true,
   "eqNumInitial": 0
  },
  "toc": {
   "toc_cell": false,
   "toc_number_sections": false,
   "toc_threshold": 6,
   "toc_window_display": true
  }
 },
 "nbformat": 4,
 "nbformat_minor": 0
}
