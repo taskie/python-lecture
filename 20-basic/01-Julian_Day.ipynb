{
 "cells": [
  {
   "cell_type": "markdown",
   "metadata": {
    "toc": "true"
   },
   "source": [
    "# Table of Contents\n",
    " <p><div class=\"lev1\"><a href=\"#Exercise\">Exercise</a></div><div class=\"lev2\"><a href=\"#プログラム：Julian-Day\">プログラム：Julian Day</a></div><div class=\"lev3\"><a href=\"#実装例\">実装例</a></div><div class=\"lev2\"><a href=\"#課題：Day-of-the-Week\">課題：Day of the Week</a></div><div class=\"lev2\"><a href=\"#課題：Julian-Date\">課題：Julian Date</a></div><div class=\"lev3\"><a href=\"#入出力例\">入出力例</a></div><div class=\"lev4\"><a href=\"##1\">#1</a></div><div class=\"lev4\"><a href=\"##2\">#2</a></div><div class=\"lev1\"><a href=\"#Lecture\">Lecture</a></div><div class=\"lev2\"><a href=\"#出力\">出力</a></div><div class=\"lev2\"><a href=\"#変数\">変数</a></div><div class=\"lev2\"><a href=\"#文字列\">文字列</a></div><div class=\"lev3\"><a href=\"#文字列の連結\">文字列の連結</a></div><div class=\"lev3\"><a href=\"#複数行の文字列\">複数行の文字列</a></div><div class=\"lev2\"><a href=\"#入力\">入力</a></div><div class=\"lev2\"><a href=\"#型\">型</a></div><div class=\"lev3\"><a href=\"#整数\">整数</a></div><div class=\"lev3\"><a href=\"#整数型と文字列型\">整数型と文字列型</a></div><div class=\"lev3\"><a href=\"#浮動小数点数\">浮動小数点数</a></div><div class=\"lev2\"><a href=\"#演算子\">演算子</a></div><div class=\"lev2\"><a href=\"#コメント\">コメント</a></div>"
   ]
  },
  {
   "cell_type": "markdown",
   "metadata": {},
   "source": [
    "**01**\n",
    "\n",
    "キーワード：入出力・文字列型・整数型・浮動小数点数型・演算"
   ]
  },
  {
   "cell_type": "markdown",
   "metadata": {},
   "source": [
    "# Exercise\n",
    "\n",
    "## プログラム：Julian Day\n",
    "\n",
    "* https://en.wikipedia.org/wiki/Julian_day#Converting_Julian_or_Gregorian_calendar_date_to_Julian_day_number\n",
    "* 以下は <var>year</var> 年 <var>month</var> 月 <var>day</var> 日の Julian Day Number (JDN) を求めるプログラムである\n",
    "\n",
    "$$\n",
    "a = \\lfloor \\frac{14 - \\mathrm{month}}{12} \\rfloor \\\\\n",
    "y = \\mathrm{year} + 4800 - a \\\\\n",
    "m = \\mathrm{month} + 12a - 3 \\\\\n",
    "JDN = \\mathrm{day} + \\lfloor \\frac{153m + 2}{5} \\rfloor + 365y\n",
    "+ \\lfloor \\frac{y}{4} \\rfloor - \\lfloor \\frac{y}{100} \\rfloor + \\lfloor \\frac{y}{400} \\rfloor\n",
    "- 32045\n",
    "$$\n",
    "\n",
    "### 実装例"
   ]
  },
  {
   "cell_type": "code",
   "execution_count": 1,
   "metadata": {
    "collapsed": false,
    "run_control": {
     "frozen": false,
     "read_only": false
    }
   },
   "outputs": [
    {
     "name": "stdout",
     "output_type": "stream",
     "text": [
      "Year: 2016\n",
      "Month: 5\n",
      "Day: 5\n",
      "Julian Day Number: 2457514\n"
     ]
    }
   ],
   "source": [
    "year = int(input('Year: '))\n",
    "month = int(input('Month: '))\n",
    "day = int(input('Day: '))\n",
    "\n",
    "a = (14 - month) // 12\n",
    "y = year + 4800 - a\n",
    "m = month + 12 * a - 3\n",
    "jdn = day + (153 * m + 2) // 5 + 365 * y + y // 4 - y // 100 + y // 400 - 32045\n",
    "\n",
    "print('Julian Day Number: ' + str(jdn))"
   ]
  },
  {
   "cell_type": "markdown",
   "metadata": {},
   "source": [
    "## 課題：Day of the Week\n",
    "\n",
    "* JDN を 7 で割った余りに 1 を足すことで、その日付の曜日を求めよう\n",
    "    * 1 → 月曜、2 → 火曜、...、6 → 土曜、7 → 日曜に対応する\n",
    "    * https://en.wikipedia.org/wiki/ISO_8601\n",
    "\n",
    "$$\n",
    "\\mathrm{day\\ of\\ the\\ week} = (JDN\\ \\mathrm{mod}\\ 7) + 1\n",
    "$$"
   ]
  },
  {
   "cell_type": "markdown",
   "metadata": {},
   "source": [
    "## 課題：Julian Date"
   ]
  },
  {
   "cell_type": "markdown",
   "metadata": {},
   "source": [
    "* JDN に時刻（世界協定時, UTC）の項を加えてユリウス通日 (Julian Date) を求めよう\n",
    "\n",
    "$$\n",
    "JD = JDN + \\frac{\\mathrm{hour} - 12}{24} + \\frac{\\mathrm{minute}}{1440} + \\frac{\\mathrm{second}}{86400}\n",
    "$$"
   ]
  },
  {
   "cell_type": "markdown",
   "metadata": {},
   "source": [
    "### 入出力例\n",
    "\n",
    "#### #1\n",
    "\n",
    "```\n",
    "Year: 1999\n",
    "Month: 11\n",
    "Day: 11\n",
    "Hour: 11\n",
    "Minute: 11\n",
    "Second: 11\n",
    "Julian Day Number: 2451494\n",
    "Day of the Week: 4\n",
    "Julian Date: 2451493.966099537\n",
    "```\n",
    "\n",
    "#### #2\n",
    "\n",
    "```\n",
    "Year: 2020\n",
    "Month: 1\n",
    "Day: 1\n",
    "Hour: 0\n",
    "Minute: 0\n",
    "Second: 0\n",
    "Julian Day Number: 2458850\n",
    "Day of the Week: 3\n",
    "Julian Date: 2458849.5\n",
    "```"
   ]
  },
  {
   "cell_type": "markdown",
   "metadata": {},
   "source": [
    "# Lecture\n",
    "\n",
    "## 出力"
   ]
  },
  {
   "cell_type": "code",
   "execution_count": 2,
   "metadata": {
    "collapsed": false,
    "run_control": {
     "frozen": false,
     "read_only": false
    }
   },
   "outputs": [
    {
     "name": "stdout",
     "output_type": "stream",
     "text": [
      "Hello, world!\n"
     ]
    }
   ],
   "source": [
    "print('Hello, world!')"
   ]
  },
  {
   "cell_type": "markdown",
   "metadata": {},
   "source": [
    "* `print` で文字列や数値をターミナル（標準出力, stdout）に表示させることができる\n",
    "    * `print` は**関数 (function)** である（数学の関数に似ているが、違うところもある）\n",
    "* **'** で囲まれたものは**文字列 (string, `str`)** として扱われる\n",
    "    * `\"` でもよい（Python においては区別されない）"
   ]
  },
  {
   "cell_type": "markdown",
   "metadata": {},
   "source": [
    "## 変数"
   ]
  },
  {
   "cell_type": "code",
   "execution_count": 3,
   "metadata": {
    "collapsed": false,
    "run_control": {
     "frozen": false,
     "read_only": false
    }
   },
   "outputs": [
    {
     "name": "stdout",
     "output_type": "stream",
     "text": [
      "Hello, world!\n"
     ]
    }
   ],
   "source": [
    "message = 'Hello, world!'\n",
    "print(message)"
   ]
  },
  {
   "cell_type": "markdown",
   "metadata": {},
   "source": [
    "* **=** で**変数 (variable)** に何らかの値を**代入**できる\n",
    "* 変数の名前は自由に付けられるが、制約もある\n",
    "    * 基本的にアルファベット小文字 (`a-z`)、アンダーバー (`_`)、数字 (`0-9`) を組み合わせた変数名を付けることが推奨される\n",
    "        * アルファベット大文字 (`A-Z`) も使えるがあまり多用されない（定数という意味合いで用いられることが多い）\n",
    "        * Python 3 では漢字・かな・ギリシャ文字等も変数名にできる（推奨はしない）\n",
    "    * 数字を変数名の先頭に付けることはできない\n",
    "    * **予約語 (keyword)**と同じ変数名を付けることはできない\n",
    "        * https://docs.python.org/3/reference/lexical_analysis.html#keywords\n",
    "            * http://docs.python.jp/3/reference/lexical_analysis.html#keywords （日本語版）\n",
    "    * アンダーバーを変数名の先頭に付けることは推奨されない"
   ]
  },
  {
   "cell_type": "markdown",
   "metadata": {},
   "source": [
    "## 文字列"
   ]
  },
  {
   "cell_type": "markdown",
   "metadata": {},
   "source": [
    "### 文字列の連結"
   ]
  },
  {
   "cell_type": "code",
   "execution_count": 4,
   "metadata": {
    "collapsed": false,
    "run_control": {
     "frozen": false,
     "read_only": false
    },
    "scrolled": true
   },
   "outputs": [
    {
     "name": "stdout",
     "output_type": "stream",
     "text": [
      "Hello, world!\n"
     ]
    }
   ],
   "source": [
    "s = 'Hello'\n",
    "t = 'world!'\n",
    "u = s + ', ' + t\n",
    "print(u)"
   ]
  },
  {
   "cell_type": "markdown",
   "metadata": {},
   "source": [
    "* 文字列同士を **+** すると文字列が連結される"
   ]
  },
  {
   "cell_type": "markdown",
   "metadata": {},
   "source": [
    "### 複数行の文字列"
   ]
  },
  {
   "cell_type": "code",
   "execution_count": 5,
   "metadata": {
    "collapsed": false,
    "run_control": {
     "frozen": false,
     "read_only": false
    }
   },
   "outputs": [
    {
     "name": "stdout",
     "output_type": "stream",
     "text": [
      "Hello, world!\n",
      "Goodbye, world!\n",
      "- END -\n"
     ]
    }
   ],
   "source": [
    "s = '''Hello, world!\n",
    "Goodbye, world!\n",
    "- END -'''\n",
    "print(s)"
   ]
  },
  {
   "cell_type": "markdown",
   "metadata": {},
   "source": [
    "* `'''` で囲むと文字列に改行を含めることができる"
   ]
  },
  {
   "cell_type": "markdown",
   "metadata": {},
   "source": [
    "## 入力 "
   ]
  },
  {
   "cell_type": "code",
   "execution_count": 6,
   "metadata": {
    "collapsed": false,
    "run_control": {
     "frozen": false,
     "read_only": false
    }
   },
   "outputs": [
    {
     "name": "stdout",
     "output_type": "stream",
     "text": [
      "Tell me your name: Alice\n",
      "Hello, Alice!\n"
     ]
    }
   ],
   "source": [
    "name = input('Tell me your name: ')\n",
    "print('Hello, ' + name + '!')"
   ]
  },
  {
   "cell_type": "markdown",
   "metadata": {},
   "source": [
    "* `input` 関数でターミナル（標準入力, stdin）から文字列を受け取ることができる\n",
    "    * `input` 関数に文字列を与えると、それが入力待ち時に表示される（プロンプト、prompt）"
   ]
  },
  {
   "cell_type": "markdown",
   "metadata": {},
   "source": [
    "## 型"
   ]
  },
  {
   "cell_type": "markdown",
   "metadata": {},
   "source": [
    "### 整数"
   ]
  },
  {
   "cell_type": "code",
   "execution_count": 7,
   "metadata": {
    "collapsed": false,
    "run_control": {
     "frozen": false,
     "read_only": false
    }
   },
   "outputs": [
    {
     "name": "stdout",
     "output_type": "stream",
     "text": [
      "> 10\n",
      "13\n",
      "7\n",
      "30\n",
      "3.3333333333333335\n",
      "3\n"
     ]
    }
   ],
   "source": [
    "x = int(input('> '))\n",
    "print(x + 3)\n",
    "print(x - 3)\n",
    "print(x * 3)\n",
    "print(x / 3)\n",
    "print(x // 3)"
   ]
  },
  {
   "cell_type": "markdown",
   "metadata": {},
   "source": [
    "* `int` 関数で文字列を**整数 (integer, `int`)** に変換できる\n",
    "* 四則演算は `+`, `-`, `*`, `/` で表される\n",
    "* 除算の結果は整数ではなく浮動小数点数（後述）になる\n",
    "    * 小数部分を切り捨てた結果を得たい場合は `//` を使う"
   ]
  },
  {
   "cell_type": "markdown",
   "metadata": {},
   "source": [
    "### 整数型と文字列型"
   ]
  },
  {
   "cell_type": "code",
   "execution_count": 8,
   "metadata": {
    "collapsed": false,
    "run_control": {
     "frozen": false,
     "read_only": false
    },
    "scrolled": false
   },
   "outputs": [
    {
     "name": "stdout",
     "output_type": "stream",
     "text": [
      "<class 'int'>\n",
      "<class 'str'>\n"
     ]
    },
    {
     "ename": "TypeError",
     "evalue": "unsupported operand type(s) for +: 'int' and 'str'",
     "output_type": "error",
     "traceback": [
      "\u001b[0;31m---------------------------------------------------------------------------\u001b[0m",
      "\u001b[0;31mTypeError\u001b[0m                                 Traceback (most recent call last)",
      "\u001b[0;32m<ipython-input-8-7bbf9a44de1a>\u001b[0m in \u001b[0;36m<module>\u001b[0;34m()\u001b[0m\n\u001b[1;32m      3\u001b[0m \u001b[0mprint\u001b[0m\u001b[0;34m(\u001b[0m\u001b[0mtype\u001b[0m\u001b[0;34m(\u001b[0m\u001b[0ms\u001b[0m\u001b[0;34m)\u001b[0m\u001b[0;34m)\u001b[0m\u001b[0;34m\u001b[0m\u001b[0m\n\u001b[1;32m      4\u001b[0m \u001b[0mprint\u001b[0m\u001b[0;34m(\u001b[0m\u001b[0mtype\u001b[0m\u001b[0;34m(\u001b[0m\u001b[0mt\u001b[0m\u001b[0;34m)\u001b[0m\u001b[0;34m)\u001b[0m\u001b[0;34m\u001b[0m\u001b[0m\n\u001b[0;32m----> 5\u001b[0;31m \u001b[0mprint\u001b[0m\u001b[0;34m(\u001b[0m\u001b[0ms\u001b[0m \u001b[0;34m+\u001b[0m \u001b[0mt\u001b[0m\u001b[0;34m)\u001b[0m\u001b[0;34m\u001b[0m\u001b[0m\n\u001b[0m",
      "\u001b[0;31mTypeError\u001b[0m: unsupported operand type(s) for +: 'int' and 'str'"
     ]
    }
   ],
   "source": [
    "s = 5\n",
    "t = '5'\n",
    "print(type(s))\n",
    "print(type(t))\n",
    "print(s + t)"
   ]
  },
  {
   "cell_type": "markdown",
   "metadata": {},
   "source": [
    "* `type` 関数で**型 (type)** を調べることができる\n",
    "    * `5` は整数 (`int`) 型、`'5'` は文字列 (`str`) 型である\n",
    "* 文字列型と整数型を足したり引いたりすることはできない"
   ]
  },
  {
   "cell_type": "code",
   "execution_count": 9,
   "metadata": {
    "collapsed": false,
    "run_control": {
     "frozen": false,
     "read_only": false
    }
   },
   "outputs": [
    {
     "name": "stdout",
     "output_type": "stream",
     "text": [
      "55555\n"
     ]
    }
   ],
   "source": [
    "print(s * t)"
   ]
  },
  {
   "cell_type": "markdown",
   "metadata": {},
   "source": [
    "* 掛けることはできる\n",
    "    * 「指定の回数だけ文字列を繰り返す」という挙動になる"
   ]
  },
  {
   "cell_type": "code",
   "execution_count": 10,
   "metadata": {
    "collapsed": false,
    "run_control": {
     "frozen": false,
     "read_only": false
    }
   },
   "outputs": [
    {
     "name": "stdout",
     "output_type": "stream",
     "text": [
      "55\n"
     ]
    }
   ],
   "source": [
    "print(str(s) + t)"
   ]
  },
  {
   "cell_type": "markdown",
   "metadata": {},
   "source": [
    "* `str` 関数で整数などを文字列に変換することができる"
   ]
  },
  {
   "cell_type": "markdown",
   "metadata": {},
   "source": [
    "### 浮動小数点数"
   ]
  },
  {
   "cell_type": "code",
   "execution_count": 19,
   "metadata": {
    "collapsed": false,
    "run_control": {
     "frozen": false,
     "read_only": false
    }
   },
   "outputs": [
    {
     "name": "stdout",
     "output_type": "stream",
     "text": [
      "> 0.1\n",
      "3.1\n",
      "-2.9\n",
      "0.30000000000000004\n",
      "0.03333333333333333\n"
     ]
    }
   ],
   "source": [
    "x = float(input('> '))\n",
    "print(x + 3)\n",
    "print(x - 3)\n",
    "print(x * 3)\n",
    "print(x / 3)"
   ]
  },
  {
   "cell_type": "markdown",
   "metadata": {},
   "source": [
    "* `float` 関数で文字列を小数を含む数値に変換できる\n",
    "    * 正確には**浮動小数点数 (floating point number, `float`)** と呼ばれる"
   ]
  },
  {
   "cell_type": "code",
   "execution_count": 12,
   "metadata": {
    "collapsed": false,
    "run_control": {
     "frozen": false,
     "read_only": false
    }
   },
   "outputs": [
    {
     "name": "stdout",
     "output_type": "stream",
     "text": [
      "6.023e+23\n",
      "6.626e-34\n"
     ]
    }
   ],
   "source": [
    "print(6.023e23)\n",
    "print(6.626e-34)"
   ]
  },
  {
   "cell_type": "markdown",
   "metadata": {},
   "source": [
    "* `6.023e23` は $6.023 \\times 10^{23}$、`6.626e-34` は $6.626 \\times 10^{-34}$ を表す"
   ]
  },
  {
   "cell_type": "code",
   "execution_count": 13,
   "metadata": {
    "collapsed": false
   },
   "outputs": [
    {
     "name": "stdout",
     "output_type": "stream",
     "text": [
      "inf\n",
      "-inf\n",
      "0.0\n",
      "nan\n"
     ]
    }
   ],
   "source": [
    "print(1e1000)\n",
    "print(-1e1000)\n",
    "print(1e-1000)\n",
    "print(1e1000 - 1e1000)"
   ]
  },
  {
   "cell_type": "markdown",
   "metadata": {},
   "source": [
    "* `float` 型で表現される数には制限がある\n",
    "* 大きすぎる数・小さすぎる数を表すことはできない\n",
    "    * 一定以上大きい数値は `inf`（無限大）として扱われる\n",
    "    * 一定以上絶対値の小さい数値は `0.0` になる\n",
    "    * `inf - inf` は `nan`（非数、**Not a Number**）として扱われる"
   ]
  },
  {
   "cell_type": "code",
   "execution_count": 14,
   "metadata": {
    "collapsed": false
   },
   "outputs": [
    {
     "name": "stdout",
     "output_type": "stream",
     "text": [
      "2.00000000000001e+16\n",
      "2.000000000000001e+16\n",
      "2e+16\n",
      "0.0\n"
     ]
    }
   ],
   "source": [
    "print(2e16 + 100)\n",
    "print(2e16 + 10)\n",
    "print(2e16 + 1)\n",
    "print(2e16 + 1 - 2e16)"
   ]
  },
  {
   "cell_type": "markdown",
   "metadata": {},
   "source": [
    "* 有効精度にも限界がある"
   ]
  },
  {
   "cell_type": "code",
   "execution_count": 39,
   "metadata": {
    "collapsed": false
   },
   "outputs": [
    {
     "name": "stdout",
     "output_type": "stream",
     "text": [
      "0.30000000000000004\n"
     ]
    }
   ],
   "source": [
    "print(0.1 * 3)"
   ]
  },
  {
   "cell_type": "markdown",
   "metadata": {},
   "source": [
    "* 2 進小数で表すと循環小数になる数についても誤差が生じる"
   ]
  },
  {
   "cell_type": "code",
   "execution_count": 15,
   "metadata": {
    "collapsed": false,
    "run_control": {
     "frozen": false,
     "read_only": false
    }
   },
   "outputs": [
    {
     "name": "stdout",
     "output_type": "stream",
     "text": [
      "42\n",
      "-42\n"
     ]
    }
   ],
   "source": [
    "print(int(42.195))\n",
    "print(int(-42.195))"
   ]
  },
  {
   "cell_type": "markdown",
   "metadata": {},
   "source": [
    "* `float` 型に対して `int` 関数を使うと切り捨てられる\n",
    "    * 負数についてはゼロ方向への切り下げ（切り詰め, truncate）が行われる"
   ]
  },
  {
   "cell_type": "markdown",
   "metadata": {},
   "source": [
    "## 演算子"
   ]
  },
  {
   "cell_type": "code",
   "execution_count": 16,
   "metadata": {
    "collapsed": false,
    "run_control": {
     "frozen": false,
     "read_only": false
    }
   },
   "outputs": [
    {
     "name": "stdout",
     "output_type": "stream",
     "text": [
      "0.5\n",
      "2\n",
      "8\n",
      "1024\n",
      "1.4142135623730951\n",
      "0.5\n"
     ]
    }
   ],
   "source": [
    "print((1 + 2 * (3 + 4) // 5) / 6)\n",
    "print(42 % 10)\n",
    "print(-42 % 10)\n",
    "print(2 ** 10)\n",
    "print(2 ** 0.5)\n",
    "print(2 ** -1)"
   ]
  },
  {
   "cell_type": "markdown",
   "metadata": {},
   "source": [
    "* 剰余 (remainder) は `%` で得ることができる\n",
    "* 累乗 (power) は `**` を使う\n",
    "    * `^` ではないことに注意（ちなみに `^` は排他的論理和 (XOR) の記号として使われている）\n",
    "* `+`, `-`, `*`, `/`, `//`, `%`, `**` などを合わせて**演算子 (operator)** と呼ぶ\n",
    "* 演算子の優先順は基本的に数学と同様\n",
    "    * `+`, `-` より `*`, `/`, `//` の演算が優先され、`*`, `/` より `**` の演算が優先される\n",
    "    * `(`, `)` を付けるとその部分の演算が優先される"
   ]
  },
  {
   "cell_type": "markdown",
   "metadata": {},
   "source": [
    "## コメント"
   ]
  },
  {
   "cell_type": "code",
   "execution_count": 17,
   "metadata": {
    "collapsed": false,
    "run_control": {
     "frozen": false,
     "read_only": false
    }
   },
   "outputs": [
    {
     "name": "stdout",
     "output_type": "stream",
     "text": [
      "42.195\n",
      "Hello\n"
     ]
    }
   ],
   "source": [
    "print(42.195)  # float 型\n",
    "# print(108)   # int 型\n",
    "print(\"Hello\") # str 型"
   ]
  },
  {
   "cell_type": "markdown",
   "metadata": {},
   "source": [
    "* `#` の後に書いたものは無視される**（コメント, comment）**\n",
    "* コードを（一時的に）コメントにして実行させないようにすることをコメントアウトと呼ぶ"
   ]
  },
  {
   "cell_type": "code",
   "execution_count": 18,
   "metadata": {
    "collapsed": false,
    "run_control": {
     "frozen": false,
     "read_only": false
    },
    "scrolled": true
   },
   "outputs": [
    {
     "name": "stdout",
     "output_type": "stream",
     "text": [
      "Hello\n"
     ]
    }
   ],
   "source": [
    "'''\n",
    "print(42.195)  # float 型\n",
    "print(108)     # int 型\n",
    "'''\n",
    "print(\"Hello\") # str 型"
   ]
  },
  {
   "cell_type": "markdown",
   "metadata": {},
   "source": [
    "* `'''` で囲んで文字列にすることで複数行をコメントアウトすることができる"
   ]
  }
 ],
 "metadata": {
  "kernelspec": {
   "display_name": "Python 3",
   "language": "python",
   "name": "python3"
  },
  "language_info": {
   "codemirror_mode": {
    "name": "ipython",
    "version": 3
   },
   "file_extension": ".py",
   "mimetype": "text/x-python",
   "name": "python",
   "nbconvert_exporter": "python",
   "pygments_lexer": "ipython3",
   "version": "3.5.1"
  },
  "latex_envs": {
   "bibliofile": "biblio.bib",
   "cite_by": "apalike",
   "current_citInitial": 1,
   "eqLabelWithNumbers": true,
   "eqNumInitial": 0
  },
  "toc": {
   "toc_cell": true,
   "toc_number_sections": false,
   "toc_threshold": 6,
   "toc_window_display": true
  }
 },
 "nbformat": 4,
 "nbformat_minor": 0
}
