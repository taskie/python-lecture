{
 "cells": [
  {
   "cell_type": "markdown",
   "metadata": {},
   "source": [
    "**00**"
   ]
  },
  {
   "cell_type": "markdown",
   "metadata": {},
   "source": [
    "# はじめに\n",
    "\n",
    "* 基本編は 7 つの節 (Exercise + Lecture) で構成されています\n",
    "* Lecture の情報を頼りに Exercise をこなしましょう"
   ]
  },
  {
   "cell_type": "markdown",
   "metadata": {
    "run_control": {
     "frozen": false,
     "read_only": false
    }
   },
   "source": [
    "# ドキュメント\n",
    "\n",
    "## トップページ\n",
    "\n",
    "* https://docs.python.org/3/\n",
    "* http://docs.python.jp/3/ （日本語）\n",
    "* https://docspy3zh.readthedocs.io/en/latest/ （简体中文）\n",
    "\n",
    "## チュートリアル (Tutorial)\n",
    "\n",
    "* https://docs.python.org/3/tutorial/\n",
    "* http://docs.python.jp/3/tutorial/ （日本語）\n",
    "* http://www.pythondoc.com/pythontutorial3/ （简体中文）\n",
    "\n",
    "## 言語リファレンス (Language Reference)\n",
    "\n",
    "* https://docs.python.org/3/reference/\n",
    "* http://docs.python.jp/3/reference/ （日本語）\n",
    "\n",
    "## 標準ライブラリ (Standard Library)\n",
    "\n",
    "* https://docs.python.org/3/library/\n",
    "* http://docs.python.jp/3/library/ （日本語）\n",
    "\n",
    "## Python 2 から Python 3 への移植\n",
    "\n",
    "* https://docs.python.org/3/howto/pyporting.html\n",
    "* http://docs.python.jp/3/howto/pyporting.html （日本語）"
   ]
  },
  {
   "cell_type": "markdown",
   "metadata": {},
   "source": [
    "# 環境構築\n",
    "\n",
    "## 推奨：Anaconda を使う\n",
    "\n",
    "* https://www.continuum.io/downloads\n",
    "* Python Data Science Cookbook で推奨されていた方法\n",
    "* bash スクリプト / グラフィカルインストーラを実行するだけで NumPy, SciPy, matplotlib, scikit-learn などが全部入った環境を構築できる\n",
    "\n",
    "## Linux\n",
    "\n",
    "* ほとんどの環境にはデフォルトで Python 2 系がプリインストールされている\n",
    "* Ubuntu 16.04 では `python` で Python 2 系、`python3` で Python 3 系を起動できる\n",
    "* numpy, scipy などは Linux ディストリビューションのパッケージマネージャでインストールできることが多い\n",
    "\n",
    "## OS X\n",
    "\n",
    "* homebrew を使う\n",
    "* `brew tap homebrew/python` で NumPy や SciPy パッケージを install できるようになる\n",
    "* install 時に `--with-python3` オプションを付けると（`brew info` を参照のこと）"
   ]
  },
  {
   "cell_type": "markdown",
   "metadata": {
    "collapsed": true,
    "run_control": {
     "frozen": false,
     "read_only": false
    }
   },
   "source": [
    "# Python 2 と Python 3\n",
    "\n",
    "* Python 2 と Python 3 には互換性がない\n",
    "    * Python 3 で書かれたプログラムを Python 2 の処理系で動かすことは基本的にできない\n",
    "    * Python 2 のプログラムを Python 3 で動かすこともできない\n",
    "    * 注意深く書けば両方で動くプログラムを作れるが、難しい\n",
    "* Debian, Ubuntu などの Linux ディストリビューションは Python 3 への移行を進めている\n",
    "    * 既に Python 3 がデフォルトになっているディストリビューションもある\n",
    "* いずれにせよ最終的に Python 2 と 3 の両方を書けるようになった方が好ましい\n",
    "* Python 2 には歴史上の経緯に由来する複雑性があるため、まず Python 3 をやるという流れでいきたい\n",
    "* https://asmeurer.github.io/python3-presentation/slides.html\n",
    "\n",
    "## 主な差異\n",
    "\n",
    "### `print` が 2 では文、3 では関数\n",
    "\n",
    "#### Python 2\n",
    "\n",
    "```python\n",
    "print \"Hello, world!\"\n",
    "```\n",
    "\n",
    "#### Python 3\n",
    "\n",
    "```python\n",
    "print(\"Hello, world!\")\n",
    "```\n",
    "\n",
    "### 2 の `raw_input` が 3 の `input`\n",
    "\n",
    "#### Python 2\n",
    "\n",
    "```python\n",
    "s = raw_input()\n",
    "```\n",
    "\n",
    "#### Python 3\n",
    "\n",
    "```python\n",
    "s = input()\n",
    "```\n",
    "\n",
    "### 2 では整数同士の除算の結果は整数\n",
    "\n",
    "#### Python 2\n",
    "\n",
    "```python\n",
    "assert 5 / 2 == 2\n",
    "assert 5 / 2.0 == 2.5\n",
    "```\n",
    "\n",
    "#### Python 3\n",
    "\n",
    "```python\n",
    "assert 5 / 2 == 2.5\n",
    "assert 5 / 2.0 == 2.5\n",
    "assert 5 // 2 == 2\n",
    "```\n",
    "\n",
    "### 2 の `xrange` が 3 の `range`\n",
    "\n",
    "#### Python 2\n",
    "\n",
    "```python\n",
    "for i in xrange(1, 5):\n",
    "    print(i)\n",
    "```\n",
    "\n",
    "#### Python 3\n",
    "\n",
    "```python\n",
    "for i in range(1, 5):\n",
    "    print(i)\n",
    "```"
   ]
  }
 ],
 "metadata": {
  "kernelspec": {
   "display_name": "Python 3",
   "language": "python",
   "name": "python3"
  },
  "language_info": {
   "codemirror_mode": {
    "name": "ipython",
    "version": 3
   },
   "file_extension": ".py",
   "mimetype": "text/x-python",
   "name": "python",
   "nbconvert_exporter": "python",
   "pygments_lexer": "ipython3",
   "version": "3.5.1"
  },
  "latex_envs": {
   "bibliofile": "biblio.bib",
   "cite_by": "apalike",
   "current_citInitial": 1,
   "eqLabelWithNumbers": true,
   "eqNumInitial": 0
  },
  "toc": {
   "toc_cell": false,
   "toc_number_sections": false,
   "toc_threshold": 6,
   "toc_window_display": true
  }
 },
 "nbformat": 4,
 "nbformat_minor": 0
}
