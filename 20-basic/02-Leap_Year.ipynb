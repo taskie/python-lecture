{
 "cells": [
  {
   "cell_type": "markdown",
   "metadata": {},
   "source": [
    "**02**"
   ]
  },
  {
   "cell_type": "markdown",
   "metadata": {},
   "source": [
    "キーワード：ブール型、`if`、`elif`、`else`"
   ]
  },
  {
   "cell_type": "markdown",
   "metadata": {},
   "source": [
    "# Exercise\n",
    "\n",
    "## 課題: Leap Year\n",
    "\n",
    "* https://en.wikipedia.org/wiki/Leap_year#Algorithm\n",
    "* 西暦 <var>year</var> を入力するとその年がグレゴリオ暦 (Gregorian calendar) で閏年 (leap year) かどうかを判定するプログラムを作りなさい。\n",
    "\n",
    "### 入出力例\n",
    "\n",
    "#### #1\n",
    "\n",
    "```\n",
    "Year: 2016\n",
    "Leap Year\n",
    "```\n",
    "\n",
    "* 実行時には <samp>2016</samp> とだけ入力し、他はプログラム側に表示させる\n",
    "\n",
    "#### #2\n",
    "\n",
    "```\n",
    "Year: 2100\n",
    "Common Year\n",
    "```\n",
    "\n",
    "#### #3\n",
    "\n",
    "```\n",
    "Year: 2000\n",
    "Leap Year\n",
    "```"
   ]
  },
  {
   "cell_type": "markdown",
   "metadata": {},
   "source": [
    "# Lecture\n",
    "\n",
    "## ブール型"
   ]
  },
  {
   "cell_type": "code",
   "execution_count": 1,
   "metadata": {
    "collapsed": false,
    "run_control": {
     "frozen": false,
     "read_only": false
    }
   },
   "outputs": [
    {
     "name": "stdout",
     "output_type": "stream",
     "text": [
      "False\n",
      "True\n",
      "False\n",
      "True\n",
      "True\n",
      "True\n"
     ]
    }
   ],
   "source": [
    "print(1 == 2)\n",
    "print(1 != 2)\n",
    "print(1 < 1)\n",
    "print(1 <= 1)\n",
    "print(2 > 1)\n",
    "print(2 >= 1)"
   ]
  },
  {
   "cell_type": "markdown",
   "metadata": {},
   "source": [
    "* `True`/`False` の 2 値を表す型を **ブール (boolean, `bool`) 型** と呼ぶ\n",
    "* `=` （代入）と `==` （等号）は異なる"
   ]
  },
  {
   "cell_type": "code",
   "execution_count": 2,
   "metadata": {
    "collapsed": false,
    "run_control": {
     "frozen": false,
     "read_only": false
    }
   },
   "outputs": [
    {
     "name": "stdout",
     "output_type": "stream",
     "text": [
      "False\n",
      "False\n",
      "True\n"
     ]
    }
   ],
   "source": [
    "print(42 == '42')\n",
    "print(True == 'True')\n",
    "print(42 == 42.0)"
   ]
  },
  {
   "cell_type": "markdown",
   "metadata": {},
   "source": [
    "* 整数の `42` と文字列の `'42'` は異なる\n",
    "* 真偽値の `True` と文字列の `'True'` は異なる\n",
    "* 整数の `42` と浮動小数点数の `42.0` は等しいとされる"
   ]
  },
  {
   "cell_type": "markdown",
   "metadata": {},
   "source": [
    "## ブール演算子"
   ]
  },
  {
   "cell_type": "code",
   "execution_count": 3,
   "metadata": {
    "collapsed": false,
    "run_control": {
     "frozen": false,
     "read_only": false
    },
    "scrolled": true
   },
   "outputs": [
    {
     "name": "stdout",
     "output_type": "stream",
     "text": [
      "False\n",
      "True\n",
      "False\n",
      "True\n"
     ]
    }
   ],
   "source": [
    "print(not True)\n",
    "print(not False)\n",
    "print(True and False)\n",
    "print(True or False)"
   ]
  },
  {
   "cell_type": "markdown",
   "metadata": {},
   "source": [
    "* `not`（否定）/ `and`（論理積）/ `or`（論理和）を計算することができる"
   ]
  },
  {
   "cell_type": "code",
   "execution_count": 7,
   "metadata": {
    "collapsed": false,
    "run_control": {
     "frozen": false,
     "read_only": false
    }
   },
   "outputs": [
    {
     "name": "stdout",
     "output_type": "stream",
     "text": [
      "> 35\n",
      "True\n",
      "True\n",
      "True\n"
     ]
    }
   ],
   "source": [
    "x = int(input('> '))\n",
    "print(x % 3 == 0 or x % 5 == 0)\n",
    "print(1 <= x and x <= 100)\n",
    "print(1 <= x <= 100)"
   ]
  },
  {
   "cell_type": "markdown",
   "metadata": {},
   "source": [
    "* `x % 3 == 0 or x % 5 == 0` は「`x` は 3 または 5 の倍数である」の意\n",
    "* `1 <= x and x <= 100` は「`x` は 1 以上 100 以下である」の意\n",
    "    * `1 <= x <= 100` と略記できる"
   ]
  },
  {
   "cell_type": "markdown",
   "metadata": {},
   "source": [
    "## if 文"
   ]
  },
  {
   "cell_type": "code",
   "execution_count": 25,
   "metadata": {
    "code_folding": [],
    "collapsed": false,
    "run_control": {
     "frozen": false,
     "read_only": false
    }
   },
   "outputs": [
    {
     "name": "stdout",
     "output_type": "stream",
     "text": [
      "> 42\n",
      "positive\n"
     ]
    }
   ],
   "source": [
    "x = int(input('> '))\n",
    "if x > 0:\n",
    "    print('positive')"
   ]
  },
  {
   "cell_type": "markdown",
   "metadata": {},
   "source": [
    "* `if` を使うと条件 (condition) によって処理を分岐できる\n",
    "* Python は行頭の空白 (インデント、indent) で構造を表す\n",
    "    * <kbd>Tab</kbd> キーを使って正しくインデントすることが重要\n",
    "    * `if` の行末のコロン (`:`) を忘れないように注意\n",
    "* `if` の中身（インデントした部分）は条件式の結果が `True` の場合にだけ実行される\n",
    "    * より厳密には、`bool(条件式)` が `True` の場合"
   ]
  },
  {
   "cell_type": "code",
   "execution_count": 19,
   "metadata": {
    "code_folding": [],
    "collapsed": false,
    "run_control": {
     "frozen": false,
     "read_only": false
    }
   },
   "outputs": [
    {
     "name": "stdout",
     "output_type": "stream",
     "text": [
      "> -1\n",
      "zero or negative\n"
     ]
    }
   ],
   "source": [
    "x = int(input('> '))\n",
    "if x > 0:\n",
    "    print('positive')\n",
    "else:\n",
    "    print('zero or negative')"
   ]
  },
  {
   "cell_type": "markdown",
   "metadata": {},
   "source": [
    "* `else` を使うと条件を満たさなかった場合の処理を記述できる"
   ]
  },
  {
   "cell_type": "code",
   "execution_count": 21,
   "metadata": {
    "code_folding": [],
    "collapsed": false,
    "run_control": {
     "frozen": false,
     "read_only": false
    }
   },
   "outputs": [
    {
     "name": "stdout",
     "output_type": "stream",
     "text": [
      "> -1\n",
      "negative\n"
     ]
    }
   ],
   "source": [
    "x = int(input('> '))\n",
    "if x > 0:\n",
    "    print('positive')\n",
    "else:\n",
    "    if x == 0:\n",
    "        print('zero')\n",
    "    else:\n",
    "        print('negative')"
   ]
  },
  {
   "cell_type": "markdown",
   "metadata": {},
   "source": [
    "* `if` は入れ子にする (nest) ことができる\n",
    "* インデントが正しくなるように注意する"
   ]
  },
  {
   "cell_type": "code",
   "execution_count": 15,
   "metadata": {
    "collapsed": false,
    "run_control": {
     "frozen": false,
     "read_only": false
    },
    "scrolled": true
   },
   "outputs": [
    {
     "name": "stdout",
     "output_type": "stream",
     "text": [
      "> 0\n",
      "zero\n"
     ]
    }
   ],
   "source": [
    "x = int(input('> '))\n",
    "if x > 0:\n",
    "    print('positive')\n",
    "elif x == 0:\n",
    "    print('zero')\n",
    "else:\n",
    "    print('negative')"
   ]
  },
  {
   "cell_type": "markdown",
   "metadata": {},
   "source": [
    "* `else: if ...:` のパターンを `elif:` で略記できる（この例は 1 つ前の例と同じ意味になる）\n",
    "* `elif` は 1 つの `if` 文につき何個でも置ける\n",
    "* `if` および `elif` の全条件に当てはまらない場合に `else` ブロックが実行される"
   ]
  }
 ],
 "metadata": {
  "kernelspec": {
   "display_name": "Python 3",
   "language": "python",
   "name": "python3"
  },
  "language_info": {
   "codemirror_mode": {
    "name": "ipython",
    "version": 3
   },
   "file_extension": ".py",
   "mimetype": "text/x-python",
   "name": "python",
   "nbconvert_exporter": "python",
   "pygments_lexer": "ipython3",
   "version": "3.5.1"
  },
  "latex_envs": {
   "bibliofile": "biblio.bib",
   "cite_by": "apalike",
   "current_citInitial": 1,
   "eqLabelWithNumbers": true,
   "eqNumInitial": 0
  },
  "toc": {
   "toc_cell": false,
   "toc_number_sections": false,
   "toc_threshold": 6,
   "toc_window_display": true
  }
 },
 "nbformat": 4,
 "nbformat_minor": 0
}
