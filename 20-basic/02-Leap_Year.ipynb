{
  "cells": [
    {
      "source": [
        "**02**"
      ],
      "cell_type": "markdown",
      "metadata": {}
    },
    {
      "source": [
        "キーワード：ブール型、`if`、`elif`、`else`"
      ],
      "cell_type": "markdown",
      "metadata": {}
    },
    {
      "source": [
        "# Exercise\n",
        "\n",
        "## 課題: Leap Year\n",
        "\n",
        "* https://en.wikipedia.org/wiki/Leap_year#Algorithm\n",
        "* 西暦 <var>year</var> を入力するとその年がグレゴリオ暦 (Gregorian calendar) で閏年 (leap year) かどうかを判定するプログラムを作りなさい。\n",
        "\n",
        "### 入出力例\n",
        "\n",
        "#### #1\n",
        "\n",
        "```\n",
        "Year: 2016\n",
        "Leap Year\n",
        "```\n",
        "\n",
        "* 実行時には <samp>2016</samp> とだけ入力し、他はプログラム側に表示させる\n",
        "\n",
        "#### #2\n",
        "\n",
        "```\n",
        "Year: 2100\n",
        "Common Year\n",
        "```\n",
        "\n",
        "#### #3\n",
        "\n",
        "```\n",
        "Year: 2000\n",
        "Leap Year\n",
        "```"
      ],
      "cell_type": "markdown",
      "metadata": {}
    },
    {
      "source": [
        "# Lecture\n",
        "\n",
        "## ブール型"
      ],
      "cell_type": "markdown",
      "metadata": {}
    },
    {
      "outputs": [
        {
          "text": [
            "False\n",
            "True\n",
            "False\n",
            "True\n",
            "True\n",
            "True\n"
          ],
          "output_type": "stream",
          "name": "stdout"
        }
      ],
      "cell_type": "code",
      "metadata": {
        "collapsed": false,
        "run_control": {
          "read_only": false,
          "frozen": false
        }
      },
      "source": [
        "print(1 == 2)\n",
        "print(1 != 2)\n",
        "print(1 < 1)\n",
        "print(1 <= 1)\n",
        "print(2 > 1)\n",
        "print(2 >= 1)"
      ],
      "execution_count": 1
    },
    {
      "source": [
        "* `True`/`False` の 2 値を表す型を **ブール (boolean, `bool`) 型** と呼ぶ\n",
        "* `=` （代入）と `==` （等号）は異なる"
      ],
      "cell_type": "markdown",
      "metadata": {}
    },
    {
      "outputs": [
        {
          "text": [
            "False\n",
            "False\n",
            "True\n"
          ],
          "output_type": "stream",
          "name": "stdout"
        }
      ],
      "cell_type": "code",
      "metadata": {
        "collapsed": false,
        "run_control": {
          "read_only": false,
          "frozen": false
        }
      },
      "source": [
        "print(42 == '42')\n",
        "print(True == 'True')\n",
        "print(42 == 42.0)"
      ],
      "execution_count": 2
    },
    {
      "source": [
        "* 整数の `42` と文字列の `'42'` は異なる\n",
        "* 真偽値の `True` と文字列の `'True'` は異なる\n",
        "* 整数の `42` と浮動小数点数の `42.0` は等しいとされる"
      ],
      "cell_type": "markdown",
      "metadata": {}
    },
    {
      "source": [
        "## ブール演算子"
      ],
      "cell_type": "markdown",
      "metadata": {}
    },
    {
      "outputs": [
        {
          "text": [
            "False\n",
            "True\n",
            "False\n",
            "True\n"
          ],
          "output_type": "stream",
          "name": "stdout"
        }
      ],
      "cell_type": "code",
      "metadata": {
        "scrolled": true,
        "collapsed": false,
        "run_control": {
          "read_only": false,
          "frozen": false
        }
      },
      "source": [
        "print(not True)\n",
        "print(not False)\n",
        "print(True and False)\n",
        "print(True or False)"
      ],
      "execution_count": 3
    },
    {
      "source": [
        "* `not`（否定）/ `and`（論理積）/ `or`（論理和）を計算することができる"
      ],
      "cell_type": "markdown",
      "metadata": {}
    },
    {
      "outputs": [
        {
          "text": [
            "> 35\n",
            "True\n",
            "True\n",
            "True\n"
          ],
          "output_type": "stream",
          "name": "stdout"
        }
      ],
      "cell_type": "code",
      "metadata": {
        "collapsed": false,
        "run_control": {
          "read_only": false,
          "frozen": false
        }
      },
      "source": [
        "x = int(input('> '))\n",
        "print(x % 3 == 0 or x % 5 == 0)\n",
        "print(1 <= x and x <= 100)\n",
        "print(1 <= x <= 100)"
      ],
      "execution_count": 7
    },
    {
      "source": [
        "* `x % 3 == 0 or x % 5 == 0` は「`x` は 3 または 5 の倍数である」の意\n",
        "* `1 <= x and x <= 100` は「`x` は 1 以上 100 以下である」の意\n",
        "    * `1 <= x <= 100` と略記できる"
      ],
      "cell_type": "markdown",
      "metadata": {}
    },
    {
      "source": [
        "## `if` 文"
      ],
      "cell_type": "markdown",
      "metadata": {}
    },
    {
      "outputs": [
        {
          "text": [
            "> 42\n",
            "positive\n"
          ],
          "output_type": "stream",
          "name": "stdout"
        }
      ],
      "cell_type": "code",
      "metadata": {
        "code_folding": [],
        "collapsed": false,
        "run_control": {
          "read_only": false,
          "frozen": false
        }
      },
      "source": [
        "x = int(input('> '))\n",
        "if x > 0:\n",
        "    print('positive')"
      ],
      "execution_count": 25
    },
    {
      "source": [
        "* `if` を使うと条件 (condition) によって処理を分岐できる\n",
        "* Python は行頭の空白 (インデント、indent) で構造を表す\n",
        "    * <kbd>Tab</kbd> キーを使って正しくインデントすることが重要\n",
        "    * `if` の行末のコロン (`:`) を忘れないように注意\n",
        "* `if` の中身（インデントした部分）は条件式の結果が `True` の場合にだけ実行される\n",
        "    * より厳密には、`bool(条件式)` が `True` の場合"
      ],
      "cell_type": "markdown",
      "metadata": {}
    },
    {
      "outputs": [
        {
          "text": [
            "> -1\n",
            "zero or negative\n"
          ],
          "output_type": "stream",
          "name": "stdout"
        }
      ],
      "cell_type": "code",
      "metadata": {
        "code_folding": [],
        "collapsed": false,
        "run_control": {
          "read_only": false,
          "frozen": false
        }
      },
      "source": [
        "x = int(input('> '))\n",
        "if x > 0:\n",
        "    print('positive')\n",
        "else:\n",
        "    print('zero or negative')"
      ],
      "execution_count": 19
    },
    {
      "source": [
        "* `else` を使うと条件を満たさなかった場合の処理を記述できる"
      ],
      "cell_type": "markdown",
      "metadata": {}
    },
    {
      "outputs": [
        {
          "text": [
            "> -1\n",
            "negative\n"
          ],
          "output_type": "stream",
          "name": "stdout"
        }
      ],
      "cell_type": "code",
      "metadata": {
        "code_folding": [],
        "collapsed": false,
        "run_control": {
          "read_only": false,
          "frozen": false
        }
      },
      "source": [
        "x = int(input('> '))\n",
        "if x > 0:\n",
        "    print('positive')\n",
        "else:\n",
        "    if x == 0:\n",
        "        print('zero')\n",
        "    else:\n",
        "        print('negative')"
      ],
      "execution_count": 21
    },
    {
      "source": [
        "* `if` は入れ子にする (nest) ことができる\n",
        "* インデントが正しくなるように注意する"
      ],
      "cell_type": "markdown",
      "metadata": {}
    },
    {
      "outputs": [
        {
          "text": [
            "> 0\n",
            "zero\n"
          ],
          "output_type": "stream",
          "name": "stdout"
        }
      ],
      "cell_type": "code",
      "metadata": {
        "scrolled": true,
        "collapsed": false,
        "run_control": {
          "read_only": false,
          "frozen": false
        }
      },
      "source": [
        "x = int(input('> '))\n",
        "if x > 0:\n",
        "    print('positive')\n",
        "elif x == 0:\n",
        "    print('zero')\n",
        "else:\n",
        "    print('negative')"
      ],
      "execution_count": 15
    },
    {
      "source": [
        "* `else: if ...:` のパターンを `elif:` で略記できる（この例は 1 つ前の例と同じ意味になる）\n",
        "* `elif` は 1 つの `if` 文につき何個でも置ける\n",
        "* `if` および `elif` の全条件に当てはまらない場合に `else` ブロックが実行される"
      ],
      "cell_type": "markdown",
      "metadata": {}
    },
    {
      "source": [
        "## `bool` 関数"
      ],
      "cell_type": "markdown",
      "metadata": {}
    },
    {
      "outputs": [
        {
          "text": [
            "False\n",
            "True\n",
            "False\n",
            "True\n"
          ],
          "output_type": "stream",
          "name": "stdout"
        }
      ],
      "cell_type": "code",
      "metadata": {
        "collapsed": false
      },
      "source": [
        "print(bool(0))\n",
        "print(bool(1))\n",
        "print(bool(''))\n",
        "print(bool(\"0\"))"
      ],
      "execution_count": 9
    },
    {
      "source": [
        "* `bool` 関数で値を `bool` 型に変換できる\n",
        "    * 0 や空文字列 (`''`) は False として扱われる（falsy な値）\n",
        "    * 0 以外の数値や空でない文字列は True として扱われる（truthy な値）"
      ],
      "cell_type": "markdown",
      "metadata": {}
    }
  ],
  "metadata": {
    "toc": {
      "toc_number_sections": false,
      "toc_threshold": 6,
      "toc_cell": false,
      "toc_window_display": true
    },
    "language_info": {
      "file_extension": ".py",
      "nbconvert_exporter": "python",
      "version": "3.5.1",
      "codemirror_mode": {
        "version": 3,
        "name": "ipython"
      },
      "mimetype": "text/x-python",
      "pygments_lexer": "ipython3",
      "name": "python"
    },
    "latex_envs": {
      "eqNumInitial": 0,
      "current_citInitial": 1,
      "bibliofile": "biblio.bib",
      "eqLabelWithNumbers": true,
      "cite_by": "apalike"
    },
    "kernelspec": {
      "display_name": "Python 3",
      "language": "python",
      "name": "python3"
    }
  },
  "nbformat": 4,
  "nbformat_minor": 0
}