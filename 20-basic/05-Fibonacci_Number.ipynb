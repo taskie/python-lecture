{
 "cells": [
  {
   "cell_type": "markdown",
   "metadata": {},
   "source": [
    "**05**\n",
    "\n",
    "キーワード：リスト・スライス・内包表記"
   ]
  },
  {
   "cell_type": "markdown",
   "metadata": {},
   "source": [
    "# Exercise\n",
    "\n",
    "## プログラム：Fibonacci Number"
   ]
  },
  {
   "cell_type": "markdown",
   "metadata": {},
   "source": [
    "* https://en.wikipedia.org/wiki/Fibonacci_number\n",
    "* 以下はフィボナッチ数 (Fibonacci number) を 0 項目から m 項目まで計算するプログラムである\n",
    "\n",
    "$$\n",
    "F_0 = 0 \\\\\n",
    "F_1 = 1 \\\\\n",
    "F_k = F_{k-2} + F_{k-1}\\ (k ≥ 2)\n",
    "$$"
   ]
  },
  {
   "cell_type": "code",
   "execution_count": 9,
   "metadata": {
    "collapsed": false,
    "run_control": {
     "frozen": false,
     "read_only": false
    }
   },
   "outputs": [
    {
     "name": "stdout",
     "output_type": "stream",
     "text": [
      "m = 10\n",
      "0 1 1 2 3 5 8 13 21 34 55\n"
     ]
    }
   ],
   "source": [
    "m = int(input('m = '))\n",
    "\n",
    "# fs を初期化（fs[0] から fs[m] までの (m + 1) 要素が存在）\n",
    "fs = [0] * (m + 1)\n",
    "\n",
    "# m = 0 (len(fs) = m + 1 = 1) の場合 fs[1] は存在せずエラーになるため場合分けする\n",
    "if len(fs) > 1:\n",
    "    fs[1] = 1\n",
    "\n",
    "for k in range(2, len(fs)):\n",
    "    fs[k] = fs[k - 2] + fs[k - 1]\n",
    "\n",
    "print(' '.join([str(f) for f in fs]))"
   ]
  },
  {
   "cell_type": "markdown",
   "metadata": {},
   "source": [
    "## 課題：Generalizations of Fibonacci Numbers\n",
    "\n",
    "* https://en.wikipedia.org/wiki/Generalizations_of_Fibonacci_numbers\n",
    "* 上記のプログラムを一般化して <var>n</var>-nacci sequence を生成するプログラムを書こう\n",
    "\n",
    "$$\n",
    "F^{(n)}_0 = F^{(n)}_1 = F^{(n)}_2 = \\dots = F^{(n)}_{n-1} = 0 \\\\\n",
    "F^{(n)}_{n} = 1 \\\\\n",
    "F^{(n)}_k = F^{(n)}_{k - n} + F^{(n)}_{k - n + 1} + F^{(n)}_{k - n + 2} + \\dots + F^{(n)}_{k - 1}\\ (k ≥ n)\n",
    "$$\n",
    "\n",
    "### 入出力例\n",
    "\n",
    "#### #1\n",
    "\n",
    "```\n",
    "n = 2\n",
    "m = 20\n",
    "0 1 1 2 3 5 8 13 21 34 55 89 144 233 377 610 987 1597 2584 4181 6765\n",
    "```\n",
    "\n",
    "#### #2\n",
    "\n",
    "```\n",
    "n = 3\n",
    "m = 15\n",
    "0 0 1 1 2 4 7 13 24 44 81 149 274 504 927 1705\n",
    "```\n",
    "\n",
    "#### #3\n",
    "\n",
    "```\n",
    "n = 4\n",
    "m = 11\n",
    "0 0 0 1 1 2 4 8 15 29 56 108\n",
    "```"
   ]
  },
  {
   "cell_type": "markdown",
   "metadata": {},
   "source": [
    "# Lecture\n",
    "\n",
    "## リスト"
   ]
  },
  {
   "cell_type": "code",
   "execution_count": 23,
   "metadata": {
    "collapsed": false,
    "run_control": {
     "frozen": false,
     "read_only": false
    }
   },
   "outputs": [
    {
     "name": "stdout",
     "output_type": "stream",
     "text": [
      "<class 'list'>\n",
      "7\n"
     ]
    }
   ],
   "source": [
    "days = ['Sun', 'Mon', 'Tue', 'Wed', 'Thu', 'Fri', 'Sat']\n",
    "print(type(days))\n",
    "print(len(days))"
   ]
  },
  {
   "cell_type": "markdown",
   "metadata": {},
   "source": [
    "* 要素をコンマ (`,`) で区切り `[ ]` で囲むことでリスト (`list`) を作ることができる\n",
    "* `len` 関数でリストの長さを得られる"
   ]
  },
  {
   "cell_type": "code",
   "execution_count": 28,
   "metadata": {
    "collapsed": false,
    "run_control": {
     "frozen": false,
     "read_only": false
    }
   },
   "outputs": [
    {
     "name": "stdout",
     "output_type": "stream",
     "text": [
      "Sun\n",
      "Mon\n",
      "Sat\n",
      "Thu\n"
     ]
    }
   ],
   "source": [
    "print(days[0])\n",
    "print(days[1])\n",
    "print(days[-1])\n",
    "print(days[99999 % len(days)])"
   ]
  },
  {
   "cell_type": "markdown",
   "metadata": {},
   "source": [
    "* リストの後に `[i]` を付けるとリストの `i` 番目の要素を取得できる\n",
    "    * `i` を添字（インデックス, index）と呼ぶ\n",
    "    * 添字の番号は 0 始まり (0-based、0-オリジン（和製英語）)\n",
    "    * 添字が負の場合 `len(xs) + i` 番目の要素を取得できる\n",
    "        * `i = -1` なら、`len(xs) - 1` 番目、すなわち最後の要素を取得することになる"
   ]
  },
  {
   "cell_type": "code",
   "execution_count": 29,
   "metadata": {
    "collapsed": false,
    "run_control": {
     "frozen": false,
     "read_only": false
    }
   },
   "outputs": [
    {
     "ename": "IndexError",
     "evalue": "list index out of range",
     "output_type": "error",
     "traceback": [
      "\u001b[1;31m---------------------------------------------------------------------------\u001b[0m",
      "\u001b[1;31mIndexError\u001b[0m                                Traceback (most recent call last)",
      "\u001b[1;32m<ipython-input-29-2da64974b5bc>\u001b[0m in \u001b[0;36m<module>\u001b[1;34m()\u001b[0m\n\u001b[1;32m----> 1\u001b[1;33m \u001b[0mprint\u001b[0m\u001b[1;33m(\u001b[0m\u001b[0mdays\u001b[0m\u001b[1;33m[\u001b[0m\u001b[1;36m99999\u001b[0m\u001b[1;33m]\u001b[0m\u001b[1;33m)\u001b[0m\u001b[1;33m\u001b[0m\u001b[0m\n\u001b[0m",
      "\u001b[1;31mIndexError\u001b[0m: list index out of range"
     ]
    }
   ],
   "source": [
    "print(days[99999])"
   ]
  },
  {
   "cell_type": "markdown",
   "metadata": {},
   "source": [
    "* 添字が範囲外だとエラー (`IndexError`) になる"
   ]
  },
  {
   "cell_type": "markdown",
   "metadata": {},
   "source": [
    "## スライス"
   ]
  },
  {
   "cell_type": "code",
   "execution_count": 39,
   "metadata": {
    "collapsed": false,
    "run_control": {
     "frozen": false,
     "read_only": false
    }
   },
   "outputs": [
    {
     "name": "stdout",
     "output_type": "stream",
     "text": [
      "['Sun', 'Mon']\n",
      "['Tue', 'Wed', 'Thu']\n",
      "['Fri', 'Sat']\n",
      "['Sun', 'Mon', 'Tue', 'Wed', 'Thu', 'Fri', 'Sat']\n"
     ]
    }
   ],
   "source": [
    "print(days[:2])\n",
    "print(days[2:5])\n",
    "print(days[5:])\n",
    "print(days[:])"
   ]
  },
  {
   "cell_type": "markdown",
   "metadata": {},
   "source": [
    "* コロン (`:`) を使うことで配列の一部を取り出すことができる（スライス, slice）\n",
    "* `[2:5]` は配列の（0 始まりでの）2 番目から **4** 番目までを取り出す\n",
    "    * 5 番目は含まれないことに注意\n",
    "    * Python / C++ などの言語では左閉半開区間で範囲を表すのが流儀\n",
    "* 始点・終点はそれぞれ省略できる\n",
    "    * 始点を省略すると最初から、終点を省略すると最後までとして扱われる"
   ]
  },
  {
   "cell_type": "code",
   "execution_count": 36,
   "metadata": {
    "collapsed": false,
    "run_control": {
     "frozen": false,
     "read_only": false
    }
   },
   "outputs": [
    {
     "name": "stdout",
     "output_type": "stream",
     "text": [
      "['Mon', 'Wed', 'Fri']\n",
      "['Sun', 'Wed', 'Sat']\n",
      "['Sat', 'Fri', 'Thu', 'Wed', 'Tue', 'Mon', 'Sun']\n"
     ]
    }
   ],
   "source": [
    "print(days[1:6:2])\n",
    "print(days[::3])\n",
    "print(days[::-1])"
   ]
  },
  {
   "cell_type": "markdown",
   "metadata": {},
   "source": [
    "* スライスの 3 つ目の数として step を指定でき、例えば `2` と指定すると 1 つおきに要素を得ることができる \n",
    "* -1 を指定すると逆順になる"
   ]
  },
  {
   "cell_type": "markdown",
   "metadata": {},
   "source": [
    "## リストの内容の変更"
   ]
  },
  {
   "cell_type": "code",
   "execution_count": 6,
   "metadata": {
    "collapsed": false,
    "run_control": {
     "frozen": false,
     "read_only": false
    }
   },
   "outputs": [
    {
     "name": "stdout",
     "output_type": "stream",
     "text": [
      "[2, 3, 5, 7]\n",
      "[1, 3, 5, 7]\n"
     ]
    }
   ],
   "source": [
    "xs = [2, 3, 5, 7]\n",
    "print(xs)\n",
    "xs[0] = 1\n",
    "print(xs)"
   ]
  },
  {
   "cell_type": "markdown",
   "metadata": {},
   "source": [
    "* 添字と代入を組み合わせることによってリストの内容を変更することができる"
   ]
  },
  {
   "cell_type": "markdown",
   "metadata": {},
   "source": [
    "## 要素の追加"
   ]
  },
  {
   "cell_type": "code",
   "execution_count": 37,
   "metadata": {
    "collapsed": false,
    "run_control": {
     "frozen": false,
     "read_only": false
    }
   },
   "outputs": [
    {
     "name": "stdout",
     "output_type": "stream",
     "text": [
      "[0, 1, 1, 2, 3, 5, 8, 13, 21, 34, 55]\n"
     ]
    }
   ],
   "source": [
    "fibs = [0, 1, 1, 2, 3, 5, 8, 13, 21, 34]\n",
    "next_fib = fibs[-1] + fibs[-2]\n",
    "fibs.append(next_fib)\n",
    "print(fibs)"
   ]
  },
  {
   "cell_type": "markdown",
   "metadata": {},
   "source": [
    "* `append` でリストに要素を追加することができる"
   ]
  },
  {
   "cell_type": "markdown",
   "metadata": {},
   "source": [
    "## リストの連結"
   ]
  },
  {
   "cell_type": "markdown",
   "metadata": {},
   "source": [
    "### extend（破壊的）"
   ]
  },
  {
   "cell_type": "code",
   "execution_count": 8,
   "metadata": {
    "collapsed": false,
    "run_control": {
     "frozen": false,
     "read_only": false
    },
    "scrolled": true
   },
   "outputs": [
    {
     "name": "stdout",
     "output_type": "stream",
     "text": [
      "[0, 1, 1, 2, 3, 5, 8, 13, 21, 34]\n"
     ]
    }
   ],
   "source": [
    "fibs = [0, 1, 1, 2, 3]\n",
    "fibs.extend([5, 8, 13, 21, 34])\n",
    "print(fibs)"
   ]
  },
  {
   "cell_type": "markdown",
   "metadata": {},
   "source": [
    "* `extend` でリストを連結することができる"
   ]
  },
  {
   "cell_type": "markdown",
   "metadata": {},
   "source": [
    "### `+`（非破壊的）"
   ]
  },
  {
   "cell_type": "code",
   "execution_count": 9,
   "metadata": {
    "collapsed": false,
    "run_control": {
     "frozen": false,
     "read_only": false
    }
   },
   "outputs": [
    {
     "name": "stdout",
     "output_type": "stream",
     "text": [
      "[0, 1, 1, 2, 3, 5, 8, 13, 21, 34]\n",
      "[0, 1, 1, 2, 3]\n"
     ]
    }
   ],
   "source": [
    "fibs = [0, 1, 1, 2, 3]\n",
    "print(fibs + [5, 8, 13, 21, 34])\n",
    "print(fibs)"
   ]
  },
  {
   "cell_type": "markdown",
   "metadata": {},
   "source": [
    "* `+` でリストを連結することができる\n",
    "* `extend` と違い元のリストの内容は変更されない"
   ]
  },
  {
   "cell_type": "markdown",
   "metadata": {},
   "source": [
    "### `*`（非破壊的）"
   ]
  },
  {
   "cell_type": "code",
   "execution_count": 10,
   "metadata": {
    "collapsed": false,
    "run_control": {
     "frozen": false,
     "read_only": false
    }
   },
   "outputs": [
    {
     "name": "stdout",
     "output_type": "stream",
     "text": [
      "[0, 0, 0, 0, 0, 0, 0, 0, 0, 0]\n",
      "[1, 2, 3, 1, 2, 3, 1, 2, 3]\n"
     ]
    }
   ],
   "source": [
    "xs = [0] * 10\n",
    "print(xs)\n",
    "xs = [1, 2, 3] * 3\n",
    "print(xs)"
   ]
  },
  {
   "cell_type": "markdown",
   "metadata": {},
   "source": [
    "* `*` でリストを繰り返して連結することができる\n",
    "    * ある値で埋まったリストが欲しい際によく使う"
   ]
  },
  {
   "cell_type": "markdown",
   "metadata": {},
   "source": [
    "## リストのソート"
   ]
  },
  {
   "cell_type": "markdown",
   "metadata": {},
   "source": [
    "### sort（破壊的）"
   ]
  },
  {
   "cell_type": "code",
   "execution_count": 11,
   "metadata": {
    "collapsed": false,
    "run_control": {
     "frozen": false,
     "read_only": false
    }
   },
   "outputs": [
    {
     "name": "stdout",
     "output_type": "stream",
     "text": [
      "[2, 3, 5, 7, 11, 13, 17]\n"
     ]
    }
   ],
   "source": [
    "primes = [7, 3, 13, 2, 17, 5, 11]\n",
    "primes.sort()\n",
    "print(primes)"
   ]
  },
  {
   "cell_type": "markdown",
   "metadata": {},
   "source": [
    "* `sort` でリストをソートする（整列させる）ことができる"
   ]
  },
  {
   "cell_type": "markdown",
   "metadata": {},
   "source": [
    "### sorted（非破壊的）"
   ]
  },
  {
   "cell_type": "code",
   "execution_count": 12,
   "metadata": {
    "collapsed": false,
    "run_control": {
     "frozen": false,
     "read_only": false
    }
   },
   "outputs": [
    {
     "name": "stdout",
     "output_type": "stream",
     "text": [
      "[7, 3, 13, 2, 17, 5, 11]\n",
      "[2, 3, 5, 7, 11, 13, 17]\n"
     ]
    }
   ],
   "source": [
    "primes = [7, 3, 13, 2, 17, 5, 11]\n",
    "sorted_primes = sorted(primes)\n",
    "print(primes)\n",
    "print(sorted_primes)"
   ]
  },
  {
   "cell_type": "markdown",
   "metadata": {},
   "source": [
    "* `sorted` はリストを受け取り、新しくソートしたリストを作って返す関数\n",
    "    * 上の例では `primes` の中身の順番は変更されていない\n",
    "* `append`, `extend`, `sort` のようにリストの中身を変更するような操作を**破壊的操作**と呼ぶ\n",
    "* `+` での連結, `sorted` のように新しいリストを作って返すような操作を**非破壊的操作**と呼ぶ"
   ]
  },
  {
   "cell_type": "markdown",
   "metadata": {},
   "source": [
    "## リスト内包表記"
   ]
  },
  {
   "cell_type": "code",
   "execution_count": 41,
   "metadata": {
    "collapsed": false,
    "run_control": {
     "frozen": false,
     "read_only": false
    }
   },
   "outputs": [
    {
     "name": "stdout",
     "output_type": "stream",
     "text": [
      "[0, 1, 2, 3, 4, 5, 6, 7, 8, 9, 10, 11, 12, 13, 14, 15]\n"
     ]
    }
   ],
   "source": [
    "xs = []\n",
    "for x in range(16):\n",
    "    xs.append(x)\n",
    "print(xs)"
   ]
  },
  {
   "cell_type": "markdown",
   "metadata": {},
   "source": [
    "* 0 から 15 までの整数が入ったリストを作るには上記のようにする\n",
    "* Python にはこのようなパターンをより短く書く表記が用意されている"
   ]
  },
  {
   "cell_type": "code",
   "execution_count": 42,
   "metadata": {
    "collapsed": false,
    "run_control": {
     "frozen": false,
     "read_only": false
    }
   },
   "outputs": [
    {
     "name": "stdout",
     "output_type": "stream",
     "text": [
      "[0, 1, 2, 3, 4, 5, 6, 7, 8, 9, 10, 11, 12, 13, 14, 15]\n"
     ]
    }
   ],
   "source": [
    "xs = [x for x in range(16)]\n",
    "print(xs)"
   ]
  },
  {
   "cell_type": "markdown",
   "metadata": {},
   "source": [
    "* **内包表記 (comprehension)** と呼ぶ \n",
    "* 文法がややこしいので順序に注意\n",
    "    * $\\{x\\ |\\ x \\in \\mathrm{range}(16)\\}$ からの類推"
   ]
  },
  {
   "cell_type": "code",
   "execution_count": 43,
   "metadata": {
    "collapsed": false,
    "run_control": {
     "frozen": false,
     "read_only": false
    }
   },
   "outputs": [
    {
     "name": "stdout",
     "output_type": "stream",
     "text": [
      "[0, 1, 4, 9, 16, 25, 36, 49, 64, 81, 100, 121, 144, 169, 196, 225]\n"
     ]
    }
   ],
   "source": [
    "xs = [x ** 2 for x in range(16)]\n",
    "print(xs)"
   ]
  },
  {
   "cell_type": "markdown",
   "metadata": {},
   "source": [
    "* $\\{x^2\\ |\\ x \\in \\mathrm{range}(16)\\}$ からの類推"
   ]
  },
  {
   "cell_type": "code",
   "execution_count": 46,
   "metadata": {
    "collapsed": false,
    "run_control": {
     "frozen": false,
     "read_only": false
    }
   },
   "outputs": [
    {
     "name": "stdout",
     "output_type": "stream",
     "text": [
      "[16, 25, 36, 49, 64, 81]\n"
     ]
    }
   ],
   "source": [
    "xs = [x ** 2 for x in range(16)]\n",
    "print([x for x in xs if len(str(x)) == 2])"
   ]
  },
  {
   "cell_type": "markdown",
   "metadata": {},
   "source": [
    "* `if` で条件を満たす要素だけ含めることができる\n",
    "    * 上の例では 2 桁の平方数だけを抽出している\n",
    "* $\\{x\\ |\\ x \\in xs,\\ \\mathrm{len}(\\mathrm{str}(x)) = 2\\}$ からの類推"
   ]
  },
  {
   "cell_type": "code",
   "execution_count": 49,
   "metadata": {
    "collapsed": false,
    "run_control": {
     "frozen": false,
     "read_only": false
    }
   },
   "outputs": [
    {
     "name": "stdout",
     "output_type": "stream",
     "text": [
      "[16, 25, 36, 49, 64, 81]\n"
     ]
    }
   ],
   "source": [
    "xs = [x ** 2 for x in range(16)]\n",
    "ys = []\n",
    "for x in xs:\n",
    "    if len(str(x)) == 2:\n",
    "        ys.append(x)\n",
    "print(ys)"
   ]
  },
  {
   "cell_type": "markdown",
   "metadata": {},
   "source": [
    "* 内包表記を使わなければこうなる"
   ]
  },
  {
   "cell_type": "markdown",
   "metadata": {},
   "source": [
    "## `list` 関数"
   ]
  },
  {
   "cell_type": "code",
   "execution_count": 17,
   "metadata": {
    "collapsed": false,
    "run_control": {
     "frozen": false,
     "read_only": false
    }
   },
   "outputs": [
    {
     "name": "stdout",
     "output_type": "stream",
     "text": [
      "[0, 1, 2, 3, 4, 5, 6, 7, 8, 9, 10, 11, 12, 13, 14, 15]\n"
     ]
    }
   ],
   "source": [
    "xs = list(range(16))\n",
    "print(xs)"
   ]
  },
  {
   "cell_type": "markdown",
   "metadata": {},
   "source": [
    "* 実は最初の例は `list` 関数で `range` を `list` に変換することでより短く書くことができる\n",
    "* `list` は反復可能 (iterable) なオブジェクトをリストに変換する関数である"
   ]
  },
  {
   "cell_type": "markdown",
   "metadata": {},
   "source": [
    "## リストを連結して文字列にする"
   ]
  },
  {
   "cell_type": "code",
   "execution_count": 18,
   "metadata": {
    "collapsed": false,
    "run_control": {
     "frozen": false,
     "read_only": false
    }
   },
   "outputs": [
    {
     "name": "stdout",
     "output_type": "stream",
     "text": [
      "murmur - chant - pray - invoke\n"
     ]
    }
   ],
   "source": [
    "print(' - '.join(['murmur', 'chant', 'pray', 'invoke']))"
   ]
  },
  {
   "cell_type": "markdown",
   "metadata": {},
   "source": [
    "* `join` で文字列のリストを連結して 1 つの文字列にすることができる\n",
    "* `.join` の前には間に挟む文字列が来る"
   ]
  },
  {
   "cell_type": "markdown",
   "metadata": {},
   "source": [
    "## 文字列を区切ってリストにする"
   ]
  },
  {
   "cell_type": "code",
   "execution_count": 19,
   "metadata": {
    "collapsed": false,
    "run_control": {
     "frozen": false,
     "read_only": false
    }
   },
   "outputs": [
    {
     "name": "stdout",
     "output_type": "stream",
     "text": [
      "['murmur', 'chant', 'pray', 'invoke']\n"
     ]
    }
   ],
   "source": [
    "print('murmur - chant - pray - invoke'.split(' - '))"
   ]
  },
  {
   "cell_type": "markdown",
   "metadata": {},
   "source": [
    "* `split` で文字列を区切ってリストにすることができる"
   ]
  },
  {
   "cell_type": "markdown",
   "metadata": {},
   "source": [
    "## `join` / `split` と内包表記"
   ]
  },
  {
   "cell_type": "code",
   "execution_count": 20,
   "metadata": {
    "collapsed": false,
    "run_control": {
     "frozen": false,
     "read_only": false
    }
   },
   "outputs": [
    {
     "name": "stdout",
     "output_type": "stream",
     "text": [
      "2 + 3 + 5 + 7 + 11 + 13 + 17 = 58\n"
     ]
    }
   ],
   "source": [
    "s = '2 3 5 7 11 13 17'\n",
    "xs = [int(x) for x in s.split(' ')]\n",
    "result = sum(xs)\n",
    "print('{0} = {1}'.format(' + '.join([str(x) for x in xs]), result))"
   ]
  },
  {
   "cell_type": "markdown",
   "metadata": {},
   "source": [
    "* `join` の引数 / `split` の戻り値は文字列のリストであるため、適宜リストの中身を `str` に、あるいは `str` から変換することが必要になる\n",
    "* この際に内包表記を使うとシンプルに書くことができる\n",
    "* `sum` 関数で合計を計算することができる"
   ]
  },
  {
   "cell_type": "markdown",
   "metadata": {},
   "source": [
    "## 発展：ジェネレータ"
   ]
  },
  {
   "cell_type": "code",
   "execution_count": 21,
   "metadata": {
    "collapsed": false,
    "run_control": {
     "frozen": false,
     "read_only": false
    }
   },
   "outputs": [
    {
     "name": "stdout",
     "output_type": "stream",
     "text": [
      "2 + 3 + 5 + 7 + 11 + 13 + 17 = 58\n"
     ]
    }
   ],
   "source": [
    "print('{0} = {1}'.format(' + '.join(str(x) for x in xs), result))"
   ]
  },
  {
   "cell_type": "markdown",
   "metadata": {},
   "source": [
    "* 実は上の例では `join` 時にリストの `[` `]` を付ける必要はない\n",
    "* `str(x) for x in xs` の部分はジェネレータとなる\n",
    "* ジェネレータを使うとリストのサイズ分のメモリを確保する必要がなくなる\n",
    "    * 現時点ではあまり気にする必要はない"
   ]
  },
  {
   "cell_type": "code",
   "execution_count": 22,
   "metadata": {
    "collapsed": false,
    "run_control": {
     "frozen": false,
     "read_only": false
    }
   },
   "outputs": [
    {
     "name": "stdout",
     "output_type": "stream",
     "text": [
      "<class 'generator'>\n",
      "gen: 0 1 2 3 4 5 6 7 8 9\n",
      "gen: \n"
     ]
    }
   ],
   "source": [
    "gen = (str(x) for x in range(10))\n",
    "print(type(gen))\n",
    "print('gen: ' + ' '.join(gen))\n",
    "print('gen: ' + ' '.join(gen))"
   ]
  },
  {
   "cell_type": "markdown",
   "metadata": {},
   "source": [
    "* 1 つのジェネレータは一度きりしか走査できない"
   ]
  }
 ],
 "metadata": {
  "kernelspec": {
   "display_name": "Python 3",
   "language": "python",
   "name": "python3"
  },
  "language_info": {
   "codemirror_mode": {
    "name": "ipython",
    "version": 3
   },
   "file_extension": ".py",
   "mimetype": "text/x-python",
   "name": "python",
   "nbconvert_exporter": "python",
   "pygments_lexer": "ipython3",
   "version": "3.5.1"
  },
  "latex_envs": {
   "bibliofile": "biblio.bib",
   "cite_by": "apalike",
   "current_citInitial": 1,
   "eqLabelWithNumbers": true,
   "eqNumInitial": 0
  },
  "toc": {
   "toc_cell": false,
   "toc_number_sections": false,
   "toc_threshold": 6,
   "toc_window_display": true
  }
 },
 "nbformat": 4,
 "nbformat_minor": 0
}
