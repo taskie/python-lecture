{
 "cells": [
  {
   "cell_type": "markdown",
   "metadata": {},
   "source": [
    "**04**\n",
    "\n",
    "キーワード：`for` ... `in`、`format`、関数、メソッド"
   ]
  },
  {
   "cell_type": "markdown",
   "metadata": {},
   "source": [
    "# Exercise\n",
    "\n",
    "## プログラム: Factorial\n",
    "\n",
    "* https://en.wikipedia.org/wiki/Factorial\n",
    "* 以下は階乗を求めるプログラムである（ただし $0! = 1$ とする）\n",
    "\n",
    "$$\n",
    "n! = n \\times (n - 1) \\times (n - 2) \\times \\dots \\times 1 = \\prod_{k=1}^{n} k\n",
    "$$"
   ]
  },
  {
   "cell_type": "code",
   "execution_count": 29,
   "metadata": {
    "collapsed": false,
    "run_control": {
     "frozen": false,
     "read_only": false
    }
   },
   "outputs": [
    {
     "name": "stdout",
     "output_type": "stream",
     "text": [
      "n = 10\n",
      "factorial: 3628800\n"
     ]
    }
   ],
   "source": [
    "n = int(input('n = '))\n",
    "fac = 1\n",
    "for k in range(1, n + 1):\n",
    "    fac *= k\n",
    "print('factorial: {0}'.format(fac))"
   ]
  },
  {
   "cell_type": "markdown",
   "metadata": {},
   "source": [
    "## 課題: <var>e</var>"
   ]
  },
  {
   "cell_type": "markdown",
   "metadata": {},
   "source": [
    "* https://en.wikipedia.org/wiki/Euler%27s%20number\n",
    "* 階乗の逆数の和を求めるプログラムを書こう\n",
    "* 実行時には `m` を入力させる\n",
    "\n",
    "$$\n",
    "e \\approx \\sum_{n = 0}^{m}\\frac{1}{n!} = \\sum_{n = 0}^{m}(\\prod_{k=1}^{n} k)^{-1}\n",
    "$$"
   ]
  },
  {
   "cell_type": "markdown",
   "metadata": {},
   "source": [
    "### 入出力例\n",
    "\n",
    "#### #1\n",
    "\n",
    "```\n",
    "m = 1\n",
    "e: 2.0\n",
    "```\n",
    "\n",
    "#### #2\n",
    "\n",
    "```\n",
    "m = 2\n",
    "e: 2.5\n",
    "```\n",
    "\n",
    "#### #3\n",
    "\n",
    "```\n",
    "m = 4\n",
    "e: 2.708333333333333\n",
    "```"
   ]
  },
  {
   "cell_type": "markdown",
   "metadata": {},
   "source": [
    "## 課題：Convergence to <var>e</var>"
   ]
  },
  {
   "cell_type": "markdown",
   "metadata": {},
   "source": [
    "* 級数が収束する過程を表示するプログラムを書こう\n",
    "* m を動かす範囲 (`m_start`, `m_stop`) と増分 (`m_step`) を入力させる\n",
    "* 結果を表示させる際には m を右揃えにし、e は小数点以下 16 桁まで表示させよう"
   ]
  },
  {
   "cell_type": "markdown",
   "metadata": {},
   "source": [
    "### 入出力例\n",
    "\n",
    "#### #1\n",
    "\n",
    "```\n",
    "m_start = 0\n",
    "m_stop  = 3\n",
    "m_step  = 1\n",
    "m: 0 | e: 1.0000000000000000\n",
    "m: 1 | e: 2.0000000000000000\n",
    "m: 2 | e: 2.5000000000000000\n",
    "m: 3 | e: 2.6666666666666665\n",
    "```\n",
    "\n",
    "#### #2\n",
    "\n",
    "```\n",
    "m_start = 1\n",
    "m_stop  = 10\n",
    "m_step  = 3\n",
    "m:  1 | e: 2.0000000000000000\n",
    "m:  4 | e: 2.7083333333333330\n",
    "m:  7 | e: 2.7182539682539684\n",
    "m: 10 | e: 2.7182818011463845\n",
    "```"
   ]
  },
  {
   "cell_type": "markdown",
   "metadata": {
    "collapsed": true
   },
   "source": [
    "# Lecture\n",
    "\n",
    "## for in と range"
   ]
  },
  {
   "cell_type": "code",
   "execution_count": 2,
   "metadata": {
    "collapsed": false,
    "run_control": {
     "frozen": false,
     "read_only": false
    }
   },
   "outputs": [
    {
     "name": "stdout",
     "output_type": "stream",
     "text": [
      "0\n",
      "1\n",
      "2\n",
      "3\n",
      "4\n"
     ]
    }
   ],
   "source": [
    "for i in range(5):\n",
    "    print(i)"
   ]
  },
  {
   "cell_type": "markdown",
   "metadata": {},
   "source": [
    "* `for` `in` で指定の回数だけ繰り返し処理を書くことができる\n",
    "* `range` で繰り返し回数を指定する\n",
    "    * 5 を渡すと 5 回繰り返され、変数 i には 0 から 4 までの数値が入る"
   ]
  },
  {
   "cell_type": "code",
   "execution_count": 3,
   "metadata": {
    "collapsed": false,
    "run_control": {
     "frozen": false,
     "read_only": false
    }
   },
   "outputs": [
    {
     "name": "stdout",
     "output_type": "stream",
     "text": [
      "10\n",
      "11\n",
      "12\n",
      "13\n",
      "14\n"
     ]
    }
   ],
   "source": [
    "for i in range(10, 15):\n",
    "    print(i)"
   ]
  },
  {
   "cell_type": "markdown",
   "metadata": {},
   "source": [
    "* `range(start, stop)` のように 2 つパラメータを渡すと `start` 以上 `stop` **未満**の数が変数 `i` に入る"
   ]
  },
  {
   "cell_type": "code",
   "execution_count": 4,
   "metadata": {
    "collapsed": false,
    "run_control": {
     "frozen": false,
     "read_only": false
    }
   },
   "outputs": [
    {
     "name": "stdout",
     "output_type": "stream",
     "text": [
      "1\n",
      "4\n",
      "7\n"
     ]
    }
   ],
   "source": [
    "for i in range(1, 10, 3):\n",
    "    print(i)"
   ]
  },
  {
   "cell_type": "markdown",
   "metadata": {
    "collapsed": true
   },
   "source": [
    "* `range(start, stop, step)` のように 3 つパラメータを渡すと増分（値の増え方）を `step` で指定できる "
   ]
  },
  {
   "cell_type": "code",
   "execution_count": 5,
   "metadata": {
    "collapsed": false,
    "run_control": {
     "frozen": false,
     "read_only": false
    }
   },
   "outputs": [
    {
     "name": "stdout",
     "output_type": "stream",
     "text": [
      "4\n",
      "3\n",
      "2\n",
      "1\n",
      "0\n"
     ]
    }
   ],
   "source": [
    "for i in range(4, -1, -1):\n",
    "    print(i)"
   ]
  },
  {
   "cell_type": "markdown",
   "metadata": {},
   "source": [
    "* `step` を負数にするとカウントダウンが可能"
   ]
  },
  {
   "cell_type": "markdown",
   "metadata": {},
   "source": [
    "## 多重ループ"
   ]
  },
  {
   "cell_type": "code",
   "execution_count": 6,
   "metadata": {
    "collapsed": false,
    "run_control": {
     "frozen": false,
     "read_only": false
    }
   },
   "outputs": [
    {
     "name": "stdout",
     "output_type": "stream",
     "text": [
      "1 * 1 = 1\n",
      "2 * 1 = 2\n",
      "2 * 2 = 4\n",
      "3 * 1 = 3\n",
      "3 * 2 = 6\n",
      "3 * 3 = 9\n",
      "4 * 1 = 4\n",
      "4 * 2 = 8\n",
      "4 * 3 = 12\n",
      "4 * 4 = 16\n"
     ]
    }
   ],
   "source": [
    "for i in range(1, 5):\n",
    "    for j in range(1, i + 1):\n",
    "        print(str(i) + ' * ' + str(j) + ' = ' + str(i * j))"
   ]
  },
  {
   "cell_type": "markdown",
   "metadata": {},
   "source": [
    "* ループを入れ子にすることができる\n",
    "* 上の例の場合、変数 `j` についてのループ（内側）が終わると、変数 `i` についてのループ（外側）が次の周回に入る"
   ]
  },
  {
   "cell_type": "markdown",
   "metadata": {},
   "source": [
    "## format"
   ]
  },
  {
   "cell_type": "code",
   "execution_count": 7,
   "metadata": {
    "collapsed": false,
    "run_control": {
     "frozen": false,
     "read_only": false
    }
   },
   "outputs": [
    {
     "name": "stdout",
     "output_type": "stream",
     "text": [
      "1 * 1 = 1\n",
      "2 * 1 = 2\n",
      "2 * 2 = 4\n",
      "3 * 1 = 3\n",
      "3 * 2 = 6\n",
      "3 * 3 = 9\n",
      "4 * 1 = 4\n",
      "4 * 2 = 8\n",
      "4 * 3 = 12\n",
      "4 * 4 = 16\n"
     ]
    }
   ],
   "source": [
    "for i in range(1, 5):\n",
    "    for j in range(1, i + 1):\n",
    "        print('{0} * {1} = {2}'.format(i, j, i * j))"
   ]
  },
  {
   "cell_type": "markdown",
   "metadata": {},
   "source": [
    "* 一々 `str` で型を変換して `+` で連結すると見辛くなる場合、`format` を使うとよい\n",
    "* `{0}`, `{1}`, `{2}` とおいた部分に `format` に渡したものが入っていく"
   ]
  },
  {
   "cell_type": "code",
   "execution_count": 8,
   "metadata": {
    "collapsed": false,
    "run_control": {
     "frozen": false,
     "read_only": false
    }
   },
   "outputs": [
    {
     "name": "stdout",
     "output_type": "stream",
     "text": [
      "good dog\n"
     ]
    }
   ],
   "source": [
    "s = '{0}{1}{1}{2} {2}{1}{0}'\n",
    "print(s.format('g', 'o', 'd'))"
   ]
  },
  {
   "cell_type": "markdown",
   "metadata": {},
   "source": [
    "* `{0}`, `{1}`, `{2}` は順番に置く必要はなく、何度でも出現させられる"
   ]
  },
  {
   "cell_type": "code",
   "execution_count": 9,
   "metadata": {
    "collapsed": false,
    "run_control": {
     "frozen": false,
     "read_only": false
    }
   },
   "outputs": [
    {
     "name": "stdout",
     "output_type": "stream",
     "text": [
      "255\n",
      "  255\n",
      "00255\n"
     ]
    }
   ],
   "source": [
    "x = 255\n",
    "print('{0}'.format(x))\n",
    "print('{0:5d}'.format(x))\n",
    "print('{0:05d}'.format(x))"
   ]
  },
  {
   "cell_type": "markdown",
   "metadata": {},
   "source": [
    "* コロン (`:`) の後に詳細な書式指定を書くことができる\n",
    "* 右揃え、0 埋め (padding) などもできる"
   ]
  },
  {
   "cell_type": "code",
   "execution_count": 10,
   "metadata": {
    "collapsed": false,
    "run_control": {
     "frozen": false,
     "read_only": false
    }
   },
   "outputs": [
    {
     "name": "stdout",
     "output_type": "stream",
     "text": [
      "0.5000000000, 0.500000000000000000000000000000\n",
      "0.3333333333, 0.333333333333333314829616256247\n",
      "0.2500000000, 0.250000000000000000000000000000\n",
      "0.1000000000, 0.100000000000000005551115123126\n",
      "0.0000152588, 0.000015258789062500000000000000\n"
     ]
    }
   ],
   "source": [
    "s = '{0:.10f}, {0:.30f}'\n",
    "print(s.format(0.5))\n",
    "print(s.format(1 / 3))\n",
    "print(s.format(0.25))\n",
    "print(s.format(0.1))\n",
    "print(s.format(1 / 65536))"
   ]
  },
  {
   "cell_type": "markdown",
   "metadata": {},
   "source": [
    "* `{0:.10f}` のように書くと小数点以下 10 桁を表示する\n",
    "* Python の float の精度（有効数字）は 15 桁程度である\n",
    "    * https://en.wikipedia.org/wiki/Double-precision_floating-point_format\n",
    "* 精度に関しては `decimal` や `fractions` モジュールを使うことで解決する場合もある\n",
    "    * その代わり計算速度は遅くなる"
   ]
  },
  {
   "cell_type": "markdown",
   "metadata": {},
   "source": [
    "## print の機能"
   ]
  },
  {
   "cell_type": "code",
   "execution_count": 11,
   "metadata": {
    "collapsed": false,
    "run_control": {
     "frozen": false,
     "read_only": false
    }
   },
   "outputs": [
    {
     "name": "stdout",
     "output_type": "stream",
     "text": [
      "1 2 3 4 5 6 7 8 9 \n",
      "2 4 6 8 10 12 14 16 18 \n",
      "3 6 9 12 15 18 21 24 27 \n",
      "4 8 12 16 20 24 28 32 36 \n",
      "5 10 15 20 25 30 35 40 45 \n",
      "6 12 18 24 30 36 42 48 54 \n",
      "7 14 21 28 35 42 49 56 63 \n",
      "8 16 24 32 40 48 56 64 72 \n",
      "9 18 27 36 45 54 63 72 81 \n"
     ]
    }
   ],
   "source": [
    "n = 9\n",
    "for i in range(1, n + 1):\n",
    "    for j in range(1, n + 1):\n",
    "        print(i * j, end=' ')\n",
    "    print()"
   ]
  },
  {
   "cell_type": "markdown",
   "metadata": {},
   "source": [
    "* `print(..., end=' ')` のようにすると、改行の代わりに指定した文字を出力する\n",
    "* `print()` のように何も渡さなければ改行だけが行われる"
   ]
  },
  {
   "cell_type": "markdown",
   "metadata": {},
   "source": [
    "## 文字列を右揃えにする"
   ]
  },
  {
   "cell_type": "code",
   "execution_count": 12,
   "metadata": {
    "collapsed": false,
    "run_control": {
     "frozen": false,
     "read_only": false
    },
    "scrolled": true
   },
   "outputs": [
    {
     "name": "stdout",
     "output_type": "stream",
     "text": [
      " 1  2  3  4  5  6  7  8  9 \n",
      " 2  4  6  8 10 12 14 16 18 \n",
      " 3  6  9 12 15 18 21 24 27 \n",
      " 4  8 12 16 20 24 28 32 36 \n",
      " 5 10 15 20 25 30 35 40 45 \n",
      " 6 12 18 24 30 36 42 48 54 \n",
      " 7 14 21 28 35 42 49 56 63 \n",
      " 8 16 24 32 40 48 56 64 72 \n",
      " 9 18 27 36 45 54 63 72 81 \n"
     ]
    }
   ],
   "source": [
    "n = 9\n",
    "l = len(str(n * n))\n",
    "for i in range(1, n + 1):\n",
    "    for j in range(1, n + 1):\n",
    "        print(str(i * j).rjust(l), end=' ')\n",
    "    print()"
   ]
  },
  {
   "cell_type": "markdown",
   "metadata": {},
   "source": [
    "* `len` 関数で文字列の長さを得ることができる\n",
    "* `len`, `str`, `range`, `print` は**関数 (function)**である\n",
    "    * 関数に括弧（`()`）を付けて**呼び出す (call)**  と、何らかの効果が発揮される\n",
    "    * 括弧内に**引数 (ひきすう、argument)** を入れる必要がある関数もある\n",
    "        * 例えば `print` は「表示したいもの」を引数に取る関数である\n",
    "* `rjust` で文字列を指定の長さで右揃え (right justified) にできる\n",
    "* `format` や `rjust` は文字列 (`str`) オブジェクトの**メソッド (method)**である\n",
    "    * オブジェクトの後に `.`（ピリオド）を付け、メソッド名と引数を与えるとメソッドを呼ぶことができる\n",
    "    * 数値・文字列・ブール値・関数などの「モノ」を総称してオブジェクトと呼ぶ\n",
    "    * Python ではほとんどのモノがオブジェクトであると考えてよい"
   ]
  },
  {
   "cell_type": "code",
   "execution_count": 8,
   "metadata": {
    "collapsed": false,
    "run_control": {
     "frozen": false,
     "read_only": false
    }
   },
   "outputs": [
    {
     "name": "stdout",
     "output_type": "stream",
     "text": [
      "*              *               *\n",
      "**             **             **\n",
      "***           ***            ***\n",
      "****          ****          ****\n",
      "*****        *****         *****\n",
      "******       ******       ******\n",
      "*******     *******      *******\n",
      "********    ********    ********\n",
      "*********  *********   *********\n",
      "********** ********** **********\n"
     ]
    }
   ],
   "source": [
    "l = 10\n",
    "for i in range(1, 11):\n",
    "    s = '*' * i\n",
    "    print(s.ljust(l), s.center(l), s.rjust(l))"
   ]
  },
  {
   "cell_type": "markdown",
   "metadata": {},
   "source": [
    "* 左揃えにする `rleft` メソッド、中央揃えにする `center` メソッドもある\n",
    "* `print` 関数に複数の引数を渡すと順番に表示される（間にスペースが入る）"
   ]
  },
  {
   "cell_type": "code",
   "execution_count": 75,
   "metadata": {
    "collapsed": false,
    "run_control": {
     "frozen": false,
     "read_only": false
    }
   },
   "outputs": [
    {
     "name": "stdout",
     "output_type": "stream",
     "text": [
      "x =   255\n",
      "x =   255\n"
     ]
    }
   ],
   "source": [
    "x = 255\n",
    "l = 5\n",
    "print('x = ' + str(x).rjust(l))\n",
    "print('x = {0:{1}d}'.format(x, l))"
   ]
  },
  {
   "cell_type": "markdown",
   "metadata": {},
   "source": [
    "* `format` を `rjust` のように使うこともできる\n",
    "* どちらが分かりやすいかはケースバイケース"
   ]
  }
 ],
 "metadata": {
  "kernelspec": {
   "display_name": "Python 3",
   "language": "python",
   "name": "python3"
  },
  "language_info": {
   "codemirror_mode": {
    "name": "ipython",
    "version": 3
   },
   "file_extension": ".py",
   "mimetype": "text/x-python",
   "name": "python",
   "nbconvert_exporter": "python",
   "pygments_lexer": "ipython3",
   "version": "3.5.1"
  },
  "latex_envs": {
   "bibliofile": "biblio.bib",
   "cite_by": "apalike",
   "current_citInitial": 1,
   "eqLabelWithNumbers": true,
   "eqNumInitial": 0
  },
  "toc": {
   "toc_cell": false,
   "toc_number_sections": false,
   "toc_threshold": 6,
   "toc_window_display": true
  }
 },
 "nbformat": 4,
 "nbformat_minor": 0
}
