{
 "cells": [
  {
   "cell_type": "markdown",
   "metadata": {},
   "source": [
    "**03**\n",
    "\n",
    "キーワード：複合代入・while 文"
   ]
  },
  {
   "cell_type": "markdown",
   "metadata": {
    "collapsed": false
   },
   "source": [
    "# Exercise\n",
    "\n",
    "## 課題: Collatz Conjecture\n",
    "\n",
    "* https://en.wikipedia.org/wiki/Collatz_conjecture\n",
    "* 「偶数なら 2 で割る、奇数なら 3 倍して 1 を足す」という操作を繰り返すプログラムを作ろう\n",
    "\n",
    "### 入出力例\n",
    "\n",
    "```\n",
    "n = 3\n",
    "3\n",
    "10\n",
    "5\n",
    "16\n",
    "8\n",
    "4\n",
    "2\n",
    "1\n",
    "```\n",
    "\n",
    "* ユーザは <samp>3</samp> だけを入力する"
   ]
  },
  {
   "cell_type": "markdown",
   "metadata": {},
   "source": [
    "# Lecture\n",
    "\n",
    "## 代入"
   ]
  },
  {
   "cell_type": "code",
   "execution_count": 1,
   "metadata": {
    "collapsed": false,
    "run_control": {
     "frozen": false,
     "read_only": false
    }
   },
   "outputs": [
    {
     "name": "stdout",
     "output_type": "stream",
     "text": [
      "5\n",
      "1\n",
      "3\n",
      "1.5\n",
      "2.5\n"
     ]
    }
   ],
   "source": [
    "i = 5\n",
    "print(i)\n",
    "i = i - 4\n",
    "print(i)\n",
    "i = i * 3\n",
    "print(i)\n",
    "i = i / 2\n",
    "print(i)\n",
    "i = i + 1\n",
    "print(i)"
   ]
  },
  {
   "cell_type": "markdown",
   "metadata": {},
   "source": [
    "* `i = i + 1` 等と書くと、「`i` に 1 を足した数を、新たに `i` に代入する」という挙動になる"
   ]
  },
  {
   "cell_type": "markdown",
   "metadata": {},
   "source": [
    "## 複合代入"
   ]
  },
  {
   "cell_type": "code",
   "execution_count": 2,
   "metadata": {
    "collapsed": false,
    "run_control": {
     "frozen": false,
     "read_only": false
    }
   },
   "outputs": [
    {
     "name": "stdout",
     "output_type": "stream",
     "text": [
      "5\n",
      "1\n",
      "3\n",
      "1.5\n",
      "2.5\n"
     ]
    }
   ],
   "source": [
    "i = 5\n",
    "print(i)\n",
    "i -= 4\n",
    "print(i)\n",
    "i *= 3\n",
    "print(i)\n",
    "i /= 2\n",
    "print(i)\n",
    "i += 1\n",
    "print(i)"
   ]
  },
  {
   "cell_type": "markdown",
   "metadata": {},
   "source": [
    "* `i = i + 1` を `i += 1` と略記できる（複合代入, compound assignment）"
   ]
  },
  {
   "cell_type": "markdown",
   "metadata": {
    "collapsed": true
   },
   "source": [
    "## while 文"
   ]
  },
  {
   "cell_type": "code",
   "execution_count": 3,
   "metadata": {
    "collapsed": false,
    "run_control": {
     "frozen": false,
     "read_only": false
    }
   },
   "outputs": [
    {
     "name": "stdout",
     "output_type": "stream",
     "text": [
      "> 4\n",
      "6\n",
      "> 3\n",
      "3\n",
      "> 2\n",
      "1\n",
      "> 1\n",
      "0\n"
     ]
    }
   ],
   "source": [
    "n = 10\n",
    "while n > 0:\n",
    "    n -= int(input('> '))\n",
    "    print(n)"
   ]
  },
  {
   "cell_type": "markdown",
   "metadata": {},
   "source": [
    "* `while` で反復処理を書くことができる\n",
    "* 条件が `True` である限り中身の処理を繰り返し実行し続ける"
   ]
  },
  {
   "cell_type": "markdown",
   "metadata": {},
   "source": [
    "## break 文"
   ]
  },
  {
   "cell_type": "code",
   "execution_count": 5,
   "metadata": {
    "collapsed": false,
    "run_control": {
     "frozen": false,
     "read_only": false
    }
   },
   "outputs": [
    {
     "name": "stdout",
     "output_type": "stream",
     "text": [
      "> 4\n",
      "4\n",
      "> 3\n",
      "7\n",
      "> 2\n",
      "9\n",
      "> 1\n",
      "10\n",
      "> 0\n",
      "Sum: 10\n"
     ]
    }
   ],
   "source": [
    "n = 0\n",
    "while True:\n",
    "    x = int(input('> '))\n",
    "    if x == 0:\n",
    "        break\n",
    "    n += x\n",
    "    print(n)\n",
    "print('Sum: ' + str(n))"
   ]
  },
  {
   "cell_type": "markdown",
   "metadata": {},
   "source": [
    "* `while True:` と書くと無限ループになる\n",
    "* `break` でループを中断することができる"
   ]
  }
 ],
 "metadata": {
  "kernelspec": {
   "display_name": "Python 3",
   "language": "python",
   "name": "python3"
  },
  "language_info": {
   "codemirror_mode": {
    "name": "ipython",
    "version": 3
   },
   "file_extension": ".py",
   "mimetype": "text/x-python",
   "name": "python",
   "nbconvert_exporter": "python",
   "pygments_lexer": "ipython3",
   "version": "3.5.1"
  },
  "latex_envs": {
   "bibliofile": "biblio.bib",
   "cite_by": "apalike",
   "current_citInitial": 1,
   "eqLabelWithNumbers": true,
   "eqNumInitial": 0
  },
  "toc": {
   "toc_cell": false,
   "toc_number_sections": false,
   "toc_threshold": 6,
   "toc_window_display": true
  }
 },
 "nbformat": 4,
 "nbformat_minor": 0
}
