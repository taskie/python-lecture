{
 "cells": [
  {
   "cell_type": "markdown",
   "metadata": {},
   "source": [
    "# pandas"
   ]
  },
  {
   "cell_type": "markdown",
   "metadata": {},
   "source": [
    "* http://pandas.pydata.org/\n",
    "* データ解析ライブラリ\n",
    "* 別途インストールが必要（Anaconda には同梱済み）"
   ]
  },
  {
   "cell_type": "code",
   "execution_count": 4,
   "metadata": {
    "collapsed": false,
    "run_control": {
     "frozen": false,
     "read_only": false
    },
    "scrolled": true
   },
   "outputs": [
    {
     "name": "stdout",
     "output_type": "stream",
     "text": [
      "<class 'pandas.core.frame.DataFrame'>\n",
      "     sym3           name    formula    weight\n",
      "sym1                                         \n",
      "I     Ile     Isoleucine   C6H13NO2  131.1736\n",
      "L     Leu        Leucine   C6H13NO2  131.1736\n",
      "K     Lys         Lysine  C6H14N2O2  146.1882\n",
      "M     Met     Methionine  C5H11NO2S  149.2124\n",
      "F     Phe  Phenylalanine   C9H11NO2  165.1900\n"
     ]
    }
   ],
   "source": [
    "import pandas as pd\n",
    "header = ('sym1', 'sym3', 'name', 'formula', 'weight')\n",
    "amino_acids_table = pd.read_csv('files/amino_acids_table.txt', delimiter='\\t',\n",
    "                                names=header, index_col='sym1')\n",
    "print(type(amino_acids_table))\n",
    "print(amino_acids_table.head())"
   ]
  },
  {
   "cell_type": "markdown",
   "metadata": {},
   "source": [
    "* [files/amino_acids_table.txt](files/amino_acids_table.txt)\n",
    "* `pandas` モジュールを使って csv ファイルを読み込むとより高度な操作が可能になる\n",
    "* `names=` でヘッダ、`index_col` でインデックスを指定できる"
   ]
  },
  {
   "cell_type": "code",
   "execution_count": 10,
   "metadata": {
    "collapsed": false,
    "run_control": {
     "frozen": false,
     "read_only": false
    }
   },
   "outputs": [
    {
     "data": {
      "text/html": [
       "<div>\n",
       "<table border=\"1\" class=\"dataframe\">\n",
       "  <thead>\n",
       "    <tr style=\"text-align: right;\">\n",
       "      <th></th>\n",
       "      <th>sym3</th>\n",
       "      <th>name</th>\n",
       "      <th>formula</th>\n",
       "      <th>weight</th>\n",
       "    </tr>\n",
       "    <tr>\n",
       "      <th>sym1</th>\n",
       "      <th></th>\n",
       "      <th></th>\n",
       "      <th></th>\n",
       "      <th></th>\n",
       "    </tr>\n",
       "  </thead>\n",
       "  <tbody>\n",
       "    <tr>\n",
       "      <th>I</th>\n",
       "      <td>Ile</td>\n",
       "      <td>Isoleucine</td>\n",
       "      <td>C6H13NO2</td>\n",
       "      <td>131.1736</td>\n",
       "    </tr>\n",
       "    <tr>\n",
       "      <th>L</th>\n",
       "      <td>Leu</td>\n",
       "      <td>Leucine</td>\n",
       "      <td>C6H13NO2</td>\n",
       "      <td>131.1736</td>\n",
       "    </tr>\n",
       "    <tr>\n",
       "      <th>K</th>\n",
       "      <td>Lys</td>\n",
       "      <td>Lysine</td>\n",
       "      <td>C6H14N2O2</td>\n",
       "      <td>146.1882</td>\n",
       "    </tr>\n",
       "    <tr>\n",
       "      <th>M</th>\n",
       "      <td>Met</td>\n",
       "      <td>Methionine</td>\n",
       "      <td>C5H11NO2S</td>\n",
       "      <td>149.2124</td>\n",
       "    </tr>\n",
       "    <tr>\n",
       "      <th>F</th>\n",
       "      <td>Phe</td>\n",
       "      <td>Phenylalanine</td>\n",
       "      <td>C9H11NO2</td>\n",
       "      <td>165.1900</td>\n",
       "    </tr>\n",
       "  </tbody>\n",
       "</table>\n",
       "</div>"
      ],
      "text/plain": [
       "     sym3           name    formula    weight\n",
       "sym1                                         \n",
       "I     Ile     Isoleucine   C6H13NO2  131.1736\n",
       "L     Leu        Leucine   C6H13NO2  131.1736\n",
       "K     Lys         Lysine  C6H14N2O2  146.1882\n",
       "M     Met     Methionine  C5H11NO2S  149.2124\n",
       "F     Phe  Phenylalanine   C9H11NO2  165.1900"
      ]
     },
     "execution_count": 10,
     "metadata": {},
     "output_type": "execute_result"
    }
   ],
   "source": [
    "amino_acids_table.head()"
   ]
  },
  {
   "cell_type": "markdown",
   "metadata": {},
   "source": [
    "* Jupyter Notebook を使うと pandas のオブジェクトを綺麗に出力できる"
   ]
  },
  {
   "cell_type": "code",
   "execution_count": 29,
   "metadata": {
    "collapsed": false,
    "run_control": {
     "frozen": false,
     "read_only": false
    }
   },
   "outputs": [
    {
     "data": {
      "text/plain": [
       "sym1\n",
       "I    131.1736\n",
       "L    131.1736\n",
       "K    146.1882\n",
       "M    149.2124\n",
       "F    165.1900\n",
       "Name: weight, dtype: float64"
      ]
     },
     "execution_count": 29,
     "metadata": {},
     "output_type": "execute_result"
    }
   ],
   "source": [
    "amino_acids_table['weight'].head()"
   ]
  },
  {
   "cell_type": "markdown",
   "metadata": {},
   "source": [
    "* `[]` で列を抜き出すことができる"
   ]
  },
  {
   "cell_type": "code",
   "execution_count": 45,
   "metadata": {
    "collapsed": false,
    "run_control": {
     "frozen": false,
     "read_only": false
    }
   },
   "outputs": [
    {
     "data": {
      "text/plain": [
       "sym3           Ala\n",
       "name       Alanine\n",
       "formula    C3H7NO2\n",
       "weight     89.0935\n",
       "Name: A, dtype: object"
      ]
     },
     "execution_count": 45,
     "metadata": {},
     "output_type": "execute_result"
    }
   ],
   "source": [
    "amino_acids_table.ix['A']"
   ]
  },
  {
   "cell_type": "markdown",
   "metadata": {},
   "source": [
    "* `.ix[]` で行を抜き出すことができる"
   ]
  },
  {
   "cell_type": "code",
   "execution_count": 48,
   "metadata": {
    "collapsed": false,
    "run_control": {
     "frozen": false,
     "read_only": false
    }
   },
   "outputs": [
    {
     "data": {
      "text/plain": [
       "'C3H7NO2'"
      ]
     },
     "execution_count": 48,
     "metadata": {},
     "output_type": "execute_result"
    }
   ],
   "source": [
    "amino_acids_table.ix['A', 'formula']"
   ]
  },
  {
   "cell_type": "markdown",
   "metadata": {},
   "source": [
    "* `ix` に対してインデックスと列名を指定することで値を得ることができる"
   ]
  },
  {
   "cell_type": "code",
   "execution_count": 35,
   "metadata": {
    "collapsed": false,
    "run_control": {
     "frozen": false,
     "read_only": false
    }
   },
   "outputs": [
    {
     "data": {
      "text/html": [
       "<div>\n",
       "<table border=\"1\" class=\"dataframe\">\n",
       "  <thead>\n",
       "    <tr style=\"text-align: right;\">\n",
       "      <th></th>\n",
       "      <th>sym3</th>\n",
       "      <th>name</th>\n",
       "      <th>formula</th>\n",
       "      <th>weight</th>\n",
       "    </tr>\n",
       "    <tr>\n",
       "      <th>sym1</th>\n",
       "      <th></th>\n",
       "      <th></th>\n",
       "      <th></th>\n",
       "      <th></th>\n",
       "    </tr>\n",
       "  </thead>\n",
       "  <tbody>\n",
       "    <tr>\n",
       "      <th>A</th>\n",
       "      <td>Ala</td>\n",
       "      <td>Alanine</td>\n",
       "      <td>C3H7NO2</td>\n",
       "      <td>89.0935</td>\n",
       "    </tr>\n",
       "    <tr>\n",
       "      <th>C</th>\n",
       "      <td>Cys</td>\n",
       "      <td>Cysteine</td>\n",
       "      <td>C3H7NO2S</td>\n",
       "      <td>121.1590</td>\n",
       "    </tr>\n",
       "    <tr>\n",
       "      <th>D</th>\n",
       "      <td>Asp</td>\n",
       "      <td>Aspartate</td>\n",
       "      <td>C4H7NO4</td>\n",
       "      <td>133.1032</td>\n",
       "    </tr>\n",
       "    <tr>\n",
       "      <th>E</th>\n",
       "      <td>Glu</td>\n",
       "      <td>Glutamate</td>\n",
       "      <td>C5H9NO4</td>\n",
       "      <td>147.1299</td>\n",
       "    </tr>\n",
       "    <tr>\n",
       "      <th>F</th>\n",
       "      <td>Phe</td>\n",
       "      <td>Phenylalanine</td>\n",
       "      <td>C9H11NO2</td>\n",
       "      <td>165.1900</td>\n",
       "    </tr>\n",
       "  </tbody>\n",
       "</table>\n",
       "</div>"
      ],
      "text/plain": [
       "     sym3           name   formula    weight\n",
       "sym1                                        \n",
       "A     Ala        Alanine   C3H7NO2   89.0935\n",
       "C     Cys       Cysteine  C3H7NO2S  121.1590\n",
       "D     Asp      Aspartate   C4H7NO4  133.1032\n",
       "E     Glu      Glutamate   C5H9NO4  147.1299\n",
       "F     Phe  Phenylalanine  C9H11NO2  165.1900"
      ]
     },
     "execution_count": 35,
     "metadata": {},
     "output_type": "execute_result"
    }
   ],
   "source": [
    "amino_acids_table.sort_index().head()"
   ]
  },
  {
   "cell_type": "code",
   "execution_count": 40,
   "metadata": {
    "collapsed": false,
    "run_control": {
     "frozen": false,
     "read_only": false
    }
   },
   "outputs": [
    {
     "data": {
      "text/html": [
       "<div>\n",
       "<table border=\"1\" class=\"dataframe\">\n",
       "  <thead>\n",
       "    <tr style=\"text-align: right;\">\n",
       "      <th></th>\n",
       "      <th>sym3</th>\n",
       "      <th>name</th>\n",
       "      <th>formula</th>\n",
       "      <th>weight</th>\n",
       "    </tr>\n",
       "    <tr>\n",
       "      <th>sym1</th>\n",
       "      <th></th>\n",
       "      <th></th>\n",
       "      <th></th>\n",
       "      <th></th>\n",
       "    </tr>\n",
       "  </thead>\n",
       "  <tbody>\n",
       "    <tr>\n",
       "      <th>A</th>\n",
       "      <td>Ala</td>\n",
       "      <td>Alanine</td>\n",
       "      <td>C3H7NO2</td>\n",
       "      <td>89.0935</td>\n",
       "    </tr>\n",
       "    <tr>\n",
       "      <th>R</th>\n",
       "      <td>Arg</td>\n",
       "      <td>Arginine</td>\n",
       "      <td>C6H14N4O2</td>\n",
       "      <td>174.2017</td>\n",
       "    </tr>\n",
       "    <tr>\n",
       "      <th>N</th>\n",
       "      <td>Asn</td>\n",
       "      <td>Asparagine</td>\n",
       "      <td>C4H8N2O3</td>\n",
       "      <td>132.1184</td>\n",
       "    </tr>\n",
       "    <tr>\n",
       "      <th>D</th>\n",
       "      <td>Asp</td>\n",
       "      <td>Aspartate</td>\n",
       "      <td>C4H7NO4</td>\n",
       "      <td>133.1032</td>\n",
       "    </tr>\n",
       "    <tr>\n",
       "      <th>C</th>\n",
       "      <td>Cys</td>\n",
       "      <td>Cysteine</td>\n",
       "      <td>C3H7NO2S</td>\n",
       "      <td>121.1590</td>\n",
       "    </tr>\n",
       "  </tbody>\n",
       "</table>\n",
       "</div>"
      ],
      "text/plain": [
       "     sym3        name    formula    weight\n",
       "sym1                                      \n",
       "A     Ala     Alanine    C3H7NO2   89.0935\n",
       "R     Arg    Arginine  C6H14N4O2  174.2017\n",
       "N     Asn  Asparagine   C4H8N2O3  132.1184\n",
       "D     Asp   Aspartate    C4H7NO4  133.1032\n",
       "C     Cys    Cysteine   C3H7NO2S  121.1590"
      ]
     },
     "execution_count": 40,
     "metadata": {},
     "output_type": "execute_result"
    }
   ],
   "source": [
    "amino_acids_table.sort_values(by='sym3').head()"
   ]
  },
  {
   "cell_type": "code",
   "execution_count": 37,
   "metadata": {
    "collapsed": false,
    "run_control": {
     "frozen": false,
     "read_only": false
    }
   },
   "outputs": [
    {
     "data": {
      "text/html": [
       "<div>\n",
       "<table border=\"1\" class=\"dataframe\">\n",
       "  <thead>\n",
       "    <tr style=\"text-align: right;\">\n",
       "      <th></th>\n",
       "      <th>sym3</th>\n",
       "      <th>name</th>\n",
       "      <th>formula</th>\n",
       "      <th>weight</th>\n",
       "    </tr>\n",
       "    <tr>\n",
       "      <th>sym1</th>\n",
       "      <th></th>\n",
       "      <th></th>\n",
       "      <th></th>\n",
       "      <th></th>\n",
       "    </tr>\n",
       "  </thead>\n",
       "  <tbody>\n",
       "    <tr>\n",
       "      <th>W</th>\n",
       "      <td>Trp</td>\n",
       "      <td>Tryptophan</td>\n",
       "      <td>C11H12N2O2</td>\n",
       "      <td>204.2262</td>\n",
       "    </tr>\n",
       "    <tr>\n",
       "      <th>Y</th>\n",
       "      <td>Tyr</td>\n",
       "      <td>Tyrosine</td>\n",
       "      <td>C9H11NO3</td>\n",
       "      <td>181.1894</td>\n",
       "    </tr>\n",
       "    <tr>\n",
       "      <th>R</th>\n",
       "      <td>Arg</td>\n",
       "      <td>Arginine</td>\n",
       "      <td>C6H14N4O2</td>\n",
       "      <td>174.2017</td>\n",
       "    </tr>\n",
       "    <tr>\n",
       "      <th>F</th>\n",
       "      <td>Phe</td>\n",
       "      <td>Phenylalanine</td>\n",
       "      <td>C9H11NO2</td>\n",
       "      <td>165.1900</td>\n",
       "    </tr>\n",
       "    <tr>\n",
       "      <th>H</th>\n",
       "      <td>His</td>\n",
       "      <td>Histidine</td>\n",
       "      <td>C6H9N3O2</td>\n",
       "      <td>155.1552</td>\n",
       "    </tr>\n",
       "  </tbody>\n",
       "</table>\n",
       "</div>"
      ],
      "text/plain": [
       "     sym3           name     formula    weight\n",
       "sym1                                          \n",
       "W     Trp     Tryptophan  C11H12N2O2  204.2262\n",
       "Y     Tyr       Tyrosine    C9H11NO3  181.1894\n",
       "R     Arg       Arginine   C6H14N4O2  174.2017\n",
       "F     Phe  Phenylalanine    C9H11NO2  165.1900\n",
       "H     His      Histidine    C6H9N3O2  155.1552"
      ]
     },
     "execution_count": 37,
     "metadata": {},
     "output_type": "execute_result"
    }
   ],
   "source": [
    "amino_acids_table.sort_values(by='weight', ascending=False).head()"
   ]
  },
  {
   "cell_type": "markdown",
   "metadata": {},
   "source": [
    "* 表をソートすることもできる\n",
    "    * インデックスでソートするには `sort_index` を使う\n",
    "    * 値でソートするには `sort_values` を使う"
   ]
  },
  {
   "cell_type": "code",
   "execution_count": 9,
   "metadata": {
    "collapsed": true,
    "run_control": {
     "frozen": false,
     "read_only": false
    }
   },
   "outputs": [],
   "source": [
    "# Jupyter Notebook で動かす場合のみ必要\n",
    "%matplotlib inline"
   ]
  },
  {
   "cell_type": "code",
   "execution_count": 10,
   "metadata": {
    "collapsed": false,
    "run_control": {
     "frozen": false,
     "read_only": false
    },
    "scrolled": true
   },
   "outputs": [
    {
     "data": {
      "text/plain": [
       "<matplotlib.axes._subplots.AxesSubplot at 0x7fddcf84b0b8>"
      ]
     },
     "execution_count": 10,
     "metadata": {},
     "output_type": "execute_result"
    },
    {
     "data": {
      "image/png": "[encoded data removed]",
      "text/plain": [
       "<matplotlib.figure.Figure at 0x7fddcf7e6550>"
      ]
     },
     "metadata": {},
     "output_type": "display_data"
    }
   ],
   "source": [
    "amino_acids_table.sort_values(by='weight').plot.bar()"
   ]
  },
  {
   "cell_type": "markdown",
   "metadata": {},
   "source": [
    "* matplotlib と連携させてグラフを描画することも可能"
   ]
  }
 ],
 "metadata": {
  "kernelspec": {
   "display_name": "Python 3",
   "language": "python",
   "name": "python3"
  },
  "language_info": {
   "codemirror_mode": {
    "name": "ipython",
    "version": 3
   },
   "file_extension": ".py",
   "mimetype": "text/x-python",
   "name": "python",
   "nbconvert_exporter": "python",
   "pygments_lexer": "ipython3",
   "version": "3.5.1"
  },
  "latex_envs": {
   "bibliofile": "biblio.bib",
   "cite_by": "apalike",
   "current_citInitial": 1,
   "eqLabelWithNumbers": true,
   "eqNumInitial": 0
  },
  "toc": {
   "toc_cell": false,
   "toc_number_sections": false,
   "toc_section_display": "none",
   "toc_threshold": 6,
   "toc_window_display": true
  }
 },
 "nbformat": 4,
 "nbformat_minor": 0
}
