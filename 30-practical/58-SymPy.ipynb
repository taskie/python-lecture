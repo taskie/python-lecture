{
 "cells": [
  {
   "cell_type": "markdown",
   "metadata": {},
   "source": [
    "# SymPy\n",
    "\n",
    "* http://www.sympy.org/en/index.html\n",
    "* 数式計算ライブラリ\n",
    "* 別途インストールが必要（Anaconda には同梱済み）\n",
    "* http://www.scipy-lectures.org/packages/sympy.html\n",
    "    * http://www.turbare.net/transl/scipy-lecture-notes/packages/sympy.html\n",
    "* http://chezou.hatenablog.com/entry/2015/11/23/210207\n",
    "* 例: https://en.wikipedia.org/wiki/Lennard-Jones_potential"
   ]
  },
  {
   "cell_type": "code",
   "execution_count": 1,
   "metadata": {
    "collapsed": true
   },
   "outputs": [],
   "source": [
    "import sympy as sy"
   ]
  },
  {
   "cell_type": "code",
   "execution_count": 2,
   "metadata": {
    "collapsed": true
   },
   "outputs": [],
   "source": [
    "# for Jupyter Notebook\n",
    "sy.init_printing()"
   ]
  },
  {
   "cell_type": "markdown",
   "metadata": {},
   "source": [
    "## 基本操作"
   ]
  },
  {
   "cell_type": "code",
   "execution_count": 3,
   "metadata": {
    "collapsed": false
   },
   "outputs": [
    {
     "data": {
      "image/png": "[encoded data removed]",
      "text/latex": [
       "$$ε$$"
      ],
      "text/plain": [
       "ε"
      ]
     },
     "execution_count": 3,
     "metadata": {},
     "output_type": "execute_result"
    }
   ],
   "source": [
    "epsilon = sy.Symbol('ε')\n",
    "epsilon"
   ]
  },
  {
   "cell_type": "code",
   "execution_count": 94,
   "metadata": {
    "collapsed": false,
    "scrolled": true
   },
   "outputs": [
    {
     "data": {
      "image/png": "[encoded data removed]",
      "text/latex": [
       "$$4 ε \\left(- \\frac{σ^{6}}{r^{6}} + \\frac{σ^{12}}{r^{12}}\\right)$$"
      ],
      "text/plain": [
       "    ⎛   6    12⎞\n",
       "    ⎜  σ    σ  ⎟\n",
       "4⋅ε⋅⎜- ── + ───⎟\n",
       "    ⎜   6    12⎟\n",
       "    ⎝  r    r  ⎠"
      ]
     },
     "execution_count": 94,
     "metadata": {},
     "output_type": "execute_result"
    }
   ],
   "source": [
    "sigma = sy.Symbol('σ')\n",
    "r = sy.Symbol('r')\n",
    "U = 4 * epsilon * ((sigma / r) ** 12 - (sigma / r) ** 6)\n",
    "U"
   ]
  },
  {
   "cell_type": "code",
   "execution_count": 95,
   "metadata": {
    "collapsed": false
   },
   "outputs": [
    {
     "data": {
      "text/plain": [
       "'4*ε*(-σ**6/r**6 + σ**12/r**12)'"
      ]
     },
     "execution_count": 95,
     "metadata": {},
     "output_type": "execute_result"
    }
   ],
   "source": [
    "str(U)"
   ]
  },
  {
   "cell_type": "code",
   "execution_count": 96,
   "metadata": {
    "collapsed": false,
    "scrolled": true
   },
   "outputs": [
    {
     "data": {
      "text/plain": [
       "'4 ε \\\\left(- \\\\frac{σ^{6}}{r^{6}} + \\\\frac{σ^{12}}{r^{12}}\\\\right)'"
      ]
     },
     "execution_count": 96,
     "metadata": {},
     "output_type": "execute_result"
    }
   ],
   "source": [
    "sy.latex(U)"
   ]
  },
  {
   "cell_type": "markdown",
   "metadata": {},
   "source": [
    "### 展開"
   ]
  },
  {
   "cell_type": "code",
   "execution_count": 97,
   "metadata": {
    "collapsed": false,
    "scrolled": true
   },
   "outputs": [
    {
     "data": {
      "image/png": "[encoded data removed]",
      "text/latex": [
       "$$- \\frac{4 ε}{r^{6}} σ^{6} + \\frac{4 ε}{r^{12}} σ^{12}$$"
      ],
      "text/plain": [
       "       6        12\n",
       "  4⋅ε⋅σ    4⋅ε⋅σ  \n",
       "- ────── + ───────\n",
       "     6        12  \n",
       "    r        r    "
      ]
     },
     "execution_count": 97,
     "metadata": {},
     "output_type": "execute_result"
    }
   ],
   "source": [
    "sy.expand(U)"
   ]
  },
  {
   "cell_type": "markdown",
   "metadata": {},
   "source": [
    "### 単純化"
   ]
  },
  {
   "cell_type": "code",
   "execution_count": 98,
   "metadata": {
    "collapsed": false
   },
   "outputs": [
    {
     "data": {
      "image/png": "[encoded data removed]",
      "text/latex": [
       "$$- \\frac{4 ε}{r^{12}} σ^{6} \\left(r^{6} - σ^{6}\\right)$$"
      ],
      "text/plain": [
       "      6 ⎛ 6    6⎞ \n",
       "-4⋅ε⋅σ ⋅⎝r  - σ ⎠ \n",
       "──────────────────\n",
       "        12        \n",
       "       r          "
      ]
     },
     "execution_count": 98,
     "metadata": {},
     "output_type": "execute_result"
    }
   ],
   "source": [
    "sy.simplify(U)"
   ]
  },
  {
   "cell_type": "markdown",
   "metadata": {},
   "source": [
    "### 微分"
   ]
  },
  {
   "cell_type": "code",
   "execution_count": 99,
   "metadata": {
    "collapsed": false
   },
   "outputs": [
    {
     "data": {
      "image/png": "[encoded data removed]",
      "text/latex": [
       "$$4 ε \\left(\\frac{6 σ^{6}}{r^{7}} - \\frac{12 σ^{12}}{r^{13}}\\right)$$"
      ],
      "text/plain": [
       "    ⎛   6       12⎞\n",
       "    ⎜6⋅σ    12⋅σ  ⎟\n",
       "4⋅ε⋅⎜──── - ──────⎟\n",
       "    ⎜  7      13  ⎟\n",
       "    ⎝ r      r    ⎠"
      ]
     },
     "execution_count": 99,
     "metadata": {},
     "output_type": "execute_result"
    }
   ],
   "source": [
    "F = sy.diff(U, r)\n",
    "F"
   ]
  },
  {
   "cell_type": "code",
   "execution_count": 100,
   "metadata": {
    "collapsed": false
   },
   "outputs": [
    {
     "data": {
      "image/png": "[encoded data removed]",
      "text/latex": [
       "$$\\frac{24 ε}{r^{13}} σ^{6} \\left(r^{6} - 2 σ^{6}\\right)$$"
      ],
      "text/plain": [
       "      6 ⎛ 6      6⎞\n",
       "24⋅ε⋅σ ⋅⎝r  - 2⋅σ ⎠\n",
       "───────────────────\n",
       "         13        \n",
       "        r          "
      ]
     },
     "execution_count": 100,
     "metadata": {},
     "output_type": "execute_result"
    }
   ],
   "source": [
    "sy.simplify(F)"
   ]
  },
  {
   "cell_type": "markdown",
   "metadata": {},
   "source": [
    "### 積分"
   ]
  },
  {
   "cell_type": "code",
   "execution_count": 101,
   "metadata": {
    "collapsed": false
   },
   "outputs": [
    {
     "data": {
      "image/png": "[encoded data removed]",
      "text/latex": [
       "$$- \\frac{1}{r^{12}} \\left(4 r^{6} ε σ^{6} - 4 ε σ^{12}\\right)$$"
      ],
      "text/plain": [
       " ⎛   6    6        12⎞ \n",
       "-⎝4⋅r ⋅ε⋅σ  - 4⋅ε⋅σ  ⎠ \n",
       "───────────────────────\n",
       "           12          \n",
       "          r            "
      ]
     },
     "execution_count": 101,
     "metadata": {},
     "output_type": "execute_result"
    }
   ],
   "source": [
    "U2 = sy.integrate(F, r)\n",
    "U2"
   ]
  },
  {
   "cell_type": "code",
   "execution_count": 102,
   "metadata": {
    "collapsed": false
   },
   "outputs": [
    {
     "data": {
      "image/png": "[encoded data removed]",
      "text/latex": [
       "$$0$$"
      ],
      "text/plain": [
       "0"
      ]
     },
     "execution_count": 102,
     "metadata": {},
     "output_type": "execute_result"
    }
   ],
   "source": [
    "sy.simplify(U - U2)"
   ]
  },
  {
   "cell_type": "markdown",
   "metadata": {},
   "source": [
    "### 方程式を解く"
   ]
  },
  {
   "cell_type": "code",
   "execution_count": 103,
   "metadata": {
    "collapsed": false,
    "scrolled": false
   },
   "outputs": [
    {
     "data": {
      "image/png": "[encoded data removed]",
      "text/latex": [
       "$$\\left [ - \\sqrt[6]{2} σ, \\quad \\sqrt[6]{2} σ, \\quad σ \\left(- \\frac{\\sqrt[6]{2}}{2} - \\frac{\\sqrt[6]{2} i}{2} \\sqrt{3}\\right), \\quad σ \\left(- \\frac{\\sqrt[6]{2}}{2} + \\frac{\\sqrt[6]{2} i}{2} \\sqrt{3}\\right), \\quad σ \\left(\\frac{\\sqrt[6]{2}}{2} - \\frac{\\sqrt[6]{2} i}{2} \\sqrt{3}\\right), \\quad σ \\left(\\frac{\\sqrt[6]{2}}{2} + \\frac{\\sqrt[6]{2} i}{2} \\sqrt{3}\\right)\\right ]$$"
      ],
      "text/plain": [
       "⎡                     ⎛  6 ___   6 ___     ⎞    ⎛  6 ___   6 ___     ⎞    ⎛6 _\n",
       "⎢ 6 ___    6 ___      ⎜  ╲╱ 2    ╲╱ 2 ⋅√3⋅ⅈ⎟    ⎜  ╲╱ 2    ╲╱ 2 ⋅√3⋅ⅈ⎟    ⎜╲╱ \n",
       "⎢-╲╱ 2 ⋅σ, ╲╱ 2 ⋅σ, σ⋅⎜- ───── - ──────────⎟, σ⋅⎜- ───── + ──────────⎟, σ⋅⎜───\n",
       "⎣                     ⎝    2         2     ⎠    ⎝    2         2     ⎠    ⎝  2\n",
       "\n",
       "__   6 ___     ⎞    ⎛6 ___   6 ___     ⎞⎤\n",
       "2    ╲╱ 2 ⋅√3⋅ⅈ⎟    ⎜╲╱ 2    ╲╱ 2 ⋅√3⋅ⅈ⎟⎥\n",
       "── - ──────────⎟, σ⋅⎜───── + ──────────⎟⎥\n",
       "         2     ⎠    ⎝  2         2     ⎠⎦"
      ]
     },
     "execution_count": 103,
     "metadata": {},
     "output_type": "execute_result"
    }
   ],
   "source": [
    "sy.solve(F, r)"
   ]
  },
  {
   "cell_type": "markdown",
   "metadata": {},
   "source": [
    "### 代入"
   ]
  },
  {
   "cell_type": "code",
   "execution_count": 104,
   "metadata": {
    "collapsed": false
   },
   "outputs": [
    {
     "data": {
      "image/png": "[encoded data removed]",
      "text/latex": [
       "$$\\frac{36964.080066048}{r^{7}} - \\frac{114204548.238817}{r^{13}}$$"
      ],
      "text/plain": [
       "36964.080066048   114204548.238817\n",
       "─────────────── - ────────────────\n",
       "        7                13       \n",
       "       r                r         "
      ]
     },
     "execution_count": 104,
     "metadata": {},
     "output_type": "execute_result"
    }
   ],
   "source": [
    "F.subs([(epsilon, 0.997), (sigma, 3.40)])"
   ]
  },
  {
   "cell_type": "code",
   "execution_count": 111,
   "metadata": {
    "collapsed": false
   },
   "outputs": [
    {
     "data": {
      "image/png": "[encoded data removed]",
      "text/latex": [
       "$$\\frac{ε}{σ} 1.77635683940025 \\cdot 10^{-15}$$"
      ],
      "text/plain": [
       "1.77635683940025e-15⋅ε\n",
       "──────────────────────\n",
       "          σ           "
      ]
     },
     "execution_count": 111,
     "metadata": {},
     "output_type": "execute_result"
    }
   ],
   "source": [
    "F.subs([(r, 2 ** (1 / 6) * sigma)])"
   ]
  },
  {
   "cell_type": "markdown",
   "metadata": {},
   "source": [
    "## `Eq`, `solve`, `subs` の組み合わせ"
   ]
  },
  {
   "cell_type": "code",
   "execution_count": 57,
   "metadata": {
    "collapsed": false
   },
   "outputs": [
    {
     "data": {
      "image/png": "[encoded data removed]",
      "text/latex": [
       "$$\\left ( A = 4 ε σ^{12}, \\quad B = 4 ε σ^{6}\\right )$$"
      ],
      "text/plain": [
       "⎛         12           6⎞\n",
       "⎝A = 4⋅ε⋅σ  , B = 4⋅ε⋅σ ⎠"
      ]
     },
     "execution_count": 57,
     "metadata": {},
     "output_type": "execute_result"
    }
   ],
   "source": [
    "A, B = sy.symbols(\"A B\")\n",
    "A_eq = sy.Eq(A, 4 * epsilon * sigma ** 12)\n",
    "B_eq = sy.Eq(B, 4 * epsilon * sigma ** 6)\n",
    "(A_eq, B_eq)"
   ]
  },
  {
   "cell_type": "code",
   "execution_count": 58,
   "metadata": {
    "collapsed": false
   },
   "outputs": [
    {
     "data": {
      "image/png": "[encoded data removed]",
      "text/latex": [
       "$$\\left [ \\left ( - \\sqrt[6]{\\frac{A}{B}}, \\quad \\frac{B^{2}}{4 A}\\right ), \\quad \\left ( \\sqrt[6]{\\frac{A}{B}}, \\quad \\frac{B^{2}}{4 A}\\right ), \\quad \\left ( - \\frac{\\sqrt[6]{\\frac{A}{B}}}{2} - \\frac{\\sqrt{3} i}{2} \\sqrt[6]{\\frac{A}{B}}, \\quad \\frac{B^{2}}{4 A}\\right ), \\quad \\left ( - \\frac{\\sqrt[6]{\\frac{A}{B}}}{2} + \\frac{\\sqrt{3} i}{2} \\sqrt[6]{\\frac{A}{B}}, \\quad \\frac{B^{2}}{4 A}\\right ), \\quad \\left ( \\frac{\\sqrt[6]{\\frac{A}{B}}}{2} - \\frac{\\sqrt{3} i}{2} \\sqrt[6]{\\frac{A}{B}}, \\quad \\frac{B^{2}}{4 A}\\right ), \\quad \\left ( \\frac{\\sqrt[6]{\\frac{A}{B}}}{2} + \\frac{\\sqrt{3} i}{2} \\sqrt[6]{\\frac{A}{B}}, \\quad \\frac{B^{2}}{4 A}\\right )\\right ]$$"
      ],
      "text/plain": [
       "⎡                                 ⎛      ___            ___     ⎞  ⎛      ___ \n",
       "⎢                                 ⎜     ╱ A            ╱ A      ⎟  ⎜     ╱ A  \n",
       "⎢⎛     ___    2⎞  ⎛    ___    2⎞  ⎜  6 ╱  ─    √3⋅ⅈ⋅6 ╱  ─     2⎟  ⎜  6 ╱  ─  \n",
       "⎢⎜    ╱ A    B ⎟  ⎜   ╱ A    B ⎟  ⎜  ╲╱   B         ╲╱   B    B ⎟  ⎜  ╲╱   B  \n",
       "⎢⎜-6 ╱  ─ , ───⎟, ⎜6 ╱  ─ , ───⎟, ⎜- ─────── - ────────────, ───⎟, ⎜- ─────── \n",
       "⎣⎝ ╲╱   B   4⋅A⎠  ⎝╲╱   B   4⋅A⎠  ⎝     2           2        4⋅A⎠  ⎝     2    \n",
       "\n",
       "           ___     ⎞  ⎛    ___            ___     ⎞  ⎛    ___            ___  \n",
       "          ╱ A      ⎟  ⎜   ╱ A            ╱ A      ⎟  ⎜   ╱ A            ╱ A   \n",
       "  √3⋅ⅈ⋅6 ╱  ─     2⎟  ⎜6 ╱  ─    √3⋅ⅈ⋅6 ╱  ─     2⎟  ⎜6 ╱  ─    √3⋅ⅈ⋅6 ╱  ─   \n",
       "       ╲╱   B    B ⎟  ⎜╲╱   B         ╲╱   B    B ⎟  ⎜╲╱   B         ╲╱   B   \n",
       "+ ────────────, ───⎟, ⎜─────── - ────────────, ───⎟, ⎜─────── + ────────────, \n",
       "       2        4⋅A⎠  ⎝   2           2        4⋅A⎠  ⎝   2           2        \n",
       "\n",
       "   ⎞⎤\n",
       "   ⎟⎥\n",
       "  2⎟⎥\n",
       " B ⎟⎥\n",
       "───⎟⎥\n",
       "4⋅A⎠⎦"
      ]
     },
     "execution_count": 58,
     "metadata": {},
     "output_type": "execute_result"
    }
   ],
   "source": [
    "ses = sy.solve([A_eq, B_eq], [sigma, epsilon])\n",
    "ses"
   ]
  },
  {
   "cell_type": "code",
   "execution_count": 74,
   "metadata": {
    "collapsed": false
   },
   "outputs": [
    {
     "data": {
      "image/png": "[encoded data removed]",
      "text/latex": [
       "$$\\left ( \\sqrt[6]{\\frac{A}{B}}, \\quad \\frac{B^{2}}{4 A}\\right )$$"
      ],
      "text/plain": [
       "⎛    ___    2⎞\n",
       "⎜   ╱ A    B ⎟\n",
       "⎜6 ╱  ─ , ───⎟\n",
       "⎝╲╱   B   4⋅A⎠"
      ]
     },
     "execution_count": 74,
     "metadata": {},
     "output_type": "execute_result"
    }
   ],
   "source": [
    "(sigma_AB, epsilon_AB) = ses[1]\n",
    "(sigma_AB, epsilon_AB)"
   ]
  },
  {
   "cell_type": "code",
   "execution_count": 79,
   "metadata": {
    "collapsed": false
   },
   "outputs": [
    {
     "data": {
      "image/png": "[encoded data removed]",
      "text/latex": [
       "$$\\left ( \\frac{A}{r^{12}} - \\frac{B}{r^{6}}, \\quad - \\frac{12 A}{r^{13}} + \\frac{6 B}{r^{7}}\\right )$$"
      ],
      "text/plain": [
       "⎛ A    B     12⋅A   6⋅B⎞\n",
       "⎜─── - ──, - ──── + ───⎟\n",
       "⎜ 12    6     13      7⎟\n",
       "⎝r     r     r       r ⎠"
      ]
     },
     "execution_count": 79,
     "metadata": {},
     "output_type": "execute_result"
    }
   ],
   "source": [
    "mapper = [(sigma, sigma_AB), (epsilon, epsilon_AB)]\n",
    "U_AB = U.subs(mapper).expand()\n",
    "F_AB = F.subs(mapper).expand()\n",
    "(U_AB, F_AB)"
   ]
  },
  {
   "cell_type": "markdown",
   "metadata": {},
   "source": [
    "## SAT"
   ]
  },
  {
   "cell_type": "code",
   "execution_count": 18,
   "metadata": {
    "collapsed": false
   },
   "outputs": [
    {
     "data": {
      "image/png": "[encoded data removed]",
      "text/latex": [
       "$$\\left(a \\wedge b\\right) \\vee \\left(a \\wedge \\neg c\\right) \\vee \\left(c \\wedge d\\right) \\vee \\neg (b \\veebar d)$$"
      ],
      "text/plain": [
       "(a ∧ b) ∨ (a ∧ ¬c) ∨ (c ∧ d) ∨ ¬(b ⊻ d)"
      ]
     },
     "execution_count": 18,
     "metadata": {},
     "output_type": "execute_result"
    }
   ],
   "source": [
    "a, b, c, d = sy.symbols(\"a b c d\")\n",
    "logic = (a & b) | (c & d) | (a & ~c) | ~(b ^ d)\n",
    "logic"
   ]
  },
  {
   "cell_type": "code",
   "execution_count": 19,
   "metadata": {
    "collapsed": false
   },
   "outputs": [
    {
     "data": {
      "image/png": "[encoded data removed]",
      "text/latex": [
       "$$a \\vee \\left(b \\wedge d\\right) \\vee \\left(c \\wedge \\neg b\\right) \\vee \\left(\\neg b \\wedge \\neg d\\right)$$"
      ],
      "text/plain": [
       "a ∨ (b ∧ d) ∨ (c ∧ ¬b) ∨ (¬b ∧ ¬d)"
      ]
     },
     "execution_count": 19,
     "metadata": {},
     "output_type": "execute_result"
    }
   ],
   "source": [
    "sy.simplify_logic(logic)"
   ]
  },
  {
   "cell_type": "code",
   "execution_count": 20,
   "metadata": {
    "collapsed": false
   },
   "outputs": [
    {
     "data": {
      "text/plain": [
       "{c: False, d: True, b: True, a: True}"
      ]
     },
     "execution_count": 20,
     "metadata": {},
     "output_type": "execute_result"
    }
   ],
   "source": [
    "sy.satisfiable(logic)"
   ]
  }
 ],
 "metadata": {
  "kernelspec": {
   "display_name": "Python 3",
   "language": "python",
   "name": "python3"
  },
  "language_info": {
   "codemirror_mode": {
    "name": "ipython",
    "version": 3
   },
   "file_extension": ".py",
   "mimetype": "text/x-python",
   "name": "python",
   "nbconvert_exporter": "python",
   "pygments_lexer": "ipython3",
   "version": "3.5.1"
  },
  "latex_envs": {
   "bibliofile": "biblio.bib",
   "cite_by": "apalike",
   "current_citInitial": 1,
   "eqLabelWithNumbers": true,
   "eqNumInitial": 0
  },
  "toc": {
   "toc_cell": false,
   "toc_number_sections": false,
   "toc_threshold": 6,
   "toc_window_display": true
  }
 },
 "nbformat": 4,
 "nbformat_minor": 0
}
