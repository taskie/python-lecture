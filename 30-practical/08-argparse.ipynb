{
 "cells": [
  {
   "cell_type": "markdown",
   "metadata": {},
   "source": [
    "# コマンドライン引数\n",
    "\n",
    "* IPython では先頭に `!` を付けると（Python のコードではなく）ターミナルのコマンドとして扱われる"
   ]
  },
  {
   "cell_type": "code",
   "execution_count": 37,
   "metadata": {
    "collapsed": false
   },
   "outputs": [
    {
     "name": "stdout",
     "output_type": "stream",
     "text": [
      "Python 3.5.1 :: Anaconda 4.0.0 (x86_64)\r\n"
     ]
    }
   ],
   "source": [
    "!python3 --version"
   ]
  },
  {
   "cell_type": "code",
   "execution_count": 28,
   "metadata": {
    "collapsed": false
   },
   "outputs": [
    {
     "name": "stdout",
     "output_type": "stream",
     "text": [
      "files/argparse.py files/sys_argv.py\r\n"
     ]
    }
   ],
   "source": [
    "!ls files/*.py"
   ]
  },
  {
   "cell_type": "code",
   "execution_count": 29,
   "metadata": {
    "collapsed": false
   },
   "outputs": [
    {
     "name": "stdout",
     "output_type": "stream",
     "text": [
      "       3       3      28 files/sys_argv.py\r\n"
     ]
    }
   ],
   "source": [
    "!wc files/sys_argv.py"
   ]
  },
  {
   "cell_type": "markdown",
   "metadata": {},
   "source": [
    "## `sys.argv`\n",
    "\n",
    "* [files/sys_argv.py](files/sys_argv.py)"
   ]
  },
  {
   "cell_type": "code",
   "execution_count": 34,
   "metadata": {
    "collapsed": false
   },
   "outputs": [
    {
     "name": "stdout",
     "output_type": "stream",
     "text": [
      "['files/sys_argv.py']\r\n"
     ]
    }
   ],
   "source": [
    "!python3 files/sys_argv.py"
   ]
  },
  {
   "cell_type": "code",
   "execution_count": 35,
   "metadata": {
    "collapsed": false
   },
   "outputs": [
    {
     "name": "stdout",
     "output_type": "stream",
     "text": [
      "['files/sys_argv.py', '1', '2', '3']\r\n"
     ]
    }
   ],
   "source": [
    "!python3 files/sys_argv.py 1 2 3"
   ]
  },
  {
   "cell_type": "code",
   "execution_count": 36,
   "metadata": {
    "collapsed": false
   },
   "outputs": [
    {
     "name": "stdout",
     "output_type": "stream",
     "text": [
      "['files/sys_argv.py', '1 2 3']\r\n"
     ]
    }
   ],
   "source": [
    "!python3 files/sys_argv.py \"1 2 3\""
   ]
  },
  {
   "cell_type": "markdown",
   "metadata": {},
   "source": [
    "## argparse\n",
    "\n",
    "* https://docs.python.org/3/library/argparse.html\n",
    "    * http://docs.python.jp/3/library/argparse.html （日本語版）\n",
    "* [files/argparse_test.py](files/argparse_test.py)"
   ]
  },
  {
   "cell_type": "code",
   "execution_count": 101,
   "metadata": {
    "collapsed": false
   },
   "outputs": [
    {
     "name": "stdout",
     "output_type": "stream",
     "text": [
      "usage: argparse_test.py [-h] [-H n | -T n] [-t] [-u] [file [file ...]]\r\n",
      "\r\n",
      "positional arguments:\r\n",
      "  file\r\n",
      "\r\n",
      "optional arguments:\r\n",
      "  -h, --help      show this help message and exit\r\n",
      "  -H n, --head n  head\r\n",
      "  -T n, --tail n  tail\r\n",
      "  -t, --tac       tac\r\n",
      "  -u, --uniq      uniq\r\n"
     ]
    }
   ],
   "source": [
    "!python3 files/argparse_test.py --help"
   ]
  },
  {
   "cell_type": "code",
   "execution_count": 102,
   "metadata": {
    "collapsed": false
   },
   "outputs": [
    {
     "name": "stdout",
     "output_type": "stream",
     "text": [
      "Namespace(file=[], head=None, tac=False, tail=None, uniq=False)\r\n"
     ]
    }
   ],
   "source": [
    "!python3 files/argparse_test.py"
   ]
  },
  {
   "cell_type": "code",
   "execution_count": 103,
   "metadata": {
    "collapsed": false
   },
   "outputs": [
    {
     "name": "stdout",
     "output_type": "stream",
     "text": [
      "Namespace(file=[<_io.TextIOWrapper name='files/sys_argv.py' mode='r' encoding='UTF-8'>, <_io.TextIOWrapper name='files/argparse_test.py' mode='r' encoding='UTF-8'>], head=None, tac=True, tail=5, uniq=False)\r\n"
     ]
    }
   ],
   "source": [
    "!python3 files/argparse_test.py -t -T 5 files/sys_argv.py files/argparse_test.py"
   ]
  },
  {
   "cell_type": "code",
   "execution_count": 104,
   "metadata": {
    "collapsed": false
   },
   "outputs": [
    {
     "name": "stdout",
     "output_type": "stream",
     "text": [
      "Namespace(file=[<_io.TextIOWrapper name='files/sys_argv.py' mode='r' encoding='UTF-8'>], head=5, tac=False, tail=None, uniq=True)\r\n"
     ]
    }
   ],
   "source": [
    "!python3 files/argparse_test.py -uH 5 files/sys_argv.py"
   ]
  },
  {
   "cell_type": "code",
   "execution_count": 105,
   "metadata": {
    "collapsed": false
   },
   "outputs": [
    {
     "name": "stdout",
     "output_type": "stream",
     "text": [
      "usage: argparse_test.py [-h] [-H n | -T n] [-t] [-u] [file [file ...]]\r\n",
      "argparse_test.py: error: argument file: can't open 'files/no_file.py': [Errno 2] No such file or directory: 'files/no_file.py'\r\n"
     ]
    }
   ],
   "source": [
    "!python3 files/argparse_test.py files/no_file.py"
   ]
  }
 ],
 "metadata": {
  "kernelspec": {
   "display_name": "Python 3",
   "language": "python",
   "name": "python3"
  },
  "language_info": {
   "codemirror_mode": {
    "name": "ipython",
    "version": 3
   },
   "file_extension": ".py",
   "mimetype": "text/x-python",
   "name": "python",
   "nbconvert_exporter": "python",
   "pygments_lexer": "ipython3",
   "version": "3.5.1"
  }
 },
 "nbformat": 4,
 "nbformat_minor": 0
}
