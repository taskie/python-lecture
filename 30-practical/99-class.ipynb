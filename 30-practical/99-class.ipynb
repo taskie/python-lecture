{
 "cells": [
  {
   "cell_type": "code",
   "execution_count": 1,
   "metadata": {
    "collapsed": false,
    "run_control": {
     "frozen": false,
     "read_only": false
    }
   },
   "outputs": [],
   "source": [
    "import numpy as np\n",
    "import random\n",
    "import itertools\n",
    "import collections\n",
    "\n",
    "def to_tuple_if_not(pos):\n",
    "    return pos if isinstance(pos, tuple) else tuple(pos)\n",
    "    \n",
    "def vadd_tuple(t1, t2):\n",
    "    return tuple(x1 + x2 for x1, x2 in zip(t1, t2))\n",
    "    \n",
    "class LifeGame:\n",
    "    def __init__(self, shape=(24, 40), *, periodic=True, rule=None):\n",
    "        self.periodic = periodic\n",
    "        self.rule = rule if rule else {True: (2, 3), False: (3,)} # 23/3\n",
    "        self.generation = 0\n",
    "        self.shape = to_tuple_if_not(shape)\n",
    "        self.dimension = len(self.shape)\n",
    "        self.board = np.zeros(self.shape, dtype=bool)\n",
    "    \n",
    "    def __getitem__(self, key):\n",
    "        key = to_tuple_if_not(key)\n",
    "        if self.periodic:\n",
    "            return self.board[tuple(x % n for (x, n) in zip(key, self.shape))]\n",
    "        elif all(0 <= x < n for (x, n) in zip(key, self.shape)):\n",
    "            return self.board[key]\n",
    "        else:\n",
    "            return False\n",
    "            \n",
    "    def __setitem__(self, key, value):\n",
    "        key = to_tuple_if_not(key)\n",
    "        if self.periodic:\n",
    "            self.board[tuple(x % n for (x, n) in zip(key, self.shape))] = value\n",
    "        elif all(0 <= x < n for (x, n) in zip(key, self.shape)):\n",
    "            self.board[key] = value\n",
    "        else:\n",
    "            pass\n",
    "    \n",
    "    def keys(self):\n",
    "        nranges = (range(n) for n in self.shape)\n",
    "        return itertools.product(*nranges)\n",
    "    \n",
    "    def count_neighbor(self, key):\n",
    "        dranges = itertools.repeat(range(-1, 2), self.dimension)\n",
    "        dkeys = itertools.product(*dranges)\n",
    "        dkeys = filter(any, dkeys) # remove (0, 0, ...)\n",
    "        neighbors = (vadd_tuple(key, dkey) for dkey in dkeys)\n",
    "        return sum(self[neighbor] for neighbor in neighbors)\n",
    "        \n",
    "    def next_cell_state(self, key):\n",
    "        ns = self.rule[self[key]]\n",
    "        return self.count_neighbor(key) in ns\n",
    "        \n",
    "    def randomize(self, randobj=None):\n",
    "        randobj = randobj if randobj else random\n",
    "        for key in self.keys():\n",
    "            self[key] = bool(randobj.randint(0, 1))            \n",
    "    \n",
    "    def __str__(self):\n",
    "        queue = collections.deque()\n",
    "        queue.append(self.board)\n",
    "        s = ''\n",
    "        while queue:\n",
    "            item = queue.popleft()\n",
    "            if isinstance(item, str):\n",
    "                s += item\n",
    "            elif len(item.shape) == 1:\n",
    "                s += ''.join(('██' if x else '  ') for x in item)\n",
    "            else:\n",
    "                for i, x in enumerate(item):\n",
    "                    if i != 0:\n",
    "                        queue.append('\\n')\n",
    "                    queue.append(x)\n",
    "        return s\n",
    "    \n",
    "    def __next__(self):\n",
    "        next_board = np.zeros(self.shape, dtype=bool)\n",
    "        for key in self.keys():\n",
    "            next_board[key] = self.next_cell_state(key)\n",
    "        self.board = next_board\n",
    "        return self\n",
    "\n",
    "    def __iter__(self):\n",
    "        return self"
   ]
  },
  {
   "cell_type": "code",
   "execution_count": 2,
   "metadata": {
    "collapsed": false,
    "run_control": {
     "frozen": false,
     "read_only": false
    }
   },
   "outputs": [],
   "source": [
    "lg = LifeGame((10,10), periodic=True)\n",
    "lg.randomize()"
   ]
  },
  {
   "cell_type": "code",
   "execution_count": 3,
   "metadata": {
    "collapsed": false,
    "run_control": {
     "frozen": false,
     "read_only": false
    }
   },
   "outputs": [
    {
     "name": "stdout",
     "output_type": "stream",
     "text": [
      "██  ██  ██████  ██  \n",
      "██                  \n",
      "██        ██      ██\n",
      "          ██        \n",
      "        ██      ██  \n",
      "    ██    ██    ██  \n",
      "        ████        \n",
      "    ████          ██\n",
      "      ██  ██    ██  \n",
      "  ████          ████\n"
     ]
    }
   ],
   "source": [
    "print(next(lg))"
   ]
  }
 ],
 "metadata": {
  "kernelspec": {
   "display_name": "Python 3",
   "language": "python",
   "name": "python3"
  },
  "language_info": {
   "codemirror_mode": {
    "name": "ipython",
    "version": 3
   },
   "file_extension": ".py",
   "mimetype": "text/x-python",
   "name": "python",
   "nbconvert_exporter": "python",
   "pygments_lexer": "ipython3",
   "version": "3.5.1"
  },
  "latex_envs": {
   "bibliofile": "biblio.bib",
   "cite_by": "apalike",
   "current_citInitial": 1,
   "eqLabelWithNumbers": true,
   "eqNumInitial": 0
  },
  "toc": {
   "toc_cell": false,
   "toc_number_sections": false,
   "toc_threshold": 6,
   "toc_window_display": true
  }
 },
 "nbformat": 4,
 "nbformat_minor": 0
}
