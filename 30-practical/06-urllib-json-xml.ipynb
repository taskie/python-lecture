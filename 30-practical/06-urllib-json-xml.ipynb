{
 "cells": [
  {
   "cell_type": "markdown",
   "metadata": {},
   "source": [
    "## ネットワーク上からリソースをダウンロードする"
   ]
  },
  {
   "cell_type": "code",
   "execution_count": 1,
   "metadata": {
    "collapsed": true
   },
   "outputs": [],
   "source": [
    "import urllib\n",
    "import urllib.request"
   ]
  },
  {
   "cell_type": "markdown",
   "metadata": {},
   "source": [
    "* https://docs.python.org/3/library/urllib.request.html\n",
    "* http://docs.python.jp/3/library/urllib.request.html"
   ]
  },
  {
   "cell_type": "code",
   "execution_count": 2,
   "metadata": {
    "collapsed": false,
    "run_control": {
     "frozen": false,
     "read_only": false
    }
   },
   "outputs": [
    {
     "data": {
      "text/plain": [
       "'Python%20%28programming%20language%29'"
      ]
     },
     "execution_count": 2,
     "metadata": {},
     "output_type": "execute_result"
    }
   ],
   "source": [
    "title = 'Python (programming language)'\n",
    "quoted_title = urllib.parse.quote(title)\n",
    "quoted_title"
   ]
  },
  {
   "cell_type": "code",
   "execution_count": 3,
   "metadata": {
    "collapsed": false
   },
   "outputs": [
    {
     "data": {
      "text/plain": [
       "'https://en.wikipedia.org/w/api.php?format=json&action=query&prop=revisions&titles=Python%20%28programming%20language%29&rvprop=content'"
      ]
     },
     "execution_count": 3,
     "metadata": {},
     "output_type": "execute_result"
    }
   ],
   "source": [
    "response_type = \"json\"\n",
    "url_format = \"https://en.wikipedia.org/w/api.php?format={format}&action=query&prop=revisions&titles={titles}&rvprop=content\"\n",
    "url = url_format.format(format = response_type, titles = quoted_title)\n",
    "url"
   ]
  },
  {
   "cell_type": "code",
   "execution_count": 4,
   "metadata": {
    "collapsed": false
   },
   "outputs": [
    {
     "name": "stdout",
     "output_type": "stream",
     "text": [
      "200\n",
      "<class 'bytes'>\n",
      "{\"batchcomplete\":\"\",\"query\":{\"pages\":{\"23862\":{\"pageid\":23862,\"ns\":0,\"title\":\"Python (programming language)\",\"revisions\":[{\"contentformat\":\"text/x-wiki\",\"contentmodel\":\"wikitext\",\"*\":\"{{About|the programming language|the genus and other uses|Python (disambiguation)}}\\n{{Use dmy dates|date=August 2015}}\\n{{Infobox programming language\\n|name                   = Python\\n|logo                   = Python logo and wordmark.svg\\n|logo size              = 260px\\n|paradigm               = [[multi-paradi\n"
     ]
    }
   ],
   "source": [
    "with urllib.request.urlopen(url) as response:\n",
    "    code = response.getcode()\n",
    "    bs = response.read()\n",
    "\n",
    "print(code)\n",
    "print(type(bs))\n",
    "s = str(bs, encoding='ascii')\n",
    "print(s[:500])"
   ]
  },
  {
   "cell_type": "markdown",
   "metadata": {},
   "source": [
    "## JSON ファイルを読む"
   ]
  },
  {
   "cell_type": "code",
   "execution_count": 5,
   "metadata": {
    "collapsed": true
   },
   "outputs": [],
   "source": [
    "import json"
   ]
  },
  {
   "cell_type": "markdown",
   "metadata": {},
   "source": [
    "* https://docs.python.org/3/library/json.html\n",
    "* http://docs.python.jp/3/library/json.html"
   ]
  },
  {
   "cell_type": "code",
   "execution_count": 6,
   "metadata": {
    "collapsed": false,
    "scrolled": true
   },
   "outputs": [
    {
     "name": "stdout",
     "output_type": "stream",
     "text": [
      "<class 'dict'>\n"
     ]
    }
   ],
   "source": [
    "decoder = json.JSONDecoder()\n",
    "obj = decoder.decode(s)\n",
    "print(type(obj))"
   ]
  },
  {
   "cell_type": "markdown",
   "metadata": {},
   "source": [
    "* JSONDecoder オブジェクトの decode メソッドで JSON 文字列をオブジェクト（`dict` または `array`）に変換できる"
   ]
  },
  {
   "cell_type": "code",
   "execution_count": 7,
   "metadata": {
    "collapsed": false
   },
   "outputs": [
    {
     "name": "stdout",
     "output_type": "stream",
     "text": [
      "dict_keys(['query', 'batchcomplete'])\n",
      "<class 'dict'>\n",
      "dict_keys(['pages'])\n",
      "<class 'dict'>\n",
      "dict_keys(['23862'])\n"
     ]
    }
   ],
   "source": [
    "print(obj.keys())\n",
    "print(type(obj['query']))\n",
    "print(obj['query'].keys())\n",
    "print(type(obj['query']['pages']))\n",
    "print(obj['query']['pages'].keys())"
   ]
  },
  {
   "cell_type": "code",
   "execution_count": 8,
   "metadata": {
    "collapsed": false
   },
   "outputs": [
    {
     "name": "stdout",
     "output_type": "stream",
     "text": [
      "dict_keys(['ns', 'title', 'pageid', 'revisions'])\n",
      "Python (programming language)\n",
      "<class 'list'>\n"
     ]
    }
   ],
   "source": [
    "page = obj['query']['pages']['23862']\n",
    "print(page.keys())\n",
    "print(page['title'])\n",
    "print(type(page['revisions']))"
   ]
  },
  {
   "cell_type": "code",
   "execution_count": 9,
   "metadata": {
    "collapsed": false
   },
   "outputs": [
    {
     "name": "stdout",
     "output_type": "stream",
     "text": [
      "dict_keys(['contentmodel', '*', 'contentformat'])\n",
      "text/x-wiki\n",
      "wikitext\n",
      "{{About|the programming language|the genus and other uses|Python (disambiguation)}}\n",
      "{{Use dmy dates|date=August 2015}}\n",
      "{{Infobox programming language\n",
      "|name                   = Python\n",
      "|logo                   = Python logo and wordmark.svg\n",
      "|logo size              = 260px\n",
      "|paradigm               = [[mu\n"
     ]
    }
   ],
   "source": [
    "rev = page['revisions'][0]\n",
    "print(rev.keys())\n",
    "print(rev['contentformat'])\n",
    "print(rev['contentmodel'])\n",
    "print(rev['*'][:300])"
   ]
  },
  {
   "cell_type": "markdown",
   "metadata": {},
   "source": [
    "### おまけ:ipynb\n",
    "\n",
    "* *.ipynb ファイルの実態は JSON である（非 ASCII 文字を含むので注意）"
   ]
  },
  {
   "cell_type": "code",
   "execution_count": 10,
   "metadata": {
    "collapsed": false
   },
   "outputs": [
    {
     "name": "stdout",
     "output_type": "stream",
     "text": [
      "{'cell_type': 'markdown', 'metadata': {}, 'source': ['# Exercise\\n', '\\n', '## プログラム：Julian Day\\n', '\\n', '* https://en.wikipedia.org/wiki/Julian_day#Converting_Julian_or_Gregorian_calendar_date_to_Julian_day_number\\n', '* 以下は <var>year</var> 年 <var>month</var> 月 <var>day</var> 日の Julian Day Number (JDN) を求めるプログラムである\\n', '\\n', '$$\\n', 'a = \\\\lfloor \\\\frac{14 - \\\\mathrm{month}}{12} \\\\rfloor \\\\\\\\\\n', 'y = \\\\mathrm{year} + 4800 - a \\\\\\\\\\n', 'm = \\\\mathrm{month} + 12a - 3 \\\\\\\\\\n', 'JDN = \\\\mathrm{day} + \\\\lfloor \\\\frac{153m + 2}{5} \\\\rfloor + 365y\\n', '+ \\\\lfloor \\\\frac{y}{4} \\\\rfloor - \\\\lfloor \\\\frac{y}{100} \\\\rfloor + \\\\lfloor \\\\frac{y}{400} \\\\rfloor\\n', '- 32045\\n', '$$\\n', '\\n', '### 実装例']}\n"
     ]
    }
   ],
   "source": [
    "with open('../20-basic/01-Julian_Day.ipynb', encoding='utf-8') as file:\n",
    "    obj = decoder.decode(file.read())\n",
    "    print(obj['cells'][1])"
   ]
  },
  {
   "cell_type": "markdown",
   "metadata": {},
   "source": [
    "## XML ファイルを読む"
   ]
  },
  {
   "cell_type": "code",
   "execution_count": 17,
   "metadata": {
    "collapsed": true
   },
   "outputs": [],
   "source": [
    "import xml.etree"
   ]
  },
  {
   "cell_type": "markdown",
   "metadata": {},
   "source": [
    "* https://docs.python.org/3/library/xml.etree.elementtree.html\n",
    "* http://docs.python.jp/3/library/xml.etree.elementtree.html"
   ]
  },
  {
   "cell_type": "markdown",
   "metadata": {},
   "source": [
    "* Wikipedia から XML 形式でページを取得する"
   ]
  },
  {
   "cell_type": "code",
   "execution_count": 11,
   "metadata": {
    "collapsed": false
   },
   "outputs": [
    {
     "data": {
      "text/plain": [
       "'https://en.wikipedia.org/w/api.php?format=xml&action=query&prop=revisions&titles=Python%20%28programming%20language%29&rvprop=content'"
      ]
     },
     "execution_count": 11,
     "metadata": {},
     "output_type": "execute_result"
    }
   ],
   "source": [
    "response_type = \"xml\"\n",
    "url = url_format.format(format = response_type, titles = quoted_title)\n",
    "url"
   ]
  },
  {
   "cell_type": "code",
   "execution_count": 12,
   "metadata": {
    "collapsed": false
   },
   "outputs": [
    {
     "name": "stdout",
     "output_type": "stream",
     "text": [
      "200\n",
      "<class 'bytes'>\n",
      "<?xml version=\"1.0\"?><api batchcomplete=\"\"><query><pages><page _idx=\"23862\" pageid=\"23862\" ns=\"0\" title=\"Python (programming language)\"><revisions><rev contentformat=\"text/x-wiki\" contentmodel=\"wikitext\" xml:space=\"preserve\">{{About|the programming language|the genus and other uses|Python (disambiguation)}}\n",
      "{{Use dmy dates|date=August 2015}}\n",
      "{{Infobox programming language\n",
      "|name                   = Python\n",
      "|logo                   = Python logo and wordmark.svg\n",
      "|logo size              = 260px\n",
      "|para\n"
     ]
    }
   ],
   "source": [
    "with urllib.request.urlopen(url) as response:\n",
    "    code = response.getcode()\n",
    "    bs = response.read()\n",
    "\n",
    "print(code)\n",
    "print(type(bs))\n",
    "s = str(bs, encoding='utf-8')\n",
    "print(s[:500])"
   ]
  },
  {
   "cell_type": "code",
   "execution_count": 18,
   "metadata": {
    "collapsed": false
   },
   "outputs": [
    {
     "data": {
      "text/plain": [
       "<Element 'api' at 0x7f2f5c18ae08>"
      ]
     },
     "execution_count": 18,
     "metadata": {},
     "output_type": "execute_result"
    }
   ],
   "source": [
    "root = xml.etree.ElementTree.fromstring(s)\n",
    "root"
   ]
  },
  {
   "cell_type": "markdown",
   "metadata": {},
   "source": [
    "* `xml.etree.ElementTree.fromstring` で XML 文字列をパースできる"
   ]
  },
  {
   "cell_type": "code",
   "execution_count": 15,
   "metadata": {
    "collapsed": false
   },
   "outputs": [
    {
     "name": "stdout",
     "output_type": "stream",
     "text": [
      "[<Element 'rev' at 0x7f2f5c182e08>]\n"
     ]
    }
   ],
   "source": [
    "revs = root.findall('./query/pages/page/revisions/rev')\n",
    "print(revs)"
   ]
  },
  {
   "cell_type": "markdown",
   "metadata": {},
   "source": [
    "* XPath で要素を取得できる"
   ]
  },
  {
   "cell_type": "code",
   "execution_count": 16,
   "metadata": {
    "collapsed": false
   },
   "outputs": [
    {
     "name": "stdout",
     "output_type": "stream",
     "text": [
      "[('contentmodel', 'wikitext'), ('{http://www.w3.org/XML/1998/namespace}space', 'preserve'), ('contentformat', 'text/x-wiki')]\n",
      "{{About|the programming language|the genus and other uses|Python (disambiguation)}}\n",
      "{{Use dmy dates|date=August 2015}}\n",
      "{{Infobox programming language\n",
      "|name                   = Python\n",
      "|logo                   = Python logo and wordmark.svg\n",
      "|logo size              = 260px\n",
      "|paradigm               = [[mu\n"
     ]
    }
   ],
   "source": [
    "rev = revs[0]\n",
    "print(rev.items())\n",
    "print(rev.text[:300])"
   ]
  }
 ],
 "metadata": {
  "kernelspec": {
   "display_name": "Python 3",
   "language": "python",
   "name": "python3"
  },
  "language_info": {
   "codemirror_mode": {
    "name": "ipython",
    "version": 3
   },
   "file_extension": ".py",
   "mimetype": "text/x-python",
   "name": "python",
   "nbconvert_exporter": "python",
   "pygments_lexer": "ipython3",
   "version": "3.5.1"
  },
  "latex_envs": {
   "bibliofile": "biblio.bib",
   "cite_by": "apalike",
   "current_citInitial": 1,
   "eqLabelWithNumbers": true,
   "eqNumInitial": 0
  },
  "toc": {
   "toc_cell": false,
   "toc_number_sections": false,
   "toc_threshold": 6,
   "toc_window_display": false
  }
 },
 "nbformat": 4,
 "nbformat_minor": 0
}
