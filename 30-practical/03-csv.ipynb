{
 "cells": [
  {
   "cell_type": "markdown",
   "metadata": {},
   "source": [
    "# タブ区切りテキスト\n",
    "\n",
    "* [files/amino_acids_table.txt](files/amino_acids_table.txt) はアミノ酸の 1 文字表記、3 文字表記、名称、分子式、分子量 (g/mol) をタブ（`\\t`）で区切ったファイルである\n",
    "\n",
    "## シンプルな読み込み方法"
   ]
  },
  {
   "cell_type": "code",
   "execution_count": 2,
   "metadata": {
    "collapsed": false,
    "run_control": {
     "frozen": false,
     "read_only": false
    }
   },
   "outputs": [
    {
     "name": "stdout",
     "output_type": "stream",
     "text": [
      "['I', 'Ile', 'Isoleucine', 'C6H13NO2', '131.1736']\n",
      "['L', 'Leu', 'Leucine', 'C6H13NO2', '131.1736']\n",
      "['K', 'Lys', 'Lysine', 'C6H14N2O2', '146.1882']\n",
      "['M', 'Met', 'Methionine', 'C5H11NO2S', '149.2124']\n",
      "['F', 'Phe', 'Phenylalanine', 'C9H11NO2', '165.1900']\n"
     ]
    }
   ],
   "source": [
    "with open('files/amino_acids_table.txt') as file:\n",
    "    for i, line in enumerate(file):\n",
    "        if i >= 5:\n",
    "            break\n",
    "        print(line.rstrip().split('\\t'))"
   ]
  },
  {
   "cell_type": "markdown",
   "metadata": {},
   "source": [
    "* `rstrip` に何も引数を渡さなければ末尾の空白文字を全て削除できる"
   ]
  },
  {
   "cell_type": "markdown",
   "metadata": {},
   "source": [
    "## `csv` モジュール"
   ]
  },
  {
   "cell_type": "code",
   "execution_count": 84,
   "metadata": {
    "collapsed": false,
    "run_control": {
     "frozen": false,
     "read_only": false
    }
   },
   "outputs": [
    {
     "name": "stdout",
     "output_type": "stream",
     "text": [
      "<_csv.reader object at 0x7fc48103f828>\n",
      "['I', 'Ile', 'Isoleucine', 'C6H13NO2', '131.1736']\n",
      "['L', 'Leu', 'Leucine', 'C6H13NO2', '131.1736']\n",
      "['K', 'Lys', 'Lysine', 'C6H14N2O2', '146.1882']\n",
      "['M', 'Met', 'Methionine', 'C5H11NO2S', '149.2124']\n",
      "['F', 'Phe', 'Phenylalanine', 'C9H11NO2', '165.1900']\n"
     ]
    }
   ],
   "source": [
    "import csv\n",
    "\n",
    "with open('files/amino_acids_table.txt') as file:\n",
    "    reader = csv.reader(file, delimiter='\\t')\n",
    "    print(reader)\n",
    "    for i, row in enumerate(reader):\n",
    "        if i >= 5:\n",
    "            break\n",
    "        print(row)"
   ]
  },
  {
   "cell_type": "markdown",
   "metadata": {},
   "source": [
    "* csv モジュールを使ってもよい\n",
    "    * http://docs.python.jp/3/library/csv.html\n",
    "    * https://docs.python.org/3/library/csv.html （日本語）\n",
    "* `delimiter=` 引数で区切り文字を指定する\n",
    "* 特に csv ファイルを書き出す際には、「コンマを含んだデータをコンマ区切りファイルに書き出す」などのコーナーケースに対応しているこのモジュールを使った方がよい"
   ]
  },
  {
   "cell_type": "code",
   "execution_count": 32,
   "metadata": {
    "collapsed": false,
    "run_control": {
     "frozen": false,
     "read_only": false
    }
   },
   "outputs": [
    {
     "name": "stdout",
     "output_type": "stream",
     "text": [
      "{'name': 'Alanine', 'formula': 'C3H7NO2', 'sym3': 'Ala', 'weight': 89.0935}\n",
      "Lysine\n",
      "C11H12N2O2\n"
     ]
    }
   ],
   "source": [
    "import csv\n",
    "\n",
    "amino_acids = {}\n",
    "\n",
    "with open('files/amino_acids_table.txt') as file:\n",
    "    reader = csv.reader(file, delimiter='\\t')\n",
    "    for row in reader:\n",
    "        amino_acids[row[0]] = {'sym3': row[1], 'name': row[2],\n",
    "                               'formula': row[3], 'weight': float(row[4])}\n",
    "\n",
    "print(amino_acids['A'])\n",
    "print(amino_acids['K']['name'])\n",
    "print(amino_acids['W']['formula'])"
   ]
  },
  {
   "cell_type": "markdown",
   "metadata": {},
   "source": [
    "* csv ファイルをパースして辞書にする例"
   ]
  }
 ],
 "metadata": {
  "kernelspec": {
   "display_name": "Python 3",
   "language": "python",
   "name": "python3"
  },
  "language_info": {
   "codemirror_mode": {
    "name": "ipython",
    "version": 3
   },
   "file_extension": ".py",
   "mimetype": "text/x-python",
   "name": "python",
   "nbconvert_exporter": "python",
   "pygments_lexer": "ipython3",
   "version": "3.5.1"
  },
  "latex_envs": {
   "bibliofile": "biblio.bib",
   "cite_by": "apalike",
   "current_citInitial": 1,
   "eqLabelWithNumbers": true,
   "eqNumInitial": 0
  },
  "toc": {
   "toc_cell": false,
   "toc_number_sections": false,
   "toc_section_display": "none",
   "toc_threshold": 6,
   "toc_window_display": true
  }
 },
 "nbformat": 4,
 "nbformat_minor": 0
}
