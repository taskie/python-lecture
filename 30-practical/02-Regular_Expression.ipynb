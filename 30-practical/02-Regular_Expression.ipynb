{
 "cells": [
  {
   "cell_type": "markdown",
   "metadata": {},
   "source": [
    "# 正規表現"
   ]
  },
  {
   "cell_type": "markdown",
   "metadata": {},
   "source": [
    "## 概要"
   ]
  },
  {
   "cell_type": "code",
   "execution_count": 176,
   "metadata": {
    "collapsed": true,
    "run_control": {
     "frozen": false,
     "read_only": false
    }
   },
   "outputs": [],
   "source": [
    "import re"
   ]
  },
  {
   "cell_type": "markdown",
   "metadata": {},
   "source": [
    "* https://docs.python.org/3/library/re.html\n",
    "    * http://docs.python.jp/3/library/re.html （日本語）\n",
    "* `re` をインポートすると**正規表現 (regular expression)**によるあいまいな文字列の検索が可能になる"
   ]
  },
  {
   "cell_type": "markdown",
   "metadata": {},
   "source": [
    "### `search` メソッド"
   ]
  },
  {
   "cell_type": "code",
   "execution_count": 218,
   "metadata": {
    "collapsed": false,
    "run_control": {
     "frozen": false,
     "read_only": false
    }
   },
   "outputs": [
    {
     "name": "stdout",
     "output_type": "stream",
     "text": [
      "<_sre.SRE_Match object; span=(13, 38), match='my favorite color is gray'>\n",
      "<_sre.SRE_Match object; span=(13, 40), match='my favourite colour is grey'>\n",
      "None\n"
     ]
    }
   ],
   "source": [
    "prog = re.compile('my favou?rite colou?r is gr[ae]y')\n",
    "\n",
    "match = prog.search('As you know, my favorite color is gray.')\n",
    "print(match)\n",
    "match = prog.search('As you know, my favourite colour is grey.')\n",
    "print(match)\n",
    "match = prog.search('As you know, my favorite color is orange.')\n",
    "print(match)"
   ]
  },
  {
   "cell_type": "markdown",
   "metadata": {},
   "source": [
    "* re.compile 関数で正規表現オブジェクトを作成し、`search` メソッドを呼ぶことで検索できる\n",
    "* マッチする文字列が存在した場合は `match` オブジェクトが返り、存在しない場合は `None` が返る"
   ]
  },
  {
   "cell_type": "markdown",
   "metadata": {},
   "source": [
    "### `match` オブジェクト"
   ]
  },
  {
   "cell_type": "code",
   "execution_count": 223,
   "metadata": {
    "collapsed": false,
    "run_control": {
     "frozen": false,
     "read_only": false
    }
   },
   "outputs": [
    {
     "name": "stdout",
     "output_type": "stream",
     "text": [
      "<_sre.SRE_Match object; span=(13, 40), match='my favourite colour is grey'>\n",
      "my favourite colour is grey\n",
      "(13, 40) 13 40\n"
     ]
    }
   ],
   "source": [
    "s = 'As you know, my favourite colour is grey.'\n",
    "match = prog.search(s)\n",
    "print(match)\n",
    "print(match.group())\n",
    "print(match.span(), match.start(), match.end())"
   ]
  },
  {
   "cell_type": "markdown",
   "metadata": {},
   "source": [
    "* マッチした文字列は `match` オブジェクトの `group` メソッドで得られる\n",
    "* マッチした範囲は `span` メソッドで得られる\n",
    "    * あるいは `start`, `end` メソッドで始点と終点を得られる\n",
    "    * 上の例では、13 文字目から **39** 文字目までにマッチしている（40 文字目は含まれない）\n",
    "        * `s[13:40] == match.group()` である"
   ]
  },
  {
   "cell_type": "markdown",
   "metadata": {},
   "source": [
    "### `match` メソッド"
   ]
  },
  {
   "cell_type": "code",
   "execution_count": 227,
   "metadata": {
    "collapsed": false,
    "run_control": {
     "frozen": false,
     "read_only": false
    }
   },
   "outputs": [
    {
     "name": "stdout",
     "output_type": "stream",
     "text": [
      "None\n",
      "<_sre.SRE_Match object; span=(0, 25), match='my favorite color is gray'>\n"
     ]
    }
   ],
   "source": [
    "match = prog.match('As you know, my favorite color is gray.')\n",
    "print(match)\n",
    "match = prog.match('my favorite color is gray.')\n",
    "print(match)"
   ]
  },
  {
   "cell_type": "markdown",
   "metadata": {},
   "source": [
    "* `search` メソッドの代わりに `match` メソッドを使った場合、文字列の先頭からマッチするかどうかを判定できる\n",
    "    * 先頭に余分な文字列が入っている場合マッチに失敗する"
   ]
  },
  {
   "cell_type": "markdown",
   "metadata": {},
   "source": [
    "### `fullmatch` メソッド"
   ]
  },
  {
   "cell_type": "code",
   "execution_count": 230,
   "metadata": {
    "collapsed": false,
    "run_control": {
     "frozen": false,
     "read_only": false
    }
   },
   "outputs": [
    {
     "name": "stdout",
     "output_type": "stream",
     "text": [
      "None\n",
      "None\n",
      "<_sre.SRE_Match object; span=(0, 25), match='my favorite color is gray'>\n"
     ]
    }
   ],
   "source": [
    "match = prog.fullmatch('As you know, my favorite color is gray.')\n",
    "print(match)\n",
    "match = prog.fullmatch('my favorite color is gray.')\n",
    "print(match)\n",
    "match = prog.fullmatch('my favorite color is gray')\n",
    "print(match)"
   ]
  },
  {
   "cell_type": "markdown",
   "metadata": {},
   "source": [
    "* `fullmatch` メソッドは文字列がパターンに完全に一致した際にのみ `match` オブジェクトを返す\n",
    "    * 先頭にも末尾にも余分な文字列が入っていてはならない"
   ]
  },
  {
   "cell_type": "markdown",
   "metadata": {},
   "source": [
    "### `sub` メソッド"
   ]
  },
  {
   "cell_type": "code",
   "execution_count": 250,
   "metadata": {
    "collapsed": false,
    "run_control": {
     "frozen": false,
     "read_only": false
    }
   },
   "outputs": [
    {
     "name": "stdout",
     "output_type": "stream",
     "text": [
      "***-****-****\n"
     ]
    }
   ],
   "source": [
    "prog = re.compile('\\d')\n",
    "print(prog.sub('*', '012-3456-7890'))"
   ]
  },
  {
   "cell_type": "markdown",
   "metadata": {},
   "source": [
    "* `sub` メソッドで文字列を置換することができる"
   ]
  },
  {
   "cell_type": "markdown",
   "metadata": {},
   "source": [
    "### 捕捉グループ"
   ]
  },
  {
   "cell_type": "code",
   "execution_count": 259,
   "metadata": {
    "collapsed": false,
    "run_control": {
     "frozen": false,
     "read_only": false
    }
   },
   "outputs": [
    {
     "name": "stdout",
     "output_type": "stream",
     "text": [
      "Top: ../index.html\n",
      "Top\n",
      "../index.html\n",
      "<a href=\"../index.html\">Top</a>\n"
     ]
    }
   ],
   "source": [
    "prog = re.compile('^([^:]+): (\\S+)$')\n",
    "s = 'Top: ../index.html'\n",
    "print(prog.match(s).group(0))\n",
    "print(prog.match(s).group(1))\n",
    "print(prog.match(s).group(2))\n",
    "print(prog.sub(r'<a href='\\2'>\\1</a>', s))"
   ]
  },
  {
   "cell_type": "markdown",
   "metadata": {},
   "source": [
    "* 正規表現に括弧を含めた場合、括弧内の表現にマッチする部分文字列が**捕捉 (capture)**される\n",
    "    * 捕捉した文字列は `group(n)` で参照できる\n",
    "    * `group(0)` はマッチした文字列全体を表す（引数を省略すると 0 として扱われる）\n",
    "* `sub` での置換文字列中では `\\1`, `\\2`, ... のようにして参照できる"
   ]
  },
  {
   "cell_type": "markdown",
   "metadata": {},
   "source": [
    "## 量指定子"
   ]
  },
  {
   "cell_type": "code",
   "execution_count": 140,
   "metadata": {
    "collapsed": false,
    "run_control": {
     "frozen": false,
     "read_only": false
    }
   },
   "outputs": [],
   "source": [
    "def check_if_fullmatch(prog, strs):\n",
    "    match_dict = {True: [], False: []}\n",
    "    for s in strs:\n",
    "        match = prog.search(s)\n",
    "        match_dict[bool(match)].append(s)\n",
    "    if match_dict[True]:\n",
    "        print(prog.pattern, '[ OK ]', ', '.join(match_dict[True]))\n",
    "    if match_dict[False]:\n",
    "        print(prog.pattern, '[ NG ]', ', '.join(match_dict[False]))"
   ]
  },
  {
   "cell_type": "markdown",
   "metadata": {},
   "source": [
    "### 0 個以上にマッチ"
   ]
  },
  {
   "cell_type": "code",
   "execution_count": 141,
   "metadata": {
    "collapsed": false,
    "run_control": {
     "frozen": false,
     "read_only": false
    }
   },
   "outputs": [
    {
     "name": "stdout",
     "output_type": "stream",
     "text": [
      "bo*t [ OK ] bt, bot, boot, booooooot\n",
      "bo*t [ NG ] boat\n"
     ]
    }
   ],
   "source": [
    "strs = ['bt', 'bot', 'boot', 'boat', 'booooooot']\n",
    "\n",
    "prog = re.compile('bo*t')\n",
    "check_if_fullmatch(prog, strs)"
   ]
  },
  {
   "cell_type": "markdown",
   "metadata": {},
   "source": [
    "### 1 個以上にマッチ"
   ]
  },
  {
   "cell_type": "code",
   "execution_count": 142,
   "metadata": {
    "collapsed": false,
    "run_control": {
     "frozen": false,
     "read_only": false
    }
   },
   "outputs": [
    {
     "name": "stdout",
     "output_type": "stream",
     "text": [
      "bo+t [ OK ] bot, boot, booooooot\n",
      "bo+t [ NG ] bt, boat\n"
     ]
    }
   ],
   "source": [
    "prog = re.compile('bo+t')\n",
    "check_if_fullmatch(prog, strs)"
   ]
  },
  {
   "cell_type": "markdown",
   "metadata": {},
   "source": [
    "### 0 個か 1 個ならマッチ"
   ]
  },
  {
   "cell_type": "code",
   "execution_count": 143,
   "metadata": {
    "collapsed": false,
    "run_control": {
     "frozen": false,
     "read_only": false
    }
   },
   "outputs": [
    {
     "name": "stdout",
     "output_type": "stream",
     "text": [
      "bo?t [ OK ] bt, bot\n",
      "bo?t [ NG ] boot, boat, booooooot\n"
     ]
    }
   ],
   "source": [
    "prog = re.compile('bo?t')\n",
    "check_if_fullmatch(prog, strs)"
   ]
  },
  {
   "cell_type": "markdown",
   "metadata": {
    "code_folding": []
   },
   "source": [
    "### 指定の個数にマッチ"
   ]
  },
  {
   "cell_type": "code",
   "execution_count": 144,
   "metadata": {
    "collapsed": false,
    "run_control": {
     "frozen": false,
     "read_only": false
    }
   },
   "outputs": [
    {
     "name": "stdout",
     "output_type": "stream",
     "text": [
      "bo{1,2}t [ OK ] bot, boot\n",
      "bo{1,2}t [ NG ] bt, boat, booooooot\n"
     ]
    }
   ],
   "source": [
    "prog = re.compile('bo{1,2}t')\n",
    "check_if_fullmatch(prog, strs)"
   ]
  },
  {
   "cell_type": "markdown",
   "metadata": {
    "collapsed": true,
    "run_control": {
     "frozen": false,
     "read_only": false
    }
   },
   "source": [
    "## 括弧によるグループ化"
   ]
  },
  {
   "cell_type": "code",
   "execution_count": 145,
   "metadata": {
    "collapsed": false,
    "run_control": {
     "frozen": false,
     "read_only": false
    }
   },
   "outputs": [
    {
     "name": "stdout",
     "output_type": "stream",
     "text": [
      "(ass)*in [ OK ] in, assassin\n"
     ]
    }
   ],
   "source": [
    "prog = re.compile('(ass)*in')\n",
    "check_if_fullmatch(prog, ['in', 'assassin'])"
   ]
  },
  {
   "cell_type": "markdown",
   "metadata": {},
   "source": [
    "## OR 検索"
   ]
  },
  {
   "cell_type": "code",
   "execution_count": 148,
   "metadata": {
    "collapsed": false,
    "run_control": {
     "frozen": false,
     "read_only": false
    }
   },
   "outputs": [
    {
     "name": "stdout",
     "output_type": "stream",
     "text": [
      "dog|cat [ OK ] dog, cat\n",
      "dog|cat [ NG ] cow\n"
     ]
    }
   ],
   "source": [
    "prog = re.compile('dog|cat')\n",
    "check_if_fullmatch(prog, ['dog', 'cat', 'cow'])"
   ]
  },
  {
   "cell_type": "code",
   "execution_count": 151,
   "metadata": {
    "collapsed": false,
    "run_control": {
     "frozen": false,
     "read_only": false
    }
   },
   "outputs": [
    {
     "name": "stdout",
     "output_type": "stream",
     "text": [
      "(in|de)flation [ OK ] inflation, deflation\n",
      "(in|de)flation [ NG ] stagflation\n"
     ]
    }
   ],
   "source": [
    "prog = re.compile('(in|de)flation')\n",
    "check_if_fullmatch(prog, ['inflation', 'deflation', 'stagflation'])"
   ]
  },
  {
   "cell_type": "markdown",
   "metadata": {},
   "source": [
    "## メタキャラクタ"
   ]
  },
  {
   "cell_type": "markdown",
   "metadata": {},
   "source": [
    "### 任意の文字にマッチ"
   ]
  },
  {
   "cell_type": "code",
   "execution_count": 172,
   "metadata": {
    "collapsed": false,
    "run_control": {
     "frozen": false,
     "read_only": false
    }
   },
   "outputs": [
    {
     "name": "stdout",
     "output_type": "stream",
     "text": [
      "b.t [ OK ] bat, bit, but, bet, bot, bAt, b1t, b t, b-t, b_t\n"
     ]
    }
   ],
   "source": [
    "strs = ['bat', 'bit', 'but', 'bet', 'bot',\n",
    "        'bAt', 'b1t', 'b t', 'b-t', 'b_t']\n",
    "\n",
    "prog = re.compile('b.t')\n",
    "check_if_fullmatch(prog, strs)"
   ]
  },
  {
   "cell_type": "markdown",
   "metadata": {},
   "source": [
    "### 指定の文字にマッチ"
   ]
  },
  {
   "cell_type": "code",
   "execution_count": 174,
   "metadata": {
    "collapsed": false,
    "run_control": {
     "frozen": false,
     "read_only": false
    }
   },
   "outputs": [
    {
     "name": "stdout",
     "output_type": "stream",
     "text": [
      "b[aoe]t [ OK ] bat, bet, bot\n",
      "b[aoe]t [ NG ] bit, but, bAt, b1t, b t, b-t, b_t\n"
     ]
    }
   ],
   "source": [
    "prog = re.compile('b[aoe]t')\n",
    "check_if_fullmatch(prog, strs)"
   ]
  },
  {
   "cell_type": "code",
   "execution_count": 175,
   "metadata": {
    "collapsed": false,
    "run_control": {
     "frozen": false,
     "read_only": false
    }
   },
   "outputs": [
    {
     "name": "stdout",
     "output_type": "stream",
     "text": [
      "b[a-z]t [ OK ] bat, bit, but, bet, bot\n",
      "b[a-z]t [ NG ] bAt, b1t, b t, b-t, b_t\n"
     ]
    }
   ],
   "source": [
    "prog = re.compile('b[a-z]t')\n",
    "check_if_fullmatch(prog, strs)"
   ]
  },
  {
   "cell_type": "markdown",
   "metadata": {},
   "source": [
    "* 範囲指定もできる（文字コード順）"
   ]
  },
  {
   "cell_type": "code",
   "execution_count": 176,
   "metadata": {
    "collapsed": false,
    "run_control": {
     "frozen": false,
     "read_only": false
    }
   },
   "outputs": [
    {
     "name": "stdout",
     "output_type": "stream",
     "text": [
      "b[a-z\\-]t [ OK ] bat, bit, but, bet, bot, b-t\n",
      "b[a-z\\-]t [ NG ] bAt, b1t, b t, b_t\n"
     ]
    }
   ],
   "source": [
    "prog = re.compile(r'b[a-z\\-]t')\n",
    "check_if_fullmatch(prog, strs)"
   ]
  },
  {
   "cell_type": "markdown",
   "metadata": {},
   "source": [
    "* `‐` 自体を含めたい場合にはバックスラッシュを使う"
   ]
  },
  {
   "cell_type": "markdown",
   "metadata": {},
   "source": [
    "### 指定以外の文字にマッチ"
   ]
  },
  {
   "cell_type": "code",
   "execution_count": 181,
   "metadata": {
    "collapsed": false,
    "run_control": {
     "frozen": false,
     "read_only": false
    }
   },
   "outputs": [
    {
     "name": "stdout",
     "output_type": "stream",
     "text": [
      "b[^aoe]t [ OK ] bit, but, bAt, b1t, b t, b-t, b_t\n",
      "b[^aoe]t [ NG ] bat, bet, bot\n"
     ]
    }
   ],
   "source": [
    "prog = re.compile(r'b[^aoe]t')\n",
    "check_if_fullmatch(prog, strs)"
   ]
  },
  {
   "cell_type": "markdown",
   "metadata": {},
   "source": [
    "### 単語を構成する文字にマッチ"
   ]
  },
  {
   "cell_type": "code",
   "execution_count": 177,
   "metadata": {
    "collapsed": false,
    "run_control": {
     "frozen": false,
     "read_only": false
    }
   },
   "outputs": [
    {
     "name": "stdout",
     "output_type": "stream",
     "text": [
      "b\\wt [ OK ] bat, bit, but, bet, bot, bAt, b1t, b_t\n",
      "b\\wt [ NG ] b t, b-t\n"
     ]
    }
   ],
   "source": [
    "prog = re.compile(r'b\\wt')\n",
    "check_if_fullmatch(prog, strs)"
   ]
  },
  {
   "cell_type": "markdown",
   "metadata": {},
   "source": [
    "### 数値にマッチ"
   ]
  },
  {
   "cell_type": "code",
   "execution_count": 178,
   "metadata": {
    "collapsed": false,
    "run_control": {
     "frozen": false,
     "read_only": false
    }
   },
   "outputs": [
    {
     "name": "stdout",
     "output_type": "stream",
     "text": [
      "b\\dt [ OK ] b1t\n",
      "b\\dt [ NG ] bat, bit, but, bet, bot, bAt, b t, b-t, b_t\n"
     ]
    }
   ],
   "source": [
    "prog = re.compile(r'b\\dt')\n",
    "check_if_fullmatch(prog, strs)"
   ]
  },
  {
   "cell_type": "markdown",
   "metadata": {},
   "source": [
    "### 数値以外にマッチ"
   ]
  },
  {
   "cell_type": "code",
   "execution_count": 180,
   "metadata": {
    "collapsed": false,
    "run_control": {
     "frozen": false,
     "read_only": false
    }
   },
   "outputs": [
    {
     "name": "stdout",
     "output_type": "stream",
     "text": [
      "b\\Dt [ OK ] bat, bit, but, bet, bot, bAt, b t, b-t, b_t\n",
      "b\\Dt [ NG ] b1t\n"
     ]
    }
   ],
   "source": [
    "prog = re.compile(r'b\\Dt')\n",
    "check_if_fullmatch(prog, strs)"
   ]
  },
  {
   "cell_type": "markdown",
   "metadata": {},
   "source": [
    "### 空白文字にマッチ"
   ]
  },
  {
   "cell_type": "code",
   "execution_count": 182,
   "metadata": {
    "collapsed": false,
    "run_control": {
     "frozen": false,
     "read_only": false
    }
   },
   "outputs": [
    {
     "name": "stdout",
     "output_type": "stream",
     "text": [
      "b\\st [ OK ] b t\n",
      "b\\st [ NG ] bat, bit, but, bet, bot, bAt, b1t, b-t, b_t\n"
     ]
    }
   ],
   "source": [
    "prog = re.compile(r'b\\st')\n",
    "check_if_fullmatch(prog, strs)"
   ]
  },
  {
   "cell_type": "markdown",
   "metadata": {},
   "source": [
    "### 空白以外の文字にマッチ"
   ]
  },
  {
   "cell_type": "code",
   "execution_count": 183,
   "metadata": {
    "collapsed": false,
    "run_control": {
     "frozen": false,
     "read_only": false
    }
   },
   "outputs": [
    {
     "name": "stdout",
     "output_type": "stream",
     "text": [
      "b\\St [ OK ] bat, bit, but, bet, bot, bAt, b1t, b-t, b_t\n",
      "b\\St [ NG ] b t\n"
     ]
    }
   ],
   "source": [
    "prog = re.compile(r'b\\St')\n",
    "check_if_fullmatch(prog, strs)"
   ]
  },
  {
   "cell_type": "markdown",
   "metadata": {},
   "source": [
    "## アンカー"
   ]
  },
  {
   "cell_type": "code",
   "execution_count": 11,
   "metadata": {
    "collapsed": true,
    "run_control": {
     "frozen": false,
     "read_only": false
    }
   },
   "outputs": [],
   "source": [
    "def scan(prog, s):\n",
    "    match_strs = []\n",
    "    pos = 0\n",
    "    while pos < len(s):\n",
    "        match = prog.search(s, pos=pos)\n",
    "        if match:\n",
    "            pos = match.end()\n",
    "            match_strs.append(match.group())\n",
    "        else:\n",
    "            break\n",
    "    return match_strs"
   ]
  },
  {
   "cell_type": "markdown",
   "metadata": {},
   "source": [
    "### 行頭"
   ]
  },
  {
   "cell_type": "code",
   "execution_count": 304,
   "metadata": {
    "collapsed": false,
    "run_control": {
     "frozen": false,
     "read_only": false
    }
   },
   "outputs": [
    {
     "name": "stdout",
     "output_type": "stream",
     "text": [
      "['H2O', 'H2CO3']\n"
     ]
    }
   ],
   "source": [
    "s = '''CO2\n",
    "H2O\n",
    "Na2CO3\n",
    "H2CO3\n",
    "CH3COOH\n",
    "CH4\n",
    "CO\n",
    "O2'''\n",
    "\n",
    "prog = re.compile(r'^H.*', re.MULTILINE)\n",
    "print(scan(prog, s))"
   ]
  },
  {
   "cell_type": "markdown",
   "metadata": {},
   "source": [
    "### 行末"
   ]
  },
  {
   "cell_type": "code",
   "execution_count": 303,
   "metadata": {
    "collapsed": false,
    "run_control": {
     "frozen": false,
     "read_only": false
    }
   },
   "outputs": [
    {
     "name": "stdout",
     "output_type": "stream",
     "text": [
      "['H2O', 'CO']\n"
     ]
    }
   ],
   "source": [
    "prog = re.compile(r'.*O$', re.MULTILINE)\n",
    "print(scan(prog, s))"
   ]
  },
  {
   "cell_type": "markdown",
   "metadata": {},
   "source": [
    "### 単語境界"
   ]
  },
  {
   "cell_type": "code",
   "execution_count": 324,
   "metadata": {
    "collapsed": false,
    "run_control": {
     "frozen": false,
     "read_only": false
    }
   },
   "outputs": [
    {
     "name": "stdout",
     "output_type": "stream",
     "text": [
      "['CO2', 'CO3', 'CO3', 'CH3COOH', 'CH4', 'CO']\n",
      "['CO2', 'CH3COOH', 'CH4', 'CO']\n"
     ]
    }
   ],
   "source": [
    "s = 'CO2 H2O Na2CO3 H2CO3 CH3COOH CH4 CO O2'\n",
    "prog = re.compile(r'C\\S+')\n",
    "print(scan(prog, s))\n",
    "prog = re.compile(r'\\bC\\S+')\n",
    "print(scan(prog, s))"
   ]
  },
  {
   "cell_type": "markdown",
   "metadata": {},
   "source": [
    "## 貪欲マッチ／最小一致マッチ"
   ]
  },
  {
   "cell_type": "code",
   "execution_count": 15,
   "metadata": {
    "collapsed": false,
    "run_control": {
     "frozen": false,
     "read_only": false
    }
   },
   "outputs": [
    {
     "name": "stdout",
     "output_type": "stream",
     "text": [
      "['regular expr']\n",
      "['regular']\n"
     ]
    }
   ],
   "source": [
    "s = 'regular expression'\n",
    "prog = re.compile(r'r.+r')\n",
    "print(scan(prog, s))\n",
    "prog = re.compile(r'r.+?r')\n",
    "print(scan(prog, s))"
   ]
  },
  {
   "cell_type": "markdown",
   "metadata": {},
   "source": [
    "* 正規表現はデフォルトで貪欲 (greedy) マッチを行う\n",
    "    * できるだけ長い文字列にマッチするような挙動になっている\n",
    "* 量指定子 (`*`, `+`, `?`, `{m,n}`) の後に `?` を付けることで非貪欲 (non-greedy) ／最小一致 (minimal) マッチにできる"
   ]
  },
  {
   "cell_type": "markdown",
   "metadata": {
    "collapsed": true,
    "run_control": {
     "frozen": false,
     "read_only": false
    }
   },
   "source": [
    "# Example\n",
    "\n",
    "## Atomic Weight"
   ]
  },
  {
   "cell_type": "markdown",
   "metadata": {},
   "source": [
    "* [files/atoms.txt](files/atoms.txt) は http://www.chem.qmul.ac.uk/iupac/AtWt/ の Table 2 をブラウザからそのままコピー＆ペーストしたファイルである\n",
    "* このファイルを元素記号をキー、原子量を値とする辞書にうまく変換したい\n",
    "* 原子量に `( )` が入っていたり `[ ]` が付いていたりして数値に変換できない"
   ]
  },
  {
   "cell_type": "code",
   "execution_count": 3,
   "metadata": {
    "collapsed": false,
    "run_control": {
     "frozen": false,
     "read_only": false
    }
   },
   "outputs": [
    {
     "name": "stdout",
     "output_type": "stream",
     "text": [
      "['2', 'He', 'Helium', '4.002602(2)', '1, 2']\n",
      "4.002602\n",
      "['43', 'Tc', 'Technetium', '[97]', '4']\n",
      "97\n"
     ]
    }
   ],
   "source": [
    "import re\n",
    "\n",
    "# 「float らしき文字列」を表す正規表現\n",
    "float_re = re.compile(r'\\d+(\\.\\d+)?')\n",
    "\n",
    "line = '2\tHe\tHelium\t4.002602(2)\t1, 2'\n",
    "row = line.split('\\t')\n",
    "print(row)\n",
    "print(float_re.search(row[3]).group())\n",
    "\n",
    "line = '43\tTc\tTechnetium\t[97]\t4'\n",
    "row = line.split('\\t')\n",
    "print(row)\n",
    "print(float_re.search(row[3]).group())"
   ]
  },
  {
   "cell_type": "markdown",
   "metadata": {},
   "source": [
    "* 「`float` らしき文字列」を検索することにより原子量を抽出できた"
   ]
  },
  {
   "cell_type": "code",
   "execution_count": 4,
   "metadata": {
    "collapsed": false,
    "run_control": {
     "frozen": false,
     "read_only": false
    }
   },
   "outputs": [
    {
     "name": "stdout",
     "output_type": "stream",
     "text": [
      "{'Al': 26.9815385, 'Np': 237.0, 'Pu': 244.0, 'Mt': 276.0, 'Te': 127.6, 'Fm': 257.0, 'Ar': 39.948, 'Be': 9.0121831, 'Cl': 35.45, 'Mg': 24.305, 'I': 126.90447, 'Uup': 289.0, 'Db': 270.0, 'Yb': 173.045, 'Sm': 150.36, 'O': 15.999, 'Rn': 222.0, 'Pa': 231.03588, 'Ac': 227.0, 'Dy': 162.5, 'Er': 167.259, 'Re': 186.207, 'Cn': 285.0, 'Ca': 40.078, 'Pb': 207.2, 'Co': 58.933194, 'Ne': 20.1797, 'Xe': 131.293, 'Ge': 72.63, 'Cu': 63.546, 'U': 238.02891, 'Au': 196.966569, 'K': 39.0983, 'Ra': 226.0, 'Ba': 137.327, 'Po': 209.0, 'Gd': 157.25, 'Zn': 65.38, 'Cd': 112.414, 'Tl': 204.38, 'Tm': 168.93422, 'Nd': 144.242, 'Si': 28.085, 'No': 259.0, 'F': 18.998403163, 'Cm': 247.0, 'Ti': 47.867, 'Zr': 91.224, 'Sb': 121.76, 'Es': 252.0, 'S': 32.06, 'Bi': 208.9804, 'Li': 6.94, 'Cf': 251.0, 'He': 4.002602, 'Ho': 164.93033, 'Pd': 106.42, 'Pt': 195.084, 'Eu': 151.964, 'Tc': 97.0, 'Th': 232.0377, 'Lr': 262.0, 'N': 14.007, 'Ds': 281.0, 'V': 50.9415, 'As': 74.921595, 'Cr': 51.9961, 'Ni': 58.6934, 'Lu': 174.9668, 'Sn': 118.71, 'Os': 190.23, 'Sr': 87.62, 'Uus': 294.0, 'Mn': 54.938044, 'Md': 258.0, 'Uuo': 294.0, 'Rg': 282.0, 'Fr': 223.0, 'Fl': 289.0, 'Y': 88.90584, 'Mo': 95.95, 'Ce': 140.116, 'Se': 78.971, 'Ir': 192.217, 'B': 10.81, 'H': 1.008, 'Sg': 271.0, 'Ta': 180.94788, 'Uut': 285.0, 'Tb': 158.92535, 'Cs': 132.90545196, 'Hf': 178.49, 'P': 30.973761998, 'W': 183.84, 'Bh': 270.0, 'La': 138.90547, 'Ag': 107.8682, 'Nb': 92.90637, 'Ga': 69.723, 'Na': 22.98976928, 'Kr': 83.798, 'Lv': 293.0, 'Sc': 44.955908, 'C': 12.011, 'Hs': 277.0, 'Rh': 102.9055, 'Br': 79.904, 'Fe': 55.845, 'Rf': 267.0, 'Ru': 101.07, 'In': 114.818, 'Rb': 85.4678, 'Bk': 247.0, 'Hg': 200.592, 'Pm': 145.0, 'Pr': 140.90766, 'Am': 243.0, 'At': 210.0}\n"
     ]
    }
   ],
   "source": [
    "atom_dict = {}\n",
    "\n",
    "with open('files/atoms.txt') as file:\n",
    "    for i, line in enumerate(file):\n",
    "        if i == 0:\n",
    "            # 最初の行 (header) は無視する\n",
    "            continue\n",
    "        row = line.split('\\t')\n",
    "        # 「float らしき文字列」を抽出する\n",
    "        weight_str = float_re.search(row[3]).group()\n",
    "        atom_dict[row[1]] = float(weight_str)\n",
    "\n",
    "print(atom_dict)"
   ]
  },
  {
   "cell_type": "markdown",
   "metadata": {},
   "source": [
    "## Formula Weight Calculator"
   ]
  },
  {
   "cell_type": "markdown",
   "metadata": {},
   "source": [
    "* `'Na2CO3'` のような分子式を `Na2`, `C`, `O3` に分けたい"
   ]
  },
  {
   "cell_type": "code",
   "execution_count": 5,
   "metadata": {
    "collapsed": false,
    "run_control": {
     "frozen": false,
     "read_only": false
    }
   },
   "outputs": [
    {
     "name": "stdout",
     "output_type": "stream",
     "text": [
      "Na\n",
      "2\n",
      "(0, 3) 0 3\n"
     ]
    }
   ],
   "source": [
    "atom_re = re.compile('([A-Z][a-z]{0,2})(\\d+)?')\n",
    "\n",
    "formula = 'Na2CO3'\n",
    "match = atom_re.match(formula)\n",
    "\n",
    "print(match.group(1))\n",
    "print(match.group(2))\n",
    "print(match.span(), match.start(), match.end())"
   ]
  },
  {
   "cell_type": "markdown",
   "metadata": {},
   "source": [
    "* 捕捉グループを使って原子と数を分けることができた"
   ]
  },
  {
   "cell_type": "code",
   "execution_count": 6,
   "metadata": {
    "collapsed": false,
    "run_control": {
     "frozen": false,
     "read_only": false
    }
   },
   "outputs": [
    {
     "name": "stdout",
     "output_type": "stream",
     "text": [
      "C\n",
      "None\n",
      "(3, 4) 3 4\n"
     ]
    }
   ],
   "source": [
    "match = atom_re.match(formula, pos=3)\n",
    "\n",
    "print(match.group(1))\n",
    "print(match.group(2))\n",
    "print(match.span(), match.start(), match.end())"
   ]
  },
  {
   "cell_type": "markdown",
   "metadata": {},
   "source": [
    "* `match` メソッドの `pos=` 引数で検索を開始する位置を指定できる\n",
    "* すなわち、前回のマッチの `match.end()` を `pos=` に指定することによって次のマッチを検索できる"
   ]
  },
  {
   "cell_type": "code",
   "execution_count": 7,
   "metadata": {
    "collapsed": false,
    "run_control": {
     "frozen": false,
     "read_only": false
    },
    "scrolled": true
   },
   "outputs": [
    {
     "name": "stdout",
     "output_type": "stream",
     "text": [
      "{'O': 1, 'H': 2}\n",
      "{'Na': 2, 'O': 3, 'C': 1}\n",
      "{'C': 2, 'O': 2, 'H': 4}\n",
      "{'C': 18, 'O': 2, 'H': 36}\n",
      "{'C': 18, 'O': 2, 'H': 36}\n"
     ]
    }
   ],
   "source": [
    "def create_formula_dict(formula):\n",
    "    formula_dict = {}\n",
    "    pos = 0\n",
    "    while pos < len(formula):\n",
    "        match = atom_re.match(formula, pos=pos)\n",
    "        if match:\n",
    "            pos = match.end()\n",
    "            atom = match.group(1)\n",
    "            n_str = match.group(2)\n",
    "            n = int(n_str) if n_str else 1\n",
    "            if atom in formula_dict:\n",
    "                formula_dict[atom] += n\n",
    "            else:\n",
    "                formula_dict[atom] = n\n",
    "        else:\n",
    "            raise Exception('invalid formula')\n",
    "    return formula_dict\n",
    "\n",
    "print(create_formula_dict('H2O'))\n",
    "print(create_formula_dict('Na2CO3'))\n",
    "print(create_formula_dict('CH3COOH'))\n",
    "print(create_formula_dict('C18H36O2'))\n",
    "print(create_formula_dict('C18H36O2'))"
   ]
  },
  {
   "cell_type": "markdown",
   "metadata": {},
   "source": [
    "* マッチに失敗した場合 `raise` 文で例外 (exception) を投げてエラーを発生させている\n",
    "* `a if cond else b` は `cond` が `True` なら `a`、`False` なら `b` になる"
   ]
  },
  {
   "cell_type": "code",
   "execution_count": 9,
   "metadata": {
    "collapsed": false,
    "run_control": {
     "frozen": false,
     "read_only": false
    }
   },
   "outputs": [
    {
     "name": "stdout",
     "output_type": "stream",
     "text": [
      "18.015\n",
      "105.98753855999999\n",
      "60.05199999999999\n",
      "284.484\n"
     ]
    }
   ],
   "source": [
    "def calc_formula_weight(formula):\n",
    "    formula_dict = create_formula_dict(formula)\n",
    "    weight = 0\n",
    "    for (sym, n) in formula_dict.items():\n",
    "        weight += atom_dict[sym] * n\n",
    "    return weight\n",
    "\n",
    "print(calc_formula_weight('H2O'))\n",
    "print(calc_formula_weight('Na2CO3'))\n",
    "print(calc_formula_weight('CH3COOH'))\n",
    "print(calc_formula_weight('C18H36O2'))"
   ]
  },
  {
   "cell_type": "markdown",
   "metadata": {},
   "source": [
    "* 前の例で作った原子量の辞書と組み合わせることによって分子量（厳密には式量）の計算ができる\n",
    "* 括弧を含む式（`'(COOH)2'` など）には対応していない\n",
    "    * 括弧のような入れ子（再帰）構造を正規表現で表すことは一般にできない\n",
    "    * 括弧は別の方法で取り扱う必要がある"
   ]
  }
 ],
 "metadata": {
  "kernelspec": {
   "display_name": "Python 3",
   "language": "python",
   "name": "python3"
  },
  "language_info": {
   "codemirror_mode": {
    "name": "ipython",
    "version": 3
   },
   "file_extension": ".py",
   "mimetype": "text/x-python",
   "name": "python",
   "nbconvert_exporter": "python",
   "pygments_lexer": "ipython3",
   "version": "3.5.1"
  },
  "latex_envs": {
   "bibliofile": "biblio.bib",
   "cite_by": "apalike",
   "current_citInitial": 1,
   "eqLabelWithNumbers": true,
   "eqNumInitial": 0
  },
  "toc": {
   "toc_cell": false,
   "toc_number_sections": false,
   "toc_threshold": 6,
   "toc_window_display": true
  }
 },
 "nbformat": 4,
 "nbformat_minor": 0
}
