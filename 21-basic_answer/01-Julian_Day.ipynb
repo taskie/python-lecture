{
 "cells": [
  {
   "cell_type": "markdown",
   "metadata": {},
   "source": [
    "## 実装例"
   ]
  },
  {
   "cell_type": "code",
   "execution_count": 3,
   "metadata": {
    "collapsed": false,
    "run_control": {
     "frozen": false,
     "read_only": false
    }
   },
   "outputs": [
    {
     "name": "stdout",
     "output_type": "stream",
     "text": [
      "Year: 1999\n",
      "Month: 11\n",
      "Day: 11\n",
      "Hour: 11\n",
      "Minute: 11\n",
      "Second: 11\n",
      "Julian Day Number: 2451494\n",
      "Day of the Week: 4\n",
      "Julian Date: 2451493.966099537\n"
     ]
    }
   ],
   "source": [
    "year = int(input('Year: '))\n",
    "month = int(input('Month: '))\n",
    "day = int(input('Day: '))\n",
    "hour = int(input('Hour: '))\n",
    "minute = int(input('Minute: '))\n",
    "second = int(input('Second: '))\n",
    "\n",
    "a = (14 - month) // 12\n",
    "y = year + 4800 - a\n",
    "m = month + 12 * a - 3\n",
    "jdn = day + (153 * m + 2) // 5 + 365 * y + y // 4 - y // 100 + y // 400 - 32045\n",
    "dw = (jdn + 1) % 7\n",
    "jd = jdn + (hour - 12) / 24 + minute / 1440 + second / 86400\n",
    "\n",
    "print('Julian Day Number: ' + str(jdn))\n",
    "print('Day of the Week: ' + str(dw))\n",
    "print('Julian Date: ' + str(jd))"
   ]
  },
  {
   "cell_type": "markdown",
   "metadata": {},
   "source": [
    "### 発展：`datetime` モジュール"
   ]
  },
  {
   "cell_type": "code",
   "execution_count": 20,
   "metadata": {
    "collapsed": false,
    "run_control": {
     "frozen": false,
     "read_only": false
    }
   },
   "outputs": [
    {
     "name": "stdout",
     "output_type": "stream",
     "text": [
      "Year: 1999\n",
      "Month: 11\n",
      "Day: 11\n",
      "Hour: 11\n",
      "Minute: 11\n",
      "Second: 11\n",
      "Julian Day Number: 2451494\n",
      "Day of the Week: 4\n",
      "Julian Date: 2451493.966099537\n"
     ]
    }
   ],
   "source": [
    "import datetime\n",
    "\n",
    "year = int(input('Year: '))\n",
    "month = int(input('Month: '))\n",
    "day = int(input('Day: '))\n",
    "hour = int(input('Hour: '))\n",
    "minute = int(input('Minute: '))\n",
    "second = int(input('Second: '))\n",
    "\n",
    "dt = datetime.datetime(year, month, day, hour, minute, second, tzinfo=datetime.timezone.utc)\n",
    "jdn = dt.toordinal() + 1721425\n",
    "dw = dt.isoweekday()\n",
    "jd = dt.timestamp() / 86400 + 2440587.5\n",
    "\n",
    "print('Julian Day Number: ' + str(jdn))\n",
    "print('Day of the Week: ' + str(dw))\n",
    "print('Julian Date: ' + str(jd))"
   ]
  }
 ],
 "metadata": {
  "kernelspec": {
   "display_name": "Python 3",
   "language": "python",
   "name": "python3"
  },
  "language_info": {
   "codemirror_mode": {
    "name": "ipython",
    "version": 3
   },
   "file_extension": ".py",
   "mimetype": "text/x-python",
   "name": "python",
   "nbconvert_exporter": "python",
   "pygments_lexer": "ipython3",
   "version": "3.5.1"
  },
  "latex_envs": {
   "bibliofile": "biblio.bib",
   "cite_by": "apalike",
   "current_citInitial": 1,
   "eqLabelWithNumbers": true,
   "eqNumInitial": 0
  },
  "toc": {
   "toc_cell": false,
   "toc_number_sections": false,
   "toc_threshold": 6,
   "toc_window_display": true
  }
 },
 "nbformat": 4,
 "nbformat_minor": 0
}
