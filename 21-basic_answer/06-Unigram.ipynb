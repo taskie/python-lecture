{
 "cells": [
  {
   "cell_type": "markdown",
   "metadata": {},
   "source": [
    "## 実装例"
   ]
  },
  {
   "cell_type": "code",
   "execution_count": 1,
   "metadata": {
    "collapsed": false,
    "run_control": {
     "frozen": false,
     "read_only": false
    }
   },
   "outputs": [
    {
     "name": "stdout",
     "output_type": "stream",
     "text": [
      "File Path: ../20-basic/files/hello.txt\n",
      "H: 1\n",
      "d: 3\n",
      "!: 2\n",
      "y: 1\n",
      " : 2\n",
      "o: 5\n",
      "G: 1\n",
      "l: 4\n",
      "b: 1\n",
      "w: 2\n",
      "r: 2\n",
      "e: 2\n",
      ",: 2\n"
     ]
    }
   ],
   "source": [
    "path = input('File Path: ')\n",
    "freq_table = {}\n",
    "with open(path) as file:\n",
    "    for line in file:\n",
    "        for c in line.rstrip():\n",
    "            if c in freq_table:\n",
    "                freq_table[c] += 1\n",
    "            else:\n",
    "                freq_table[c] = 1\n",
    "for (c, i) in freq_table.items():\n",
    "    print('{0}: {1}'.format(c, i))"
   ]
  },
  {
   "cell_type": "markdown",
   "metadata": {},
   "source": [
    "### 発展：`get` メソッド"
   ]
  },
  {
   "cell_type": "code",
   "execution_count": 11,
   "metadata": {
    "collapsed": false,
    "run_control": {
     "frozen": false,
     "read_only": false
    }
   },
   "outputs": [
    {
     "name": "stdout",
     "output_type": "stream",
     "text": [
      "File Path: ../20-basic/files/hello.txt\n",
      "H: 1\n",
      "d: 3\n",
      "!: 2\n",
      "y: 1\n",
      " : 2\n",
      "o: 5\n",
      "G: 1\n",
      "l: 4\n",
      "b: 1\n",
      "w: 2\n",
      "r: 2\n",
      "e: 2\n",
      ",: 2\n"
     ]
    }
   ],
   "source": [
    "path = input('File Path: ')\n",
    "freq_table = {}\n",
    "with open(path) as file:\n",
    "    for line in file:\n",
    "        for c in line.rstrip():\n",
    "            freq_table[c] = freq_table.get(c, 0) + 1\n",
    "for (c, i) in freq_table.items():\n",
    "    print('{0}: {1}'.format(c, i))"
   ]
  },
  {
   "cell_type": "markdown",
   "metadata": {},
   "source": [
    "### 発展：出現頻度が高い順に並べる"
   ]
  },
  {
   "cell_type": "code",
   "execution_count": 12,
   "metadata": {
    "collapsed": false,
    "run_control": {
     "frozen": false,
     "read_only": false
    }
   },
   "outputs": [
    {
     "name": "stdout",
     "output_type": "stream",
     "text": [
      "File Path: ../20-basic/files/hello.txt\n",
      "o: 5\n",
      "l: 4\n",
      "d: 3\n",
      "!: 2\n",
      " : 2\n",
      "w: 2\n",
      "r: 2\n",
      "e: 2\n",
      ",: 2\n",
      "H: 1\n",
      "y: 1\n",
      "G: 1\n",
      "b: 1\n"
     ]
    }
   ],
   "source": [
    "path = input('File Path: ')\n",
    "freq_table = {}\n",
    "with open(path) as file:\n",
    "    for line in file:\n",
    "        for c in line.rstrip():\n",
    "            freq_table[c] = freq_table.get(c, 0) + 1\n",
    "for (c, i) in sorted(freq_table.items(), key=lambda x: -x[1]):\n",
    "    print('{0}: {1}'.format(c, i))"
   ]
  },
  {
   "cell_type": "markdown",
   "metadata": {},
   "source": [
    "### 発展：`Counter`"
   ]
  },
  {
   "cell_type": "code",
   "execution_count": 23,
   "metadata": {
    "collapsed": false,
    "run_control": {
     "frozen": false,
     "read_only": false
    }
   },
   "outputs": [
    {
     "name": "stdout",
     "output_type": "stream",
     "text": [
      "File Path: ../20-basic/files/hello.txt\n",
      "o: 5\n",
      "l: 4\n",
      "d: 3\n",
      "!: 2\n",
      " : 2\n",
      "w: 2\n",
      "r: 2\n",
      "e: 2\n",
      ",: 2\n",
      "H: 1\n"
     ]
    }
   ],
   "source": [
    "import collections\n",
    "\n",
    "path = input('File Path: ')\n",
    "freq_table = collections.Counter()\n",
    "with open(path) as file:\n",
    "    for line in file:\n",
    "        freq_table.update(c for c in line.rstrip())\n",
    "for (c, i) in freq_table.most_common(10):\n",
    "    print('{0}: {1}'.format(c, i))"
   ]
  },
  {
   "cell_type": "markdown",
   "metadata": {},
   "source": [
    "### 発展：N-gram"
   ]
  },
  {
   "cell_type": "code",
   "execution_count": 28,
   "metadata": {
    "collapsed": false,
    "run_control": {
     "frozen": false,
     "read_only": false
    }
   },
   "outputs": [
    {
     "name": "stdout",
     "output_type": "stream",
     "text": [
      "N = 3\n",
      "File Path: ../20-basic/files/hello.txt\n",
      ", w: 2\n",
      " wo: 2\n",
      "ld!: 2\n",
      "orl: 2\n",
      "rld: 2\n",
      "wor: 2\n",
      "ell: 1\n",
      "Goo: 1\n",
      "llo: 1\n",
      "o, : 1\n"
     ]
    }
   ],
   "source": [
    "import collections\n",
    "\n",
    "n = int(input('N = '))\n",
    "path = input('File Path: ')\n",
    "freq_table = collections.Counter()\n",
    "with open(path, encoding='utf-8') as file:\n",
    "    for line in file:\n",
    "        line = line.rstrip()\n",
    "        l = len(line) - n + 1\n",
    "        freq_table.update(line[i : i + n] for i in range(l))\n",
    "for (c, i) in freq_table.most_common(10):\n",
    "    print('{0}: {1}'.format(c, i))"
   ]
  }
 ],
 "metadata": {
  "kernelspec": {
   "display_name": "Python 3",
   "language": "python",
   "name": "python3"
  },
  "language_info": {
   "codemirror_mode": {
    "name": "ipython",
    "version": 3
   },
   "file_extension": ".py",
   "mimetype": "text/x-python",
   "name": "python",
   "nbconvert_exporter": "python",
   "pygments_lexer": "ipython3",
   "version": "3.5.1"
  },
  "latex_envs": {
   "bibliofile": "biblio.bib",
   "cite_by": "apalike",
   "current_citInitial": 1,
   "eqLabelWithNumbers": true,
   "eqNumInitial": 0
  },
  "toc": {
   "toc_cell": false,
   "toc_number_sections": false,
   "toc_threshold": 6,
   "toc_window_display": true
  }
 },
 "nbformat": 4,
 "nbformat_minor": 0
}
