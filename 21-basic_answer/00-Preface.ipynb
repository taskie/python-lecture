{
 "cells": [
  {
   "cell_type": "markdown",
   "metadata": {},
   "source": [
    "**00**"
   ]
  },
  {
   "cell_type": "markdown",
   "metadata": {},
   "source": [
    "* 「実装例」は Python の基本的な機能のみを使って実装されています\n",
    "    * Lecture に出てきた内容を組み合わせたコードになっているはずです\n",
    "    * Python 以外の言語でも同等のコードを書くことは（おそらく）容易なはずです\n",
    "* 「発展」は主に Python のモジュールを利用した解法です\n",
    "    * Python の機能に依存していますが効率的な実装です"
   ]
  }
 ],
 "metadata": {
  "kernelspec": {
   "display_name": "Python 3",
   "language": "python",
   "name": "python3"
  },
  "language_info": {
   "codemirror_mode": {
    "name": "ipython",
    "version": 3
   },
   "file_extension": ".py",
   "mimetype": "text/x-python",
   "name": "python",
   "nbconvert_exporter": "python",
   "pygments_lexer": "ipython3",
   "version": "3.5.1"
  },
  "toc": {
   "toc_cell": false,
   "toc_number_sections": false,
   "toc_threshold": 6,
   "toc_window_display": true
  }
 },
 "nbformat": 4,
 "nbformat_minor": 0
}
