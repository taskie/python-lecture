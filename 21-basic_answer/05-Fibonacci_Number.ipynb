{
 "cells": [
  {
   "cell_type": "markdown",
   "metadata": {},
   "source": [
    "**05**\n",
    "\n",
    "# Answer"
   ]
  },
  {
   "cell_type": "markdown",
   "metadata": {},
   "source": [
    "## 実装例"
   ]
  },
  {
   "cell_type": "code",
   "execution_count": 1,
   "metadata": {
    "collapsed": false,
    "run_control": {
     "frozen": false,
     "read_only": false
    }
   },
   "outputs": [
    {
     "name": "stdout",
     "output_type": "stream",
     "text": [
      "n = 3\n",
      "m = 10\n",
      "0 0 1 1 2 4 7 13 24 44 81\n"
     ]
    }
   ],
   "source": [
    "n = int(input('n = '))\n",
    "m = int(input('m = '))\n",
    "\n",
    "# fs を初期化（fs[0] から fs[m] までの (m + 1) 要素が存在）\n",
    "fs = [0] * (m + 1)\n",
    "\n",
    "# m = n - 2 (len(fs) = m + 1 = n - 1) の場合 fs[n - 1] は存在せずエラーになるため場合分けする\n",
    "if len(fs) > n - 1:\n",
    "    fs[n - 1] = 1\n",
    "\n",
    "for k in range(n, len(fs)):\n",
    "    fs[k] = sum(fs[k - n:k])\n",
    "\n",
    "print(' '.join([str(f) for f in fs]))"
   ]
  },
  {
   "cell_type": "markdown",
   "metadata": {},
   "source": [
    "### 発展：ジェネレータ"
   ]
  },
  {
   "cell_type": "code",
   "execution_count": 3,
   "metadata": {
    "collapsed": false,
    "run_control": {
     "frozen": false,
     "read_only": false
    },
    "scrolled": true
   },
   "outputs": [
    {
     "name": "stdout",
     "output_type": "stream",
     "text": [
      "n = 3\n",
      "m = 10\n",
      "0 0 1 1 2 4 7 13 24 44 81\n"
     ]
    }
   ],
   "source": [
    "def nnacci(n = 2):\n",
    "    xs = [0] * n\n",
    "    xs[-1] = 1\n",
    "    # 最初の n 要素を返す\n",
    "    for x in xs:\n",
    "        yield x\n",
    "    while True:\n",
    "        # リストの要素の総和が新しい要素になる\n",
    "        x = sum(xs)\n",
    "        # リストの要素を 1 つ前にずらす\n",
    "        xs[:-1] = xs[1:]\n",
    "        # 末尾を新しい要素にする\n",
    "        xs[-1] = x\n",
    "        yield x\n",
    "\n",
    "n = int(input('n = '))\n",
    "m = int(input('m = '))\n",
    "\n",
    "# generator オブジェクトを生成\n",
    "gen = nnacci(n)\n",
    "print(' '.join(str(next(gen)) for i in range(m + 1)))"
   ]
  },
  {
   "cell_type": "markdown",
   "metadata": {},
   "source": [
    "### 発展：`deque`"
   ]
  },
  {
   "cell_type": "code",
   "execution_count": 4,
   "metadata": {
    "collapsed": false,
    "run_control": {
     "frozen": false,
     "read_only": false
    },
    "scrolled": true
   },
   "outputs": [
    {
     "name": "stdout",
     "output_type": "stream",
     "text": [
      "n = 3\n",
      "m = 10\n",
      "0 0 1 1 2 4 7 13 24 44 81\n"
     ]
    }
   ],
   "source": [
    "import itertools\n",
    "import collections\n",
    "\n",
    "def nnacci(n = 2):\n",
    "    xs = collections.deque(itertools.repeat(0, n), n)\n",
    "    xs[-1] = 1\n",
    "    # 最初の n 要素を返す\n",
    "    for x in xs:\n",
    "        yield x\n",
    "    while True:\n",
    "        # リストの要素の総和が新しい要素になる\n",
    "        x = sum(xs)\n",
    "        # リストの要素を 1 つ前にずらす\n",
    "        xs.popleft()\n",
    "        # 末尾を新しい要素にする\n",
    "        xs.append(x)\n",
    "        yield x\n",
    "\n",
    "n = int(input('n = '))\n",
    "m = int(input('m = '))\n",
    "\n",
    "# generator オブジェクトを生成\n",
    "gen = nnacci(n)\n",
    "print(' '.join(str(next(gen)) for i in range(m + 1)))"
   ]
  }
 ],
 "metadata": {
  "kernelspec": {
   "display_name": "Python 3",
   "language": "python",
   "name": "python3"
  },
  "language_info": {
   "codemirror_mode": {
    "name": "ipython",
    "version": 3
   },
   "file_extension": ".py",
   "mimetype": "text/x-python",
   "name": "python",
   "nbconvert_exporter": "python",
   "pygments_lexer": "ipython3",
   "version": "3.5.1"
  },
  "latex_envs": {
   "bibliofile": "biblio.bib",
   "cite_by": "apalike",
   "current_citInitial": 1,
   "eqLabelWithNumbers": true,
   "eqNumInitial": 0
  },
  "toc": {
   "toc_cell": false,
   "toc_number_sections": false,
   "toc_threshold": 6,
   "toc_window_display": true
  }
 },
 "nbformat": 4,
 "nbformat_minor": 0
}
