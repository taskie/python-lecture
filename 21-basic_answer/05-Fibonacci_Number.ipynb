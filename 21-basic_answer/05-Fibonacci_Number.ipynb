{
  "nbformat": 4,
  "nbformat_minor": 0,
  "cells": [
    {
      "cell_type": "markdown",
      "source": [
        "## 実装例"
      ],
      "metadata": {}
    },
    {
      "cell_type": "code",
      "execution_count": 1,
      "source": [
        "n = int(input('n = '))\n",
        "m = int(input('m = '))\n",
        "\n",
        "# fs を初期化（fs[0] から fs[m] までの (m + 1) 要素が存在）\n",
        "fs = [0] * (m + 1)\n",
        "\n",
        "# m = n - 2 (len(fs) = m + 1 = n - 1) の場合 fs[n - 1] は存在せずエラーになるため場合分けする\n",
        "if len(fs) > n - 1:\n",
        "    fs[n - 1] = 1\n",
        "\n",
        "for k in range(n, len(fs)):\n",
        "    fs[k] = sum(fs[k - n:k])\n",
        "\n",
        "print(' '.join([str(f) for f in fs]))"
      ],
      "metadata": {
        "run_control": {
          "frozen": false,
          "read_only": false
        },
        "collapsed": false
      },
      "outputs": [
        {
          "text": [
            "n = 3\n",
            "m = 10\n",
            "0 0 1 1 2 4 7 13 24 44 81\n"
          ],
          "output_type": "stream",
          "name": "stdout"
        }
      ]
    },
    {
      "cell_type": "markdown",
      "source": [
        "### 発展：ジェネレータ"
      ],
      "metadata": {}
    },
    {
      "cell_type": "code",
      "execution_count": 2,
      "source": [
        "n = int(input('n = '))\n",
        "m = int(input('m = '))\n",
        "\n",
        "# fs を初期化（fs[0] から fs[m] までの (m + 1) 要素が存在）\n",
        "fs = [0] * (m + 1)\n",
        "\n",
        "# m = n - 2 (len(fs) = m + 1 = n - 1) の場合 fs[n - 1] は存在せずエラーになるため場合分けする\n",
        "if len(fs) > n - 1:\n",
        "    fs[n - 1] = 1\n",
        "\n",
        "for k in range(n, len(fs)):\n",
        "    fs[k] = sum(fs[k - n:k])\n",
        "\n",
        "print(' '.join(str(f) for f in fs))"
      ],
      "metadata": {
        "run_control": {
          "frozen": false,
          "read_only": false
        },
        "scrolled": true,
        "collapsed": false
      },
      "outputs": [
        {
          "text": [
            "n = 3\n",
            "m = 10\n",
            "0 0 1 1 2 4 7 13 24 44 81\n"
          ],
          "output_type": "stream",
          "name": "stdout"
        }
      ]
    },
    {
      "cell_type": "markdown",
      "source": [
        "### 発展：`yield`"
      ],
      "metadata": {}
    },
    {
      "cell_type": "code",
      "execution_count": 3,
      "source": [
        "def nnacci(n = 2):\n",
        "    xs = [0] * n\n",
        "    xs[-1] = 1\n",
        "    # 最初の n 要素を返す\n",
        "    for x in xs:\n",
        "        yield x\n",
        "    while True:\n",
        "        # リストの要素の総和が新しい要素になる\n",
        "        x = sum(xs)\n",
        "        # リストの要素を 1 つ前にずらす\n",
        "        xs[:-1] = xs[1:]\n",
        "        # 末尾を新しい要素にする\n",
        "        xs[-1] = x\n",
        "        yield x\n",
        "\n",
        "n = int(input('n = '))\n",
        "m = int(input('m = '))\n",
        "\n",
        "# generator オブジェクトを生成\n",
        "gen = nnacci(n)\n",
        "print(' '.join(str(next(gen)) for i in range(m + 1)))"
      ],
      "metadata": {
        "run_control": {
          "frozen": false,
          "read_only": false
        },
        "scrolled": true,
        "collapsed": false
      },
      "outputs": [
        {
          "text": [
            "n = 3\n",
            "m = 10\n",
            "0 0 1 1 2 4 7 13 24 44 81\n"
          ],
          "output_type": "stream",
          "name": "stdout"
        }
      ]
    },
    {
      "cell_type": "markdown",
      "source": [
        "### 発展：`deque`"
      ],
      "metadata": {}
    },
    {
      "cell_type": "code",
      "execution_count": 4,
      "source": [
        "import itertools\n",
        "import collections\n",
        "\n",
        "def nnacci(n = 2):\n",
        "    xs = collections.deque(itertools.repeat(0, n), n)\n",
        "    xs[-1] = 1\n",
        "    # 最初の n 要素を返す\n",
        "    for x in xs:\n",
        "        yield x\n",
        "    while True:\n",
        "        # リストの要素の総和が新しい要素になる\n",
        "        x = sum(xs)\n",
        "        # リストの要素を 1 つ前にずらす\n",
        "        xs.popleft()\n",
        "        # 末尾を新しい要素にする\n",
        "        xs.append(x)\n",
        "        yield x\n",
        "\n",
        "n = int(input('n = '))\n",
        "m = int(input('m = '))\n",
        "\n",
        "# generator オブジェクトを生成\n",
        "gen = nnacci(n)\n",
        "print(' '.join(str(next(gen)) for i in range(m + 1)))"
      ],
      "metadata": {
        "run_control": {
          "frozen": false,
          "read_only": false
        },
        "scrolled": true,
        "collapsed": false
      },
      "outputs": [
        {
          "text": [
            "n = 3\n",
            "m = 10\n",
            "0 0 1 1 2 4 7 13 24 44 81\n"
          ],
          "output_type": "stream",
          "name": "stdout"
        }
      ]
    }
  ],
  "metadata": {
    "toc": {
      "toc_threshold": 6,
      "toc_number_sections": false,
      "toc_cell": false,
      "toc_window_display": true
    },
    "kernelspec": {
      "display_name": "Python 3",
      "language": "python",
      "name": "python3"
    },
    "language_info": {
      "mimetype": "text/x-python",
      "codemirror_mode": {
        "name": "ipython",
        "version": 3
      },
      "nbconvert_exporter": "python",
      "name": "python",
      "pygments_lexer": "ipython3",
      "file_extension": ".py",
      "version": "3.5.1"
    },
    "latex_envs": {
      "eqNumInitial": 0,
      "eqLabelWithNumbers": true,
      "bibliofile": "biblio.bib",
      "cite_by": "apalike",
      "current_citInitial": 1
    }
  }
}