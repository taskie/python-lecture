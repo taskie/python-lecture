{
 "cells": [
  {
   "cell_type": "markdown",
   "metadata": {},
   "source": [
    "## 実装例"
   ]
  },
  {
   "cell_type": "code",
   "execution_count": 61,
   "metadata": {
    "collapsed": true,
    "run_control": {
     "frozen": false,
     "read_only": false
    }
   },
   "outputs": [],
   "source": [
    "def integrate(f, a, b, step=1000):\n",
    "    h = (b - a) / step\n",
    "    h_half = h / 2\n",
    "    result = 0\n",
    "    for n in range(step):\n",
    "        x = a + n * h + h_half\n",
    "        result += f(x)\n",
    "    return h * result"
   ]
  },
  {
   "cell_type": "code",
   "execution_count": 62,
   "metadata": {
    "collapsed": false,
    "run_control": {
     "frozen": false,
     "read_only": false
    },
    "scrolled": true
   },
   "outputs": [
    {
     "name": "stdout",
     "output_type": "stream",
     "text": [
      "step:       1 | pi: 3.200000000000000 | diff: +0.058407346410207\n",
      "step:     100 | pi: 3.141600986923125 | diff: +0.000008333333332\n",
      "step:   10000 | pi: 3.141592654423134 | diff: +0.000000000833341\n",
      "step: 1000000 | pi: 3.141592653589764 | diff: -0.000000000000029\n",
      "1 loop, best of 3: 748 ms per loop\n"
     ]
    }
   ],
   "source": [
    "import math\n",
    "\n",
    "def f(x):\n",
    "    return 1 / (x ** 2 + 1)\n",
    "\n",
    "def check_precision(step):\n",
    "    result = 4 * integrate(f, 0, 1, step=step)\n",
    "    s = 'step: {0:7d} | pi: {1:.15f} | diff: {2:+.15f}'\n",
    "    print(s.format(step, result, result - math.pi))\n",
    "\n",
    "for step in [1, 100, 10000, 1000000]:\n",
    "    check_precision(step)\n",
    "\n",
    "%timeit integrate(f, 0, 1, step=1000000)"
   ]
  },
  {
   "cell_type": "markdown",
   "metadata": {},
   "source": [
    "### 発展：SciPy"
   ]
  },
  {
   "cell_type": "code",
   "execution_count": 63,
   "metadata": {
    "collapsed": true,
    "run_control": {
     "frozen": false,
     "read_only": false
    }
   },
   "outputs": [],
   "source": [
    "import scipy.integrate"
   ]
  },
  {
   "cell_type": "code",
   "execution_count": 64,
   "metadata": {
    "collapsed": false,
    "run_control": {
     "frozen": false,
     "read_only": false
    }
   },
   "outputs": [
    {
     "name": "stdout",
     "output_type": "stream",
     "text": [
      "pi: 3.141592653589794 | diff: +0.000000000000000\n",
      "10000 loops, best of 3: 20.6 µs per loop\n"
     ]
    }
   ],
   "source": [
    "(result, error) = scipy.integrate.quad(f, 0, 1)\n",
    "result *= 4\n",
    "s = 'pi: {0:.15f} | diff: {1:+.15f}'\n",
    "print(s.format(result, result - math.pi))\n",
    "\n",
    "%timeit scipy.integrate.quad(f, 0, 1)"
   ]
  },
  {
   "cell_type": "markdown",
   "metadata": {},
   "source": [
    "* SciPy にはより汎用的な数値積分用の関数が用意されている"
   ]
  }
 ],
 "metadata": {
  "kernelspec": {
   "display_name": "Python 3",
   "language": "python",
   "name": "python3"
  },
  "language_info": {
   "codemirror_mode": {
    "name": "ipython",
    "version": 3
   },
   "file_extension": ".py",
   "mimetype": "text/x-python",
   "name": "python",
   "nbconvert_exporter": "python",
   "pygments_lexer": "ipython3",
   "version": "3.5.1"
  },
  "latex_envs": {
   "bibliofile": "biblio.bib",
   "cite_by": "apalike",
   "current_citInitial": 1,
   "eqLabelWithNumbers": true,
   "eqNumInitial": 0
  },
  "toc": {
   "toc_cell": false,
   "toc_number_sections": false,
   "toc_threshold": 6,
   "toc_window_display": true
  }
 },
 "nbformat": 4,
 "nbformat_minor": 0
}
