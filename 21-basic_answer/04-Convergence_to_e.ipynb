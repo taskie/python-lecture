{
 "cells": [
  {
   "cell_type": "markdown",
   "metadata": {},
   "source": [
    "## 実装例"
   ]
  },
  {
   "cell_type": "code",
   "execution_count": 1,
   "metadata": {
    "collapsed": false,
    "run_control": {
     "frozen": false,
     "read_only": false
    }
   },
   "outputs": [
    {
     "name": "stdout",
     "output_type": "stream",
     "text": [
      "m_start = 0\n",
      "m_stop  = 10\n",
      "m_step  = 3\n",
      "m:  0 | e: 1.0000000000000000\n",
      "m:  3 | e: 2.6666666666666665\n",
      "m:  6 | e: 2.7180555555555554\n",
      "m:  9 | e: 2.7182815255731922\n"
     ]
    }
   ],
   "source": [
    "m_start = int(input('m_start = '))\n",
    "m_stop = int(input('m_stop  = '))\n",
    "m_step = int(input('m_step  = '))\n",
    "l = len(str(m_stop))\n",
    "for m in range(m_start, m_stop + 1, m_step):\n",
    "    e = 0\n",
    "    for n in range(0, m + 1):\n",
    "        fac = 1\n",
    "        for k in range(1, n + 1):\n",
    "            fac *= k\n",
    "        e += 1 / fac\n",
    "    print('m: {0:{1}d} | e: {2:.16f}'.format(m, l, e))"
   ]
  },
  {
   "cell_type": "markdown",
   "metadata": {},
   "source": [
    "### 発展：誤差"
   ]
  },
  {
   "cell_type": "code",
   "execution_count": 5,
   "metadata": {
    "collapsed": false,
    "run_control": {
     "frozen": false,
     "read_only": false
    },
    "scrolled": true
   },
   "outputs": [
    {
     "name": "stdout",
     "output_type": "stream",
     "text": [
      "m_start = 0\n",
      "m_stop  = 10\n",
      "m_step  = 1\n",
      "m:  0 | e: 2.0000000000000000\n",
      "m:  1 | e: 2.5000000000000000\n",
      "m:  2 | e: 2.6666666666666665\n",
      "m:  3 | e: 2.7083333333333330\n",
      "m:  4 | e: 2.7166666666666668\n",
      "m:  5 | e: 2.7180555555555554\n",
      "m:  6 | e: 2.7182539682539684\n",
      "m:  7 | e: 2.7182787698412696\n",
      "m:  8 | e: 2.7182815255731922\n",
      "m:  9 | e: 2.7182818011463845\n",
      "m: 10 | e: 2.7182818261984929\n"
     ]
    }
   ],
   "source": [
    "import math\n",
    "\n",
    "m_start = int(input('m_start = '))\n",
    "m_stop = int(input('m_stop  = '))\n",
    "m_step = int(input('m_step  = '))\n",
    "l = len(str(m_stop))\n",
    "for m in range(m_start, m_stop + 1, m_step):\n",
    "    e = 0\n",
    "    for n in range(m + 1, -1, -1):\n",
    "        fac = 1\n",
    "        for k in range(1, n + 1):\n",
    "            fac *= k\n",
    "        e += 1 / fac\n",
    "    print('m: {0:{1}d} | e: {2:.16f}'.format(m, l, e))"
   ]
  },
  {
   "cell_type": "markdown",
   "metadata": {
    "code_folding": [],
    "collapsed": true
   },
   "source": [
    "* 大きな数に小さな数を足すと、小さな数の下位桁が捨てられ誤差が生じやすくなる（情報落ち）\n",
    "* すなわち、数列を大きい方から足して総和を出そうとすると情報落ちが起きやすくなる（積み残し）\n",
    "    * 小さい方から足す（小さい数同士を先に足す）のが定石"
   ]
  },
  {
   "cell_type": "markdown",
   "metadata": {},
   "source": [
    "### 発展：`math.factorial`"
   ]
  },
  {
   "cell_type": "code",
   "execution_count": 9,
   "metadata": {
    "collapsed": false,
    "run_control": {
     "frozen": false,
     "read_only": false
    }
   },
   "outputs": [
    {
     "name": "stdout",
     "output_type": "stream",
     "text": [
      "m_start = 0\n",
      "m_stop  = 30\n",
      "m_step  = 3\n",
      "m:  0 | e: 2.0000000000000000\n",
      "m:  3 | e: 2.7083333333333330\n",
      "m:  6 | e: 2.7182539682539684\n",
      "m:  9 | e: 2.7182818011463845\n",
      "m: 12 | e: 2.7182818284467589\n",
      "m: 15 | e: 2.7182818284590420\n",
      "m: 18 | e: 2.7182818284590451\n",
      "m: 21 | e: 2.7182818284590451\n",
      "m: 24 | e: 2.7182818284590451\n",
      "m: 27 | e: 2.7182818284590451\n",
      "m: 30 | e: 2.7182818284590451\n"
     ]
    }
   ],
   "source": [
    "import math\n",
    "\n",
    "m_start = int(input('m_start = '))\n",
    "m_stop = int(input('m_stop  = '))\n",
    "m_step = int(input('m_step  = '))\n",
    "l = len(str(m_stop))\n",
    "for m in range(m_start, m_stop + 1, m_step):\n",
    "    e = 0\n",
    "    for n in range(m + 1, -1, -1):\n",
    "        e += 1 / math.factorial(n)\n",
    "    print('m: {0:{1}d} | e: {2:.16f}'.format(m, l, e))"
   ]
  },
  {
   "cell_type": "markdown",
   "metadata": {},
   "source": [
    "### 発展：decimal"
   ]
  },
  {
   "cell_type": "code",
   "execution_count": 12,
   "metadata": {
    "collapsed": false,
    "run_control": {
     "frozen": false,
     "read_only": false
    }
   },
   "outputs": [
    {
     "name": "stdout",
     "output_type": "stream",
     "text": [
      "m_start = 0\n",
      "m_stop  = 100\n",
      "m_step  = 10\n",
      "m:   0 | e: 2\n",
      "m:  10 | e: 2.718281826198492865159531826198492865159531826198492865159531826198492865159531826198492865159531826\n",
      "m:  20 | e: 2.718281828459045235359357431729807147377251008913767151131839263968875614270181020424544301498158631\n",
      "m:  30 | e: 2.718281828459045235360287471352662493838206286335276778812847145753007773269710432857123129729332663\n",
      "m:  40 | e: 2.718281828459045235360287471352662497757247093699958846289456201786842269068681277229847313249938347\n",
      "m:  50 | e: 2.718281828459045235360287471352662497757247093699959574966967627724063994017594255990880535444070256\n",
      "m:  60 | e: 2.718281828459045235360287471352662497757247093699959574966967627724076630353547594571349889813077111\n",
      "m:  70 | e: 2.718281828459045235360287471352662497757247093699959574966967627724076630353547594571382178525166428\n",
      "m:  80 | e: 2.718281828459045235360287471352662497757247093699959574966967627724076630353547594571382178525166428\n",
      "m:  90 | e: 2.718281828459045235360287471352662497757247093699959574966967627724076630353547594571382178525166428\n",
      "m: 100 | e: 2.718281828459045235360287471352662497757247093699959574966967627724076630353547594571382178525166428\n"
     ]
    }
   ],
   "source": [
    "import decimal\n",
    "\n",
    "decimal.getcontext().prec = 100\n",
    "\n",
    "m_start = int(input('m_start = '))\n",
    "m_stop = int(input('m_stop  = '))\n",
    "m_step = int(input('m_step  = '))\n",
    "l = len(str(m_stop))\n",
    "for m in range(m_start, m_stop + 1, m_step):\n",
    "    e = decimal.Decimal(0)\n",
    "    for n in range(m + 1, -1, -1):\n",
    "        e += decimal.Decimal(1) / math.factorial(n)\n",
    "    print('m: {0:{1}d} | e: {2}'.format(m, l, e))"
   ]
  },
  {
   "cell_type": "markdown",
   "metadata": {},
   "source": [
    "### 発展：fractions"
   ]
  },
  {
   "cell_type": "code",
   "execution_count": 13,
   "metadata": {
    "collapsed": false,
    "run_control": {
     "frozen": false,
     "read_only": false
    }
   },
   "outputs": [
    {
     "name": "stdout",
     "output_type": "stream",
     "text": [
      "m_start = 0\n",
      "m_stop  = 30\n",
      "m_step  = 3\n",
      "m:  0 | e: 2\n",
      "m:  3 | e: 65/24\n",
      "m:  6 | e: 685/252\n",
      "m:  9 | e: 9864101/3628800\n",
      "m: 12 | e: 8463398743/3113510400\n",
      "m: 15 | e: 56874039553217/20922789888000\n",
      "m: 18 | e: 82666416490601/30411275102208\n",
      "m: 21 | e: 611070150698522592097/224800145555521536000\n",
      "m: 24 | e: 85351903640077042215979/31399210614030336000000\n",
      "m: 27 | e: 828772446866981044847857913441/304888344611713860501504000000\n",
      "m: 30 | e: 5587998223000619694886681981376183/2055709663544480704431390720000000\n"
     ]
    }
   ],
   "source": [
    "import fractions\n",
    "\n",
    "m_start = int(input('m_start = '))\n",
    "m_stop = int(input('m_stop  = '))\n",
    "m_step = int(input('m_step  = '))\n",
    "l = len(str(m_stop))\n",
    "for m in range(m_start, m_stop + 1, m_step):\n",
    "    e = fractions.Fraction(0)\n",
    "    for n in range(m + 1, -1, -1):\n",
    "        e += fractions.Fraction(1) / math.factorial(n)\n",
    "    print('m: {0:{1}d} | e: {2}'.format(m, l, e))"
   ]
  },
  {
   "cell_type": "code",
   "execution_count": 14,
   "metadata": {
    "collapsed": false,
    "run_control": {
     "frozen": false,
     "read_only": false
    }
   },
   "outputs": [
    {
     "data": {
      "text/plain": [
       "Decimal('2.718281828459045235360287471352662493838206286335276778812847145753007773269710432857123129729332663')"
      ]
     },
     "execution_count": 14,
     "metadata": {},
     "output_type": "execute_result"
    }
   ],
   "source": [
    "e.numerator / decimal.Decimal(e.denominator)"
   ]
  }
 ],
 "metadata": {
  "kernelspec": {
   "display_name": "Python 3",
   "language": "python",
   "name": "python3"
  },
  "language_info": {
   "codemirror_mode": {
    "name": "ipython",
    "version": 3
   },
   "file_extension": ".py",
   "mimetype": "text/x-python",
   "name": "python",
   "nbconvert_exporter": "python",
   "pygments_lexer": "ipython3",
   "version": "3.5.1"
  },
  "latex_envs": {
   "bibliofile": "biblio.bib",
   "cite_by": "apalike",
   "current_citInitial": 1,
   "eqLabelWithNumbers": true,
   "eqNumInitial": 0
  },
  "toc": {
   "toc_cell": false,
   "toc_number_sections": false,
   "toc_threshold": 6,
   "toc_window_display": true
  }
 },
 "nbformat": 4,
 "nbformat_minor": 0
}
